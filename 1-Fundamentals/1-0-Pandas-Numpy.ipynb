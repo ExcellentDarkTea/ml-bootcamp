{
 "cells": [
  {
   "cell_type": "markdown",
   "metadata": {
    "id": "6bbb4b6a"
   },
   "source": [
    "# Домашнє завдання до теми \"Введення у Pandas та NumPy\""
   ]
  },
  {
   "cell_type": "markdown",
   "metadata": {
    "id": "7ef4e602"
   },
   "source": [
    "У домашніх завданнях цього модулю ми працюємо з набором даних про продажі в різних магазинах мережі супермаркетів.\n",
    "\n",
    "## Контекст даних\n",
    "Зростання супермаркетів у найбільш населених містах збільшується, а конкуренція на ринку також висока. Набір даних є вигрузкою історичних продажів компанії-мережі супермаркетів у 3х різних філіях протягом 3 місяців.\n",
    "\n",
    "**Ціль:** Цей набір даних може бути використаний для цілей розуміння тенденцій продажів, які товари в якому місті варто продавати, а поставку яких - варто скоротити. На основі цих даних можна оцінити майбутні тенденції продажів, оцінити поведінку споживачів та оптимізувати стратегію продажів.\n",
    "\n"
   ]
  },
  {
   "cell_type": "code",
   "execution_count": 3,
   "metadata": {
    "id": "jA1fRzz4AOsE"
   },
   "outputs": [],
   "source": [
    "import pandas as pd"
   ]
  },
  {
   "cell_type": "markdown",
   "metadata": {
    "ExecuteTime": {
     "end_time": "2021-09-20T19:43:50.443031Z",
     "start_time": "2021-09-20T19:43:50.439600Z"
    },
    "id": "fd7f076b"
   },
   "source": [
    "2. За допомогою бібліотеки Pandas, викликом однієї функції зчитайте набір даних із файлу `supermarket_sales.csv` в змінну `df` типу `pandas.DataFrame`.\n",
    "Виведіть тип даних змінної `df`."
   ]
  },
  {
   "cell_type": "code",
   "execution_count": 4,
   "metadata": {
    "id": "0kbbVMM1ATsk"
   },
   "outputs": [
    {
     "data": {
      "text/plain": [
       "pandas.core.frame.DataFrame"
      ]
     },
     "execution_count": 4,
     "metadata": {},
     "output_type": "execute_result"
    }
   ],
   "source": [
    "data_path = '../data/supermarket_sales.csv'\n",
    "df = pd.read_csv(data_path)\n",
    "type(df)"
   ]
  },
  {
   "cell_type": "markdown",
   "metadata": {
    "ExecuteTime": {
     "end_time": "2022-11-01T16:51:38.594974Z",
     "start_time": "2022-11-01T16:51:38.591423Z"
    },
    "id": "33661c15"
   },
   "source": [
    "3. Виведіть кількість рядків і кількість колонок в наборі даних. Відповідь сформуйте використовуючи fstring у наступному форматі: `Набір даних містить 1000 рядків та 17 колонок`"
   ]
  },
  {
   "cell_type": "code",
   "execution_count": 5,
   "metadata": {
    "ExecuteTime": {
     "end_time": "2022-11-01T16:54:59.887783Z",
     "start_time": "2022-11-01T16:54:59.884323Z"
    },
    "id": "bac0cbfc"
   },
   "outputs": [
    {
     "name": "stdout",
     "output_type": "stream",
     "text": [
      "Набір даних містить 1000 рядків та 17 колонок\n"
     ]
    }
   ],
   "source": [
    "print(f'Набір даних містить {df.shape[0]} рядків та {df.shape[1]} колонок')"
   ]
  },
  {
   "cell_type": "markdown",
   "metadata": {
    "id": "4i5dUphZ_JxM"
   },
   "source": [
    "4. Скільки оперативної памʼяті у мегабайтах займає даний набір даних? Обчисліть за допомогою pandas і виведіть на екран."
   ]
  },
  {
   "cell_type": "code",
   "execution_count": 6,
   "metadata": {
    "id": "kwoNKAr-_JDf"
   },
   "outputs": [
    {
     "name": "stdout",
     "output_type": "stream",
     "text": [
      "Обсяг пам'яті, який використовує датафрейм: 0.13 MB\n"
     ]
    }
   ],
   "source": [
    "total_b = df.memory_usage().sum()\n",
    "total_mb =  total_b / 1024 **2\n",
    "print(f'Обсяг пам\\'яті, який використовує датафрейм: {total_mb:.2f} MB')"
   ]
  },
  {
   "cell_type": "markdown",
   "metadata": {
    "id": "ksL_sc3RwPIe"
   },
   "source": [
    "**Перше домашнє завдання із Pandas виконано! 🚀✔️**"
   ]
  },
  {
   "cell_type": "code",
   "execution_count": null,
   "metadata": {},
   "outputs": [],
   "source": [
    "display(df.head(4), df.tail(4))"
   ]
  },
  {
   "cell_type": "markdown",
   "metadata": {},
   "source": [
    "Виведіть назви колонок у наборі даних разом з їхніми типами. Це можна зробити кількома способами, важливо аби в результаті були назви колонок і відповідні їм типи."
   ]
  },
  {
   "cell_type": "code",
   "execution_count": null,
   "metadata": {},
   "outputs": [],
   "source": [
    "df.dtypes"
   ]
  },
  {
   "cell_type": "markdown",
   "metadata": {},
   "source": [
    "4. Користуючись методом `DataFrame.describe()` виявіть 1, 25, 50, 75 і 99 персентилі колонки `gross income`. Знайдіть, яке значення відповідає 75отму персентилю цієї колонки і що це означає? Як би Ви його пояснили простими словами колегам? Відповідь напишіть текстом в окремій клітинці типу Markdown."
   ]
  },
  {
   "cell_type": "code",
   "execution_count": null,
   "metadata": {},
   "outputs": [],
   "source": [
    "df['gross income'].describe(percentiles=[0.01, 0.25, 0.5, 0.75, 0.99])"
   ]
  },
  {
   "cell_type": "markdown",
   "metadata": {},
   "source": [
    "75 перцентиль дорівнює 22.445250.\n",
    "\n",
    "Це означає що 75% нашої вибірки мають \"gross income\" значення менше за 22.445250.\n",
    "Тобто в нас 1000 записів і для 750 (75% від 1000) з них gross income буде мати значення нижчу за 22.445250"
   ]
  },
  {
   "cell_type": "markdown",
   "metadata": {},
   "source": [
    "5. Виведіть кількість інвойсів за кожним унікальним містом в наборі даних.\n"
   ]
  },
  {
   "cell_type": "code",
   "execution_count": null,
   "metadata": {},
   "outputs": [],
   "source": [
    "df.City.value_counts(), df.City.value_counts(normalize=True)"
   ]
  },
  {
   "cell_type": "markdown",
   "metadata": {},
   "source": [
    "7.1. Використовуючи фільтрацію даних, знайдіть середнє значення `gross income` для міст `Yangon` та `Mandalay`. В якому місті воно більше?\n",
    "\n",
    "7.2 Сформулюйте 3 гіпотези, чому в одному місті gross income вище, як можна дізнатись чи правдива ця гіпотеза з використанням даних (наявних і додаткових), та як висновки з цих гіпотез можна використати для прийняття рішень як підвищити прибуток в мережі супермаркетів. Відповідь напишіть текстом в окремій клітинці типу Markdown.\n",
    "\n",
    "Це завдання - на продуктове мислення. Якщо не знаєте, які гіпотези сформулювати - напишіть ті, які здаються вам зовсім примітивними. Важливо навчитись висловлювати свої гіпотези щодо даних, і з часом та досвідом вони будуть ставати щоразу глибше і точніше. Весь аналіз даних будується на тому, що ми перевіряємо певні гіпотези та робимо висновки і рекоемндації на основі своїх досліджень."
   ]
  },
  {
   "cell_type": "code",
   "execution_count": null,
   "metadata": {},
   "outputs": [],
   "source": [
    "income_Mandalay = df.query('City == \"Mandalay\"')['gross income'].mean()\n",
    "income_Yangon = df.query('City == \"Yangon\" ')['gross income'].mean()\n",
    "\n",
    "print(income_Yangon, income_Mandalay)"
   ]
  },
  {
   "cell_type": "markdown",
   "metadata": {},
   "source": [
    "Yangon має менший gross income ніж Mandalay. Гіпотези які можуть це виправдати:\n",
    "\n",
    "1. Кількість людей в нашій вибірці для кожного міста різна та могла включати не рівномірно розподілені групи людей. Подивитися кількість людей в кожному з міст та їх вік\\стать (чим старша людина тим більша ймовірність що вона більш платоспроможня, або це студенське містечко і люди не купують дорогих товарів). Також стать може впливати на кількість покупок.\n",
    "2. Подивитися які саме товари найпопулярніші в кожному місті. Product line містить різні типи товарів і електротехніка зазвичай значно дорожча товарів для побуду. Можливо в містах з вищим gross income люди більше купують дорогих продуктів (побутової техніки). Або є продаж сезоних товарів які кожен місяць приносять додатковий дохід (одне місто має більшу вологість і люди вимушеннні постінй купляти спрей від комарів, а іншим не потібно робити ці зайві витрати)\n",
    "3. Подивитися на побічні фактори мотивації клінта, які змушують кліента не просто купити щось, а повертатися кожного разу до магазину. Customer type чи є людина мембером мережі, чи дає це їй якісь знижки. Якщо в місті з більший gross income більще мемберів то вони можуть генерувати додатковий дохід. \n"
   ]
  },
  {
   "cell_type": "markdown",
   "metadata": {},
   "source": [
    "8. Для продовження дослідження різниці у прибутках в магазинах давайте зʼясуємо, чи відрізняється маржа ('gross margin percentage') для різних інвойсів в магазині? Перевірте це програмно на даних виходячи з того функціоналу, який ми вже пройшли у лекціях.\n",
    "\n",
    "Дайте на основі отриманого результату відповідь: \"У всіх всіх інвойсах однакова маржа\" або \"Маржа відрізняється для різних інвойсів\"."
   ]
  },
  {
   "cell_type": "code",
   "execution_count": null,
   "metadata": {},
   "outputs": [],
   "source": [
    "df['gross margin percentage'].describe()"
   ]
  },
  {
   "cell_type": "code",
   "execution_count": null,
   "metadata": {},
   "outputs": [],
   "source": [
    "df['gross margin percentage'].value_counts(normalize=True)"
   ]
  },
  {
   "cell_type": "markdown",
   "metadata": {},
   "source": [
    "## Відповідь:\n",
    "\n",
    "У всіх всіх інвойсах однакова маржа.\n",
    "Ми маємо лише одне унікальне значення в колонці gross margin percentage"
   ]
  },
  {
   "cell_type": "markdown",
   "metadata": {},
   "source": [
    "9. Врахуовуючи висновок в попередньому завданні, дослідимо як продаються в цих містах різні категорії товарів. Виведіть відсотковий розпоіділ кількості інвойсів по категоріям товарів `Product line` в містах `Yangon` та `Mandalay`."
   ]
  },
  {
   "cell_type": "code",
   "execution_count": null,
   "metadata": {},
   "outputs": [],
   "source": [
    "df_city = df.query('City == \"Yangon\"')\n",
    "df_city['Product line'].value_counts(normalize=True) "
   ]
  },
  {
   "cell_type": "markdown",
   "metadata": {},
   "source": [
    "2. Знайдіть інвойс (рядок в даних) в категорії товарів Electronic accessories, в якому був куплений товар з найбільшою кількістю і найбільшою ціною. Виведіть цей рядок даних на екран."
   ]
  },
  {
   "cell_type": "code",
   "execution_count": null,
   "metadata": {},
   "outputs": [],
   "source": [
    "df.sort_values(by='Unit price', ascending=False).head()\n",
    "df['Product line'].value_counts()"
   ]
  },
  {
   "cell_type": "code",
   "execution_count": null,
   "metadata": {},
   "outputs": [],
   "source": [
    "df_product = df[df['Product line'] == 'Electronic accessories']\n",
    "df_product.sort_values(by=['Unit price', 'Quantity'], ascending=[False,False]).head(1)"
   ]
  },
  {
   "cell_type": "markdown",
   "metadata": {},
   "source": [
    "3.1. Створіть нову колонку в даних `Rating Category`, яка визначає категорію рейтингу: високий, середній чи низький за наступним правилом:\n",
    "- якщо рейтинг вищий або рівний 8 - то він високий (`High`)\n",
    "- якщо рейтинг від 6 до 8 не включаючи - то він середній (`Medium`)\n",
    "- інакше - низький (`Low`)."
   ]
  },
  {
   "cell_type": "code",
   "execution_count": null,
   "metadata": {},
   "outputs": [],
   "source": [
    "df['Rating Category'] = df.Rating.apply(lambda x: 'High' if x >= 8 else 'Medium' if x > 6 else 'Low') \n",
    "df.head()"
   ]
  },
  {
   "cell_type": "code",
   "execution_count": null,
   "metadata": {},
   "outputs": [],
   "source": [
    "df['Rating Category'].value_counts(normalize=True)"
   ]
  },
  {
   "cell_type": "markdown",
   "metadata": {},
   "source": [
    "4.1. Запустіть код нижче аби створити змінну `time`. Ця змінна містить час в форматі \"година:хвилина\". Напишіть функцію `get_hour`, яка буде зі змінної формату як `time` дістати лише години і конвертувати їх у тип `int`.\n",
    "\n",
    "Запустіть написану функцію на змінній `time` та перевірте правильність роботи функції."
   ]
  },
  {
   "cell_type": "code",
   "execution_count": null,
   "metadata": {},
   "outputs": [],
   "source": [
    "def get_hour(time):\n",
    "    return time.split(':')[0]\n",
    "\n",
    "time = '11:28'\n",
    "print(get_hour(time))\n",
    "df['Hour'] = df.Time.apply(get_hour)\n",
    "df.head()"
   ]
  },
  {
   "cell_type": "markdown",
   "metadata": {},
   "source": [
    "4.3. Виведіть кількість значень за кожною годиною покупки і дайте відповідь \"О яких годинах найбільше здійснюють покупок покупці і чому на Ваш погляд саме о цих годинах? Чи це слогічно, що найбільше покупок саме в ці години?\"."
   ]
  },
  {
   "cell_type": "code",
   "execution_count": null,
   "metadata": {},
   "outputs": [],
   "source": [
    "df['Hour'].value_counts()"
   ]
  },
  {
   "cell_type": "markdown",
   "metadata": {},
   "source": [
    "- Найбільша кількість покупок о 19 годинні. Це логічно, бо люди вже повернулися до дому з роботи та мають час зайнятися побутовими питаннями.\n",
    "- Також велика кількість покупок о 13 може свідчити про те що люди роблять поекпки в обідню перерву, коли можуть відволіктися від роботи.\n",
    "- О 15 години якщо людина працює в на півзміни і у другій частині дня вже вільна для своїх побутових справ.\n"
   ]
  },
  {
   "cell_type": "markdown",
   "metadata": {},
   "source": [
    "6. Виведіть кількість покупок, середнє, мінімальне та максимальне значення для загальної суми чеку (Total) в містах, наявних в даних, за допомогою функції groupby.\n",
    "Зробіть висновки з цих показників та дайте рекомендації для мережі супермаркетів."
   ]
  },
  {
   "cell_type": "code",
   "execution_count": null,
   "metadata": {},
   "outputs": [],
   "source": [
    "df.groupby('City')['Total'].agg(['mean', 'min', 'max'])"
   ]
  },
  {
   "cell_type": "markdown",
   "metadata": {},
   "source": [
    "- Найвищий середній чек — у місті Naypyitaw (337.10) == насселення може мати більшу купівельну спроможність населення або про більш високі ціни)\n",
    "- Найнижчий середній чек — у місті Yangon (312.35) == населення менш платостпроможне або конкуреція в магазинів дуже висока за покупців\n",
    "- Найнижча сума чеку зафіксована в Naypyitaw (10.68), але в Mandalay сума найменшого чеку значно вище (18.67), що може свідчит и про різну цінову політику в містах\n",
    "- Максимальні суми містах близькі\n",
    "\n",
    "\n"
   ]
  },
  {
   "cell_type": "markdown",
   "metadata": {},
   "source": [
    "# APPLY, GROUP BY, PIVOT TABLE"
   ]
  },
  {
   "cell_type": "markdown",
   "metadata": {},
   "source": [
    "1. Дослідимо, який філіал супермаркету ('Branch') є найприбутковішим. Для цього знайдіть сумарний прибуток за кожним філіалом і виявіть, який філіал має найвищий."
   ]
  },
  {
   "cell_type": "code",
   "execution_count": null,
   "metadata": {},
   "outputs": [],
   "source": [
    "df_income = df['gross income'].groupby(df['Branch']).sum().sort_values(ascending=False)\n",
    "print(f'Branch {df_income.index[0]} має найвизий прибуток {df_income.iloc[0]}')\n"
   ]
  },
  {
   "cell_type": "markdown",
   "metadata": {},
   "source": [
    "2. В якому місті знайходиться філіал з найвищим прибутком? Може в тому місці нам розмітисти ще один магазин.  \n",
    "Знайдіть відповідь за допомогою функціоналу Pandas."
   ]
  },
  {
   "cell_type": "code",
   "execution_count": null,
   "metadata": {},
   "outputs": [],
   "source": [
    "df_city = df.groupby(['Branch', 'City'])['gross income'].sum().sort_values(ascending=False)\n",
    "print(f'філіал з найвищим прибутком знайходиться y: {df_city.index[0][1]}')"
   ]
  },
  {
   "cell_type": "markdown",
   "metadata": {},
   "source": [
    "3.1. Створіть зводну таблицю, яка покаже, скільки покупок (інвойсів) було зроблено в кожній з філій (`Branch`) за різними категоріями товарів. Запишіть таблицю в змінну `invoices_by_category` і виведіть змінну на екран.\n",
    "Ця таблиця допоможе проаналізувати, в якій філії купують найбільше товарів кожної з категорій."
   ]
  },
  {
   "cell_type": "code",
   "execution_count": null,
   "metadata": {},
   "outputs": [],
   "source": [
    "invoices_by_categoty = pd.pivot_table(df, index = 'Branch', columns='Product line', values = 'Invoice ID', aggfunc='count')\n",
    "invoices_by_categoty"
   ]
  },
  {
   "cell_type": "markdown",
   "metadata": {},
   "source": [
    "3.2. Викристовуючи змінну `invoices_by_category` дайте відповідь програмно (тобто значення треба не просто знайти очима, а вивести за допомогою коду), в якому філіалі магазину (`Branch`) найбільше інвойсів із покупкою товарів категорії \"Електронні аксесуари\" (`Electronic accessories`)?\n"
   ]
  },
  {
   "cell_type": "code",
   "execution_count": null,
   "metadata": {},
   "outputs": [],
   "source": [
    "invoices_by_categoty['Electronic accessories'].idxmax()"
   ]
  },
  {
   "cell_type": "markdown",
   "metadata": {},
   "source": [
    "4-6. **Творче завдання на розвиток аналітичного мислення**\n",
    "\n",
    "Крок 1. Сформулюйте ТРИ питання (гіпотези) до наявних даних, які допомогли б вам зрозуміти, які користувачі що, де та коли найбільше/найменше купують, аби дати на основі цих гіпотез рекомендації бізнесу. Звісно питання мають бути не тими, на які ми вже відповіли в завданнях модулю.\n",
    "\n",
    "Крок 2. Знайдіть відповіді на свої питання з допомогою функціоналу pandas.\n",
    "\n",
    "Крок 3. Напишіть, як відповідь на це питання може бути використана для прийняття бізнес рішень.   \n",
    "   \n",
    " Питання можуть бути будь-якої складності, але їх має бути 3. Кожне питання оцінюється як 1 завдання. Без виконання цього завдання ДЗ не приймається. Якщо є питання щодо виконання - пишіть у чат 🙌\n"
   ]
  },
  {
   "cell_type": "markdown",
   "metadata": {},
   "source": [
    "## 1. Протестувати гіпотезу що стать впливає на те в якій категорії покупці роблять частиіше покупки\n"
   ]
  },
  {
   "cell_type": "code",
   "execution_count": null,
   "metadata": {},
   "outputs": [],
   "source": [
    "df_gender = pd.pivot_table(df, index = ['Gender', 'City'], columns = 'Product line', values = 'gross income', aggfunc='sum')\n",
    "df_gender"
   ]
  },
  {
   "cell_type": "code",
   "execution_count": null,
   "metadata": {},
   "outputs": [],
   "source": [
    "df_gender['Food and beverages'].Female - df_gender['Food and beverages'].Male"
   ]
  },
  {
   "cell_type": "markdown",
   "metadata": {},
   "source": [
    "Ми можемо побачити що жінки витрачають на їжу майже на 300 доларів більше (що може бути спричинено тим що вони частіше займаються поутовими справами). Але для міста Yangon статистика протилежна, чоловіки більше витрачають на продукти.\n",
    "Для більш детального аналізу треба достіди ти розподіл жінок.чоловіків в кожному місті та їх сімейний статус.\n",
    "\n",
    "МИ можемо зробити більш таргетовану рекламу для кождного міста яка буде націлено окремо або на жінок або на чоловіків (в залежності від того чи ми хочемо збільшити лояльність нашої поточної аудиторії, чи розширити її)"
   ]
  },
  {
   "cell_type": "markdown",
   "metadata": {},
   "source": [
    "## 2. В якій категорії товарій чоловіки та жінки витрачають найбльге та найменше коштів"
   ]
  },
  {
   "cell_type": "code",
   "execution_count": null,
   "metadata": {},
   "outputs": [],
   "source": [
    "df_sum = df_gender.reset_index(level='City').drop('City', axis=1).groupby('Gender').sum()"
   ]
  },
  {
   "cell_type": "code",
   "execution_count": null,
   "metadata": {},
   "outputs": [],
   "source": [
    "df_sum.loc['Female'].sort_values()"
   ]
  },
  {
   "cell_type": "code",
   "execution_count": null,
   "metadata": {},
   "outputs": [],
   "source": [
    "df_sum.loc['Male'].sort_values()"
   ]
  },
  {
   "cell_type": "code",
   "execution_count": null,
   "metadata": {},
   "outputs": [],
   "source": [
    "(df_sum.loc['Female'] - df_sum.loc['Male']).sort_values()"
   ]
  },
  {
   "cell_type": "markdown",
   "metadata": {},
   "source": [
    "Health and beauty це категорія де чоловіки витрачають найбільше, а жінки найменше. Необхідно визначити які саме товати в цій категорії змушують чоловіків витрачати більше. Та треба додатково дослідити чи можуть жінки купити всі необхідні товари в нашому магахині. Можлиов в нас відсутній асортимет аби зацікавити жінок купляти більше в цій категорії"
   ]
  },
  {
   "cell_type": "markdown",
   "metadata": {},
   "source": [
    "## 3. Визначити як метож оплати впливає на задоволенність покупців"
   ]
  },
  {
   "cell_type": "code",
   "execution_count": null,
   "metadata": {},
   "outputs": [],
   "source": [
    "\n",
    "df.groupby('Rating Category')[['Payment','gross income']].agg({'Payment': pd.Series.mode, 'gross income': pd.Series.mode}).sort_values(by='Rating Category')"
   ]
  }
 ],
 "metadata": {
  "colab": {
   "provenance": []
  },
  "kernelspec": {
   "display_name": "laba",
   "language": "python",
   "name": "python3"
  },
  "language_info": {
   "codemirror_mode": {
    "name": "ipython",
    "version": 3
   },
   "file_extension": ".py",
   "mimetype": "text/x-python",
   "name": "python",
   "nbconvert_exporter": "python",
   "pygments_lexer": "ipython3",
   "version": "3.12.3"
  }
 },
 "nbformat": 4,
 "nbformat_minor": 0
}
