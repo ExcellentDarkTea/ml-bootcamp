{
  "cells": [
    {
      "cell_type": "markdown",
      "metadata": {},
      "source": [
        "#  Matrices and Vectors (Introduction to Linear Algebra)"
      ]
    },
    {
      "cell_type": "markdown",
      "metadata": {
        "id": "efug1V4CM0lT"
      },
      "source": [
        "### Task 1: Creating Matrices and Vectors\n",
        "1. Create a `numpy` vector `vector` of dimension 10 with random real values ​​in the range from 0 to 1. You can use two alternative options:\n",
        "  1. Generate random numbers with the [`random.uniform`](https://docs.python.org/3/library/random.html) module.\n",
        "  2. Creating a vector using the `numpy` method [np.random.rand](https://numpy.org/doc/stable/reference/random/generated/numpy.random.rand.html)\n",
        "\n",
        "2. Create a `matrix` of type `numpy.array` of dimension 3x3 with the following values\n",
        "\n",
        "$$\n",
        "matrix = \\begin{bmatrix}\n",
        "11 & 14 & 17 \\\\\n",
        "20 & 23 & 26 \\\\\n",
        "29 & 32 & 35\n",
        "\\end{bmatrix}\n",
        "$$\n",
        "\n",
        "by any method known to you.\n",
        "\n",
        "Print the vector and matrix, as well as their dimensions, on the screen."
      ]
    },
    {
      "cell_type": "code",
      "execution_count": 1,
      "metadata": {
        "id": "jxA_lG2_VIMe"
      },
      "outputs": [
        {
          "name": "stdout",
          "output_type": "stream",
          "text": [
            "Vector shape: (10,)\n",
            "Vector \n",
            "[0.20235738 0.25959405 0.21550759 0.38508955 0.4465215  0.33379137\n",
            " 0.59992265 0.52668874 0.29928082 0.90422239]\n"
          ]
        }
      ],
      "source": [
        "import numpy as np\n",
        "vector = np.random.rand(10)\n",
        "print(f'Vector shape: {vector.shape}')\n",
        "print(f'Vector \\n{vector}')"
      ]
    },
    {
      "cell_type": "code",
      "execution_count": 69,
      "metadata": {},
      "outputs": [
        {
          "name": "stdout",
          "output_type": "stream",
          "text": [
            "Matrix shape: (3, 3)\n",
            "Matrix \n",
            "[[11 14 17]\n",
            " [20 23 26]\n",
            " [29 32 35]]\n"
          ]
        }
      ],
      "source": [
        "matrix = np.array([[11, 14, 17],\n",
        "                  [20 , 23, 26],\n",
        "                  [29, 32, 35]])\n",
        "print(f'Matrix shape: {matrix.shape}')\n",
        "print(f'Matrix \\n{matrix}')"
      ]
    },
    {
      "cell_type": "markdown",
      "metadata": {
        "id": "TSJ1P4OuOVe2"
      },
      "source": [
        "### Task 2: Operations on vectors and matrices\n",
        "Perform each of the following operations on the specified objects and display the result:\n",
        "1. Add 10 to each value of the vector `vector` and round each value to 2 decimal places without using loops.\n",
        "2. Multiply each element of the matrix from the first task by 2 without using loops.\n",
        "3. Create a new vector that contains the square of each `vector` without using loops."
      ]
    },
    {
      "cell_type": "code",
      "execution_count": null,
      "metadata": {
        "id": "nAAojtyUVJXN"
      },
      "outputs": [
        {
          "name": "stdout",
          "output_type": "stream",
          "text": [
            "New vector *10 \n",
            "[7.26 9.01 6.02 9.55 1.54 3.06 2.59 1.9  2.9  3.97]\n"
          ]
        }
      ],
      "source": [
        "# Add 10 to each value of the vector `vector` and round each value to 2 decimal places without using loops.\n",
        "vector = vector * 10\n",
        "vector = np.round(vector, 2)\n",
        "print(f'New vector *10 \\n{vector}')\n"
      ]
    },
    {
      "cell_type": "code",
      "execution_count": null,
      "metadata": {},
      "outputs": [
        {
          "name": "stdout",
          "output_type": "stream",
          "text": [
            "New matrix *2 \n",
            "[[22 28 34]\n",
            " [40 46 52]\n",
            " [58 64 70]]\n"
          ]
        }
      ],
      "source": [
        "# Multiply each element of the matrix from the first problem by 2 without using loops.\n",
        "matrix = matrix * 2\n",
        "print(f'New matrix *2 \\n{matrix}')"
      ]
    },
    {
      "cell_type": "code",
      "execution_count": null,
      "metadata": {},
      "outputs": [
        {
          "name": "stdout",
          "output_type": "stream",
          "text": [
            "New vector with square \n",
            "[52.7076 81.1801 36.2404 91.2025  2.3716  9.3636  6.7081  3.61    8.41\n",
            " 15.7609]\n"
          ]
        }
      ],
      "source": [
        "# Create a new vector that contains the square of each `vector` without cycles.\n",
        "vector_sqr = np.square(vector)\n",
        "print(f'New vector with square \\n{vector_sqr}')"
      ]
    },
    {
      "cell_type": "markdown",
      "metadata": {
        "id": "u6RvWVfhPy-k"
      },
      "source": [
        "### Task 3: Matrix Multiplication\n",
        "1. Given two matrices `A` and `B` with dimensions 3x2 and 2x3. Multiply them to get a 2x2 matrix. Display the resulting matrix `result_matrix` on the screen.\n",
        "\n",
        "2. Given a vector `C` with dimension 2x1. First think about what dimension you will get when you multiply `result_matrix` by the vector `C` and what the result will be. And then perform the multiplication and display the result on the screen.\n",
        "\n",
        "3. Given a matrix `D` with dimension 2x2. First think about what dimension you will get when you multiply `result_matrix` by the matrix `D` and what the result will be. And then perform the multiplication and display the result on the screen."
      ]
    },
    {
      "cell_type": "code",
      "execution_count": 3,
      "metadata": {
        "id": "RwXfPzlbSJ44"
      },
      "outputs": [
        {
          "data": {
            "text/plain": [
              "array([[0.18, 0.53],\n",
              "       [0.75, 0.47],\n",
              "       [0.35, 0.21]])"
            ]
          },
          "metadata": {},
          "output_type": "display_data"
        },
        {
          "data": {
            "text/plain": [
              "array([[0.17, 0.58, 0.75],\n",
              "       [0.38, 0.11, 0.15]])"
            ]
          },
          "metadata": {},
          "output_type": "display_data"
        },
        {
          "data": {
            "text/plain": [
              "array([[0],\n",
              "       [1]])"
            ]
          },
          "metadata": {},
          "output_type": "display_data"
        },
        {
          "data": {
            "text/plain": [
              "array([[0, 1],\n",
              "       [1, 0]])"
            ]
          },
          "metadata": {},
          "output_type": "display_data"
        }
      ],
      "source": [
        "A = np.array(\n",
        "    [[0.18, 0.53],\n",
        "     [0.75, 0.47],\n",
        "     [0.35, 0.21]])\n",
        "\n",
        "B = np.array(\n",
        "    [[0.17, 0.58, 0.75],\n",
        "     [0.38, 0.11, 0.15]])\n",
        "\n",
        "C = np.array([[0], [1]])\n",
        "\n",
        "D = np.array([[0,1], [1,0]])\n",
        "\n",
        "display(A, B, C, D)"
      ]
    },
    {
      "cell_type": "code",
      "execution_count": null,
      "metadata": {
        "id": "z7-boTbhVKkj"
      },
      "outputs": [
        {
          "name": "stdout",
          "output_type": "stream",
          "text": [
            "A shape: (3, 2)\n",
            "B shape: (2, 3)\n",
            "Result matrix shape: (2, 2)\n",
            "Result matrix: \n",
            "[[0.7281 0.5202]\n",
            " [0.2034 0.2846]]\n"
          ]
        }
      ],
      "source": [
        "# 1. Given two matrices `A` and `B` of dimensions 3x2 and 2x3. Multiply them to get a 2x2 matrix.\n",
        "# Print the resulting matrix `result_matrix` to the screen.\n",
        "\n",
        "print(f'A shape: {A.shape}')\n",
        "print(f'B shape: {B.shape}')\n",
        "result_matrix = np.dot(B, A)\n",
        "\n",
        "print(f'Result matrix shape: {result_matrix.shape}')\n",
        "print(f'Result matrix: \\n{result_matrix}')\n",
        "\n"
      ]
    },
    {
      "cell_type": "code",
      "execution_count": null,
      "metadata": {},
      "outputs": [
        {
          "name": "stdout",
          "output_type": "stream",
          "text": [
            "C_new shape: (2, 1)\n",
            "C_new: \n",
            "[[0.5202]\n",
            " [0.2846]]\n"
          ]
        }
      ],
      "source": [
        "# 2. Given a vector `C` of dimension 2x1.\n",
        "# First think about what dimension you will get when you multiply `result_matrix` by the vector `C` and what the result will be.\n",
        "# And then perform the multiplication and display the result on the screen.\n",
        "\n",
        "# Assumptions:\n",
        "# we multiply 2x2 matrices by 2X1 - we will get a 2x1 matrix\n",
        "\n",
        "C_new = np.dot(result_matrix, C)\n",
        "print(f'C_new shape: {C_new.shape}')\n",
        "print(f'C_new: \\n{C_new}')\n"
      ]
    },
    {
      "cell_type": "code",
      "execution_count": null,
      "metadata": {},
      "outputs": [
        {
          "name": "stdout",
          "output_type": "stream",
          "text": [
            "D_new shape: (2, 2)\n",
            "D_new: \n",
            "[[0.5202 0.7281]\n",
            " [0.2846 0.2034]]\n"
          ]
        }
      ],
      "source": [
        "# 3. Given a matrix `D` of dimension 2x2.\n",
        "# First think about what dimension you will get when you multiply `result_matrix` by matrix `D` and what the result will be.\n",
        "# And then perform the multiplication and display the result on the screen.\n",
        "\n",
        "# Assumptions:\n",
        "# we multiply matrices 2x2 by 2X2 - we will get a matrix 2x2\n",
        "\n",
        "D_new = np.dot(result_matrix, D)\n",
        "print(f'D_new shape: {D_new.shape}')\n",
        "print(f'D_new: \\n{D_new}')"
      ]
    },
    {
      "cell_type": "markdown",
      "metadata": {
        "id": "wohp0_cxSGpl"
      },
      "source": [
        "### Task 4: Transpose matrices\n",
        "1. Transpose `result_matrix`.\n",
        "2. Transpose the vector `vector` and print the shape of the new structure. Do you see the change?\n",
        "3. Use the `numpy.expand_dims` operation on the vector `vector` with the argument axis=1. Write the result to the variable `column_vector` and print it. Compare it with `vector`.\n",
        "4. Transpose the `column_vector` and print the result along with the dimensions of the resulting structure.\n",
        "\n"
      ]
    },
    {
      "cell_type": "code",
      "execution_count": null,
      "metadata": {
        "id": "4hFcq1baVLii"
      },
      "outputs": [
        {
          "name": "stdout",
          "output_type": "stream",
          "text": [
            "Transpone shape: (2, 2)\n",
            "Orinal shape: (2, 2)\n",
            "\n",
            "Transpone: \n",
            "[[0.7281 0.2034]\n",
            " [0.5202 0.2846]]\n",
            "\n",
            "Orinal: \n",
            "[[0.7281 0.5202]\n",
            " [0.2034 0.2846]]\n"
          ]
        }
      ],
      "source": [
        "# 1. Transpose `result_matrix`.\n",
        "transpone = result_matrix.T\n",
        "print(f'Transpone shape: {transpone.shape}')\n",
        "print(f'Orinal shape: {result_matrix.shape}')  \n",
        "\n",
        "print(f'\\nTranspone: \\n{transpone}')\n",
        "print(f'\\nOrinal: \\n{result_matrix}')"
      ]
    },
    {
      "cell_type": "code",
      "execution_count": null,
      "metadata": {},
      "outputs": [
        {
          "name": "stdout",
          "output_type": "stream",
          "text": [
            "Vector transpone shape: (10,)\n",
            "Original shape: (10,)\n",
            "\n",
            "Vector transpone: \n",
            "[7.26 9.01 6.02 9.55 1.54 3.06 2.59 1.9  2.9  3.97]\n",
            "\n",
            "Original: \n",
            "[7.26 9.01 6.02 9.55 1.54 3.06 2.59 1.9  2.9  3.97]\n"
          ]
        }
      ],
      "source": [
        "# 2. Take the transpose of the vector `vector` and output the shape for the new structure. Do you see the change?\n",
        "vector_transpone = vector.T\n",
        "print(f'Vector transpone shape: {vector_transpone.shape}')\n",
        "print(f'Original shape: {vector.shape}')\n",
        "\n",
        "print(f'\\nVector transpone: \\n{vector_transpone}')\n",
        "print(f'\\nOriginal: \\n{vector}')\n"
      ]
    },
    {
      "cell_type": "code",
      "execution_count": null,
      "metadata": {},
      "outputs": [
        {
          "name": "stdout",
          "output_type": "stream",
          "text": [
            "Column vector shape: (10, 1)\n",
            "Original shape: (10,)\n",
            "\n",
            "Column vector: \n",
            "[[7.26]\n",
            " [9.01]\n",
            " [6.02]\n",
            " [9.55]\n",
            " [1.54]\n",
            " [3.06]\n",
            " [2.59]\n",
            " [1.9 ]\n",
            " [2.9 ]\n",
            " [3.97]]\n",
            "\n",
            "Original: \n",
            "[7.26 9.01 6.02 9.55 1.54 3.06 2.59 1.9  2.9  3.97]\n"
          ]
        }
      ],
      "source": [
        "# 3. Use the `numpy.expand_dims` operation on the `vector` vector with the argument axis=1.\n",
        "# Write the result to the `column_vector` variable and print it. Compare it with `vector`.\n",
        "\n",
        "column_vector = np.expand_dims(vector, axis=1)\n",
        "print(f'Column vector shape: {column_vector.shape}')\n",
        "print(f'Original shape: {vector.shape}')    \n",
        "\n",
        "print(f'\\nColumn vector: \\n{column_vector}')\n",
        "print(f'\\nOriginal: \\n{vector}')"
      ]
    },
    {
      "cell_type": "markdown",
      "metadata": {},
      "source": [
        "**Conclusion**.\n",
        "Using numpy.expand_dims with axis=1 changes/adds an extra dimension to the vector. WE have converted the vector to a matrix with one column (10,1)\n",
        "\n"
      ]
    },
    {
      "cell_type": "code",
      "execution_count": null,
      "metadata": {},
      "outputs": [
        {
          "name": "stdout",
          "output_type": "stream",
          "text": [
            "Column vector transpone shape (1, 10)\n",
            "\n",
            "Column vector transpone: \n",
            "[[7.26 9.01 6.02 9.55 1.54 3.06 2.59 1.9  2.9  3.97]]\n"
          ]
        }
      ],
      "source": [
        "# 4. Transpose `column_vector`, output the result to the screen along with the dimensions of the resulting structure.\n",
        "column_vector_transpone = column_vector.T\n",
        "print(f'Column vector transpone shape {column_vector_transpone.shape}')\n",
        "\n",
        "print(f'\\nColumn vector transpone: \\n{column_vector_transpone}')"
      ]
    },
    {
      "cell_type": "markdown",
      "metadata": {},
      "source": [
        "**Conclusion** Transposing a Column vector swaps rows and columns. Transposing changed the Column vector from one vertical column to a horizontal row\n",
        "\n",
        "Dimension:\n",
        "- became (1, 10)\n",
        "- was (10, 1)\n"
      ]
    }
  ],
  "metadata": {
    "colab": {
      "provenance": []
    },
    "kernelspec": {
      "display_name": "ml_course",
      "language": "python",
      "name": "python3"
    },
    "language_info": {
      "codemirror_mode": {
        "name": "ipython",
        "version": 3
      },
      "file_extension": ".py",
      "mimetype": "text/x-python",
      "name": "python",
      "nbconvert_exporter": "python",
      "pygments_lexer": "ipython3",
      "version": "3.12.7"
    }
  },
  "nbformat": 4,
  "nbformat_minor": 0
}
