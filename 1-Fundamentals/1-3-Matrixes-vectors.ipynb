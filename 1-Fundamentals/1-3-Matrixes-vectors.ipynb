{
  "cells": [
    {
      "cell_type": "markdown",
      "metadata": {},
      "source": [
        "# Домашне завдання №3 (2-1): Матриці та вектори (вступ до лін.алгубри)\n",
        "\n",
        "## Ольга Шапошник"
      ]
    },
    {
      "cell_type": "markdown",
      "metadata": {
        "id": "efug1V4CM0lT"
      },
      "source": [
        "### Завдання 1: Створення матриць та векторів\n",
        "1. Створіть `numpy` вектор `vector` розмірністю 10 з випадковими дійсними значеннями в діапазоні від 0 до 1. Можна скористатись двома альтернативними варіантами:\n",
        "  1. Генерація випадкових чисел з модулем [`random.uniform`](https://docs.python.org/3/library/random.html).\n",
        "  2. Створення вектора з допомогою метода `numpy` [np.random.rand](https://numpy.org/doc/stable/reference/random/generated/numpy.random.rand.html)\n",
        "\n",
        "2. Створіть матрицю `matrix` типу `numpy.array` розмірності 3x3 з наступними значеннями\n",
        "\n",
        "  $$\n",
        "  matrix = \\begin{bmatrix}\n",
        "  11 & 14 & 17 \\\\\n",
        "  20 & 23 & 26 \\\\\n",
        "  29 & 32 & 35\n",
        "  \\end{bmatrix}\n",
        "  $$\n",
        "\n",
        "  будь-яким відомими Вам способом.\n",
        "\n",
        "Виведіть на екран вектор і матрицю, а також їх розміри.\n"
      ]
    },
    {
      "cell_type": "code",
      "execution_count": 1,
      "metadata": {
        "id": "jxA_lG2_VIMe"
      },
      "outputs": [
        {
          "name": "stdout",
          "output_type": "stream",
          "text": [
            "Vector shape: (10,)\n",
            "Vector \n",
            "[0.20235738 0.25959405 0.21550759 0.38508955 0.4465215  0.33379137\n",
            " 0.59992265 0.52668874 0.29928082 0.90422239]\n"
          ]
        }
      ],
      "source": [
        "import numpy as np\n",
        "vector = np.random.rand(10)\n",
        "print(f'Vector shape: {vector.shape}')\n",
        "print(f'Vector \\n{vector}')"
      ]
    },
    {
      "cell_type": "code",
      "execution_count": 69,
      "metadata": {},
      "outputs": [
        {
          "name": "stdout",
          "output_type": "stream",
          "text": [
            "Matrix shape: (3, 3)\n",
            "Matrix \n",
            "[[11 14 17]\n",
            " [20 23 26]\n",
            " [29 32 35]]\n"
          ]
        }
      ],
      "source": [
        "matrix = np.array([[11, 14, 17],\n",
        "                  [20 , 23, 26],\n",
        "                  [29, 32, 35]])\n",
        "print(f'Matrix shape: {matrix.shape}')\n",
        "print(f'Matrix \\n{matrix}')"
      ]
    },
    {
      "cell_type": "markdown",
      "metadata": {
        "id": "TSJ1P4OuOVe2"
      },
      "source": [
        "\n",
        "### Завдання 2: Операції над векторами та матрицями\n",
        "Виконайте кожну з зазначених операцій над зазначеними оʼєктами і виведіть результат на екран:\n",
        "1. Додайте до кожного значення вектора `vector` число 10 і округліть кожне значення до 2 знаків після коми без використання циклів.\n",
        "2. Помножте кожен елемент матриці з першого завдання на 2 без використання циклів.\n",
        "3. Створіть новий вектор, який містить квадрат кожного `vector` без циклів.\n"
      ]
    },
    {
      "cell_type": "code",
      "execution_count": 70,
      "metadata": {
        "id": "nAAojtyUVJXN"
      },
      "outputs": [
        {
          "name": "stdout",
          "output_type": "stream",
          "text": [
            "New vector *10 \n",
            "[7.26 9.01 6.02 9.55 1.54 3.06 2.59 1.9  2.9  3.97]\n"
          ]
        }
      ],
      "source": [
        "# Додайте до кожного значення вектора `vector` число 10 і округліть кожне значення до 2 знаків після коми без використання циклів.\n",
        "vector = vector * 10\n",
        "vector = np.round(vector, 2)\n",
        "print(f'New vector *10 \\n{vector}')\n"
      ]
    },
    {
      "cell_type": "code",
      "execution_count": 71,
      "metadata": {},
      "outputs": [
        {
          "name": "stdout",
          "output_type": "stream",
          "text": [
            "New matrix *2 \n",
            "[[22 28 34]\n",
            " [40 46 52]\n",
            " [58 64 70]]\n"
          ]
        }
      ],
      "source": [
        "# Помножте кожен елемент матриці з першого завдання на 2 без використання циклів.\n",
        "matrix = matrix * 2\n",
        "print(f'New matrix *2 \\n{matrix}')"
      ]
    },
    {
      "cell_type": "code",
      "execution_count": 72,
      "metadata": {},
      "outputs": [
        {
          "name": "stdout",
          "output_type": "stream",
          "text": [
            "New vector with square \n",
            "[52.7076 81.1801 36.2404 91.2025  2.3716  9.3636  6.7081  3.61    8.41\n",
            " 15.7609]\n"
          ]
        }
      ],
      "source": [
        "# Створіть новий вектор, який містить квадрат кожного `vector` без циклів.\n",
        "vector_sqr = np.square(vector)\n",
        "print(f'New vector with square \\n{vector_sqr}')"
      ]
    },
    {
      "cell_type": "markdown",
      "metadata": {
        "id": "u6RvWVfhPy-k"
      },
      "source": [
        "\n",
        "### Завдання 3: Множення матриць\n",
        "1. Задані дві матриці `A` і `B`розмірностями 3x2 та 2х3. Виконайте їхнє множення, щоб отримати матрицю 2x2. Виведіть результуючу матрицю `result_matrix` на екран.\n",
        "\n",
        "2. Заданий вектор `C` розмірністю 2х1. Подумайте спочатку, яку розмірність Ви отрмаєте, коли домножите `result_matrix` на вектор `C` і який результат буде. А потім виконайте множення і виведіть результат на екран.\n",
        "\n",
        "3. Задана матриця `D` розмірністю 2х2. Подумайте спочатку, яку розмірність Ви отрмаєте, коли домножите `result_matrix` на матрицю `D` і який результат буде. А потім виконайте множення і виведіть результат на екран."
      ]
    },
    {
      "cell_type": "code",
      "execution_count": 3,
      "metadata": {
        "id": "RwXfPzlbSJ44"
      },
      "outputs": [
        {
          "data": {
            "text/plain": [
              "array([[0.18, 0.53],\n",
              "       [0.75, 0.47],\n",
              "       [0.35, 0.21]])"
            ]
          },
          "metadata": {},
          "output_type": "display_data"
        },
        {
          "data": {
            "text/plain": [
              "array([[0.17, 0.58, 0.75],\n",
              "       [0.38, 0.11, 0.15]])"
            ]
          },
          "metadata": {},
          "output_type": "display_data"
        },
        {
          "data": {
            "text/plain": [
              "array([[0],\n",
              "       [1]])"
            ]
          },
          "metadata": {},
          "output_type": "display_data"
        },
        {
          "data": {
            "text/plain": [
              "array([[0, 1],\n",
              "       [1, 0]])"
            ]
          },
          "metadata": {},
          "output_type": "display_data"
        }
      ],
      "source": [
        "A = np.array(\n",
        "    [[0.18, 0.53],\n",
        "     [0.75, 0.47],\n",
        "     [0.35, 0.21]])\n",
        "\n",
        "B = np.array(\n",
        "    [[0.17, 0.58, 0.75],\n",
        "     [0.38, 0.11, 0.15]])\n",
        "\n",
        "C = np.array([[0], [1]])\n",
        "\n",
        "D = np.array([[0,1], [1,0]])\n",
        "\n",
        "display(A, B, C, D)"
      ]
    },
    {
      "cell_type": "code",
      "execution_count": 6,
      "metadata": {
        "id": "z7-boTbhVKkj"
      },
      "outputs": [
        {
          "name": "stdout",
          "output_type": "stream",
          "text": [
            "A shape: (3, 2)\n",
            "B shape: (2, 3)\n",
            "Result matrix shape: (2, 2)\n",
            "Result matrix: \n",
            "[[0.7281 0.5202]\n",
            " [0.2034 0.2846]]\n"
          ]
        }
      ],
      "source": [
        "# 1. Задані дві матриці `A` і `B`розмірностями 3x2 та 2х3. Виконайте їхнє множення, щоб отримати матрицю 2x2. \n",
        "# Виведіть результуючу матрицю `result_matrix` на екран.\n",
        "\n",
        "print(f'A shape: {A.shape}')\n",
        "print(f'B shape: {B.shape}')\n",
        "result_matrix = np.dot(B, A)\n",
        "\n",
        "print(f'Result matrix shape: {result_matrix.shape}')\n",
        "print(f'Result matrix: \\n{result_matrix}')\n",
        "\n"
      ]
    },
    {
      "cell_type": "code",
      "execution_count": 81,
      "metadata": {},
      "outputs": [
        {
          "name": "stdout",
          "output_type": "stream",
          "text": [
            "C_new shape: (2, 1)\n",
            "C_new: \n",
            "[[0.5202]\n",
            " [0.2846]]\n"
          ]
        }
      ],
      "source": [
        "# 2. Заданий вектор `C` розмірністю 2х1. \n",
        "# Подумайте спочатку, яку розмірність Ви отрмаєте, коли домножите `result_matrix` на вектор `C` і який результат буде. \n",
        "# А потім виконайте множення і виведіть результат на екран.\n",
        "\n",
        "# Припущення:\n",
        "# ми множимо матриці 2х2 на 2Х1 - отримаємо матрицю 2х1\n",
        "\n",
        "C_new = np.dot(result_matrix, C)\n",
        "print(f'C_new shape: {C_new.shape}')\n",
        "print(f'C_new: \\n{C_new}')\n"
      ]
    },
    {
      "cell_type": "code",
      "execution_count": 83,
      "metadata": {},
      "outputs": [
        {
          "name": "stdout",
          "output_type": "stream",
          "text": [
            "D_new shape: (2, 2)\n",
            "D_new: \n",
            "[[0.5202 0.7281]\n",
            " [0.2846 0.2034]]\n"
          ]
        }
      ],
      "source": [
        "# 3. Задана матриця `D` розмірністю 2х2. \n",
        "# Подумайте спочатку, яку розмірність Ви отрмаєте, коли домножите `result_matrix` на матрицю `D` і який результат буде. \n",
        "# А потім виконайте множення і виведіть результат на екран.\n",
        "\n",
        "# Припушення:\n",
        "# ми множимо матриці 2х2 на 2Х2 - отримаємо матрицю 2х2\n",
        "\n",
        "D_new = np.dot(result_matrix, D)\n",
        "print(f'D_new shape: {D_new.shape}')\n",
        "print(f'D_new: \\n{D_new}')"
      ]
    },
    {
      "cell_type": "markdown",
      "metadata": {
        "id": "wohp0_cxSGpl"
      },
      "source": [
        "\n",
        "### Завдання 4: Транспонування матриць\n",
        "1. Транспонуйте `result_matrix`.\n",
        "2. Зробіть транспонування вектора `vector` і виведіть форму нової структури. Чи бачите ви зміну?\n",
        "3. Використайте операцію `numpy.expand_dims` над вектором `vector` з аргументом axis=1. Запишіть отриманий результат в змінну `column_vector` і виведіть на екран. Порівняйте з `vector`.\n",
        "4. Зробіть транспонування `column_vector`, виведіть результат на екран разом з розмірностями отриманої структури.\n",
        "\n",
        "\n"
      ]
    },
    {
      "cell_type": "code",
      "execution_count": 86,
      "metadata": {
        "id": "4hFcq1baVLii"
      },
      "outputs": [
        {
          "name": "stdout",
          "output_type": "stream",
          "text": [
            "Transpone shape: (2, 2)\n",
            "Orinal shape: (2, 2)\n",
            "\n",
            "Transpone: \n",
            "[[0.7281 0.2034]\n",
            " [0.5202 0.2846]]\n",
            "\n",
            "Orinal: \n",
            "[[0.7281 0.5202]\n",
            " [0.2034 0.2846]]\n"
          ]
        }
      ],
      "source": [
        "# 1. Транспонуйте `result_matrix`.\n",
        "transpone = result_matrix.T\n",
        "print(f'Transpone shape: {transpone.shape}')\n",
        "print(f'Orinal shape: {result_matrix.shape}')  \n",
        "\n",
        "print(f'\\nTranspone: \\n{transpone}')\n",
        "print(f'\\nOrinal: \\n{result_matrix}')"
      ]
    },
    {
      "cell_type": "code",
      "execution_count": 89,
      "metadata": {},
      "outputs": [
        {
          "name": "stdout",
          "output_type": "stream",
          "text": [
            "Vector transpone shape: (10,)\n",
            "Original shape: (10,)\n",
            "\n",
            "Vector transpone: \n",
            "[7.26 9.01 6.02 9.55 1.54 3.06 2.59 1.9  2.9  3.97]\n",
            "\n",
            "Original: \n",
            "[7.26 9.01 6.02 9.55 1.54 3.06 2.59 1.9  2.9  3.97]\n"
          ]
        }
      ],
      "source": [
        "# 2. Зробіть транспонування вектора `vector` і виведіть форму нової структури. Чи бачите ви зміну?\n",
        "vector_transpone = vector.T\n",
        "print(f'Vector transpone shape: {vector_transpone.shape}')\n",
        "print(f'Original shape: {vector.shape}')\n",
        "\n",
        "print(f'\\nVector transpone: \\n{vector_transpone}')\n",
        "print(f'\\nOriginal: \\n{vector}')\n"
      ]
    },
    {
      "cell_type": "markdown",
      "metadata": {},
      "source": [
        "**Висновок**: При транспонуванні вектора ніяких змін не відбувається. Його розмір залишається таким самими (10,)\n"
      ]
    },
    {
      "cell_type": "code",
      "execution_count": 91,
      "metadata": {},
      "outputs": [
        {
          "name": "stdout",
          "output_type": "stream",
          "text": [
            "Column vector shape: (10, 1)\n",
            "Original shape: (10,)\n",
            "\n",
            "Column vector: \n",
            "[[7.26]\n",
            " [9.01]\n",
            " [6.02]\n",
            " [9.55]\n",
            " [1.54]\n",
            " [3.06]\n",
            " [2.59]\n",
            " [1.9 ]\n",
            " [2.9 ]\n",
            " [3.97]]\n",
            "\n",
            "Original: \n",
            "[7.26 9.01 6.02 9.55 1.54 3.06 2.59 1.9  2.9  3.97]\n"
          ]
        }
      ],
      "source": [
        "# 3. Використайте операцію `numpy.expand_dims` над вектором `vector` з аргументом axis=1. \n",
        "# Запишіть отриманий результат в змінну `column_vector` і виведіть на екран. Порівняйте з `vector`.\n",
        "\n",
        "column_vector = np.expand_dims(vector, axis=1)\n",
        "print(f'Column vector shape: {column_vector.shape}')\n",
        "print(f'Original shape: {vector.shape}')    \n",
        "\n",
        "print(f'\\nColumn vector: \\n{column_vector}')\n",
        "print(f'\\nOriginal: \\n{vector}')"
      ]
    },
    {
      "cell_type": "markdown",
      "metadata": {},
      "source": [
        "**Висновок**. \n",
        "Використання numpy.expand_dims з аргументом axis=1 призводить до зміни/додавання додаткової розмірності до вектора. МИ перетворили вектор на матрицю з одним стовпцем (10,1)\n",
        "\n"
      ]
    },
    {
      "cell_type": "code",
      "execution_count": 92,
      "metadata": {},
      "outputs": [
        {
          "name": "stdout",
          "output_type": "stream",
          "text": [
            "Column vector transpone shape (1, 10)\n",
            "\n",
            "Column vector transpone: \n",
            "[[7.26 9.01 6.02 9.55 1.54 3.06 2.59 1.9  2.9  3.97]]\n"
          ]
        }
      ],
      "source": [
        "# 4. Зробіть транспонування `column_vector`, виведіть результат на екран разом з розмірностями отриманої структури.\n",
        "column_vector_transpone = column_vector.T\n",
        "print(f'Column vector transpone shape {column_vector_transpone.shape}')\n",
        "\n",
        "print(f'\\nColumn vector transpone: \\n{column_vector_transpone}')"
      ]
    },
    {
      "cell_type": "markdown",
      "metadata": {},
      "source": [
        "**Висновок** Транспонування Column vector змінює рядки та стовпці місцями. Транспонування змінило Column vector з одного вертикального стовпця на горизонтальний рядок\n",
        "\n",
        "РОзмірність:\n",
        "- стало (1, 10)\n",
        "- було (10, 1)\n"
      ]
    }
  ],
  "metadata": {
    "colab": {
      "provenance": []
    },
    "kernelspec": {
      "display_name": "ml_course",
      "language": "python",
      "name": "python3"
    },
    "language_info": {
      "codemirror_mode": {
        "name": "ipython",
        "version": 3
      },
      "file_extension": ".py",
      "mimetype": "text/x-python",
      "name": "python",
      "nbconvert_exporter": "python",
      "pygments_lexer": "ipython3",
      "version": "3.12.7"
    }
  },
  "nbformat": 4,
  "nbformat_minor": 0
}
