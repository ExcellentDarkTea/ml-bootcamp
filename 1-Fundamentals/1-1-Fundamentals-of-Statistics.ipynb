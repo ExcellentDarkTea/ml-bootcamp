{
 "cells": [
  {
   "cell_type": "markdown",
   "metadata": {},
   "source": [
    "# Homework #1: The basics of statistics \n",
    "\n",
    "## Olha Shaposhnyk"
   ]
  },
  {
   "cell_type": "markdown",
   "metadata": {
    "id": "SDhaTqxcWhnP"
   },
   "source": [
    "In this homework assignment, we will work with you to practice the knowledge we have acquired in the statistics module.\n",
    "\n",
    "**Task 1.** We discussed in lecture that the capital letter Sigma in the Greek alphabet represents a sum in mathematics. Use Python to find $\\Sigma x$, $\\Sigma x^2$, and $\\Sigma (x-1)^2$ for the following data set:\n",
    "`1 3 4`\n",
    "Print the result of each calculation on the screen."
   ]
  },
  {
   "cell_type": "code",
   "execution_count": null,
   "metadata": {
    "id": "B1mgx_IBT0e8"
   },
   "outputs": [
    {
     "name": "stdout",
     "output_type": "stream",
     "text": [
      "Сума всіх елементів [1, 3, 4] = 8\n",
      "Сума квадратів всіх елементів [1, 9, 16] = 26\n",
      "Сума квадратів всіх елементів мінус 1 [0, 4, 9] = 13\n",
      "\n",
      "Sum(x) = 8 \n",
      "Sum(x^2) = 26 \n",
      "Sum((x-1)^2) = 13\n"
     ]
    }
   ],
   "source": [
    "a = [1, 3, 4]\n",
    "sigma_sum = sum(a)\n",
    "print(f'Sum of all elements  {a} = {sigma_sum}')\n",
    "\n",
    "square = [x**2 for x in a]\n",
    "sigma_square = sum(square)\n",
    "print(f'Squared sum of all elements  {square} = {sigma_square}')\n",
    "\n",
    "minus = [(x - 1)**2 for x in a]\n",
    "sigma_minus = sum(minus)\n",
    "\n",
    "print(f'Sum of squares of all elements minus 1 {minus} = {sigma_minus}')\n",
    "\n",
    "print(f'\\nSum(x) = {sigma_sum} \\nSum(x^2) = {sigma_square} \\nSum((x-1)^2) = {sigma_minus}')\n"
   ]
  },
  {
   "cell_type": "markdown",
   "metadata": {
    "id": "fa78aW5lhiia"
   },
   "source": [
    "**Task 2.** We have collected data on the amount of purchases in UAH made by 20 randomly selected customers in our store (we have more customers in total) over the past month. They are represented in the variable `sum_purchases`. Find the **sample mean** for this data using each of the following methods:   \n",
    "\n",
    "  2.1. without using any libraries, using only Python.  \n",
    "  2.2. using the appropriate method of the `numpy` library.\n",
    "\n",
    "  Print the result of calculations in each case on the screen and compare the results. Do they match?"
   ]
  },
  {
   "cell_type": "code",
   "execution_count": 58,
   "metadata": {},
   "outputs": [],
   "source": [
    "import numpy as np"
   ]
  },
  {
   "cell_type": "code",
   "execution_count": 59,
   "metadata": {
    "id": "_9kMt3rq6V5m"
   },
   "outputs": [],
   "source": [
    "sum_purchases = [ 316,  493,  367,  153,  224,  121,  322,  450,  196,  397,  281,\n",
    "  239,  484,  124,  223,  448,  432,  255, 4310, 3524]"
   ]
  },
  {
   "cell_type": "code",
   "execution_count": null,
   "metadata": {
    "id": "wPmL919HT1c0"
   },
   "outputs": [
    {
     "name": "stdout",
     "output_type": "stream",
     "text": [
      "Вибіркове середнє вручну: 667.95, з використанням numpy: 667.95\n",
      "Різниця: 0.0\n",
      "Результати співпадають\n"
     ]
    }
   ],
   "source": [
    "mean_manual = sum(sum_purchases)/len(sum_purchases)\n",
    "\n",
    "mean_np = np.mean(sum_purchases)\n",
    "\n",
    "print(f'Manual mean value: {mean_manual}, using numpy: {mean_np}')\n",
    "\n",
    "print(f'Difference: {mean_manual - mean_np}')\n",
    "\n",
    "if mean_manual == mean_np:\n",
    "    print('Results match')\n",
    "else:\n",
    "    print('Results do not match')"
   ]
  },
  {
   "cell_type": "markdown",
   "metadata": {
    "id": "FMdoxZd0kZdW"
   },
   "source": [
    "**Task 3.** For the same data set in the variable `sum_purchases`, calculate the **median** using each of the following methods:  \n",
    "\n",
    "  3.1. without using any libraries, using only Python.  \n",
    "  3.2. using the appropriate method of the numpy library.  \n",
    "\n",
    "Print the result of calculations in each case on the screen. Compare the results with the value of the sample mean. Write a comment, for which tasks would you use the sample mean and for which - the median?"
   ]
  },
  {
   "cell_type": "code",
   "execution_count": 61,
   "metadata": {},
   "outputs": [],
   "source": [
    "# test_odd = [ 316,  493,  367,  153,  224,  121,  322,  450,  196,  397,  281, \n",
    "#            239,  484,  124,  223,  448,  432,  255, 4310]"
   ]
  },
  {
   "cell_type": "code",
   "execution_count": null,
   "metadata": {},
   "outputs": [
    {
     "name": "stdout",
     "output_type": "stream",
     "text": [
      "Дані містять парну кількість заначень 20 - використовуємо середне між середннимими сусідами\n",
      "Відсортовані дані:\n",
      "[121, 124, 153, 196, 223, 224, 239, 255, 281, 316, 322, 367, 397, 432, 448, 450, 484, 493, 3524, 4310]\n",
      "\n",
      "Медіана вручну: 319.0\n",
      "Медіана з використанням numpy: 319.0\n",
      "Результати співпадають\n"
     ]
    }
   ],
   "source": [
    "if len(sum_purchases) % 2 == 0:\n",
    "    print(f ‘The data contains an even number of entries {len(sum_purchases)} - use the average between the average neighbours’)\n",
    "    median_manual = (sorted(sum_purchases)[len(sum_purchases)//2-1] + sorted(sum_purchases)[len(sum_purchases)//2])/2\n",
    "else:\n",
    "    print(f ‘The data must have an odd number of values {len(sum_purchases)} - use the median value’)\n",
    "    median_manual = (sorted(sum_purchases)[len(sum_purchases)//2])\n",
    "\n",
    "\n",
    "print(f'Sorted data:\\n{sorted(sum_purchases)}\\n')    \n",
    "print(f'Manual median: {median_manual}')\n",
    "\n",
    "median_np = np.median(sum_purchases)\n",
    "print(f'Median using numpy: {median_np}')\n",
    "\n",
    "if median_manual == median_np:\n",
    "    print(‘Results match’)\n",
    "else:\n",
    "    print(‘Results do not match’) "
   ]
  },
  {
   "cell_type": "code",
   "execution_count": null,
   "metadata": {},
   "outputs": [
    {
     "name": "stdout",
     "output_type": "stream",
     "text": [
      "Різниця між вибірковим середнім 667.95 та медіаною 319.0 = 348.95\n"
     ]
    }
   ],
   "source": [
    "print(f'Difference between sample mean {mean_manual} and median {median_manual} = {mean_manual - median_manual:.2f}')"
   ]
  },
  {
   "cell_type": "markdown",
   "metadata": {},
   "source": [
    "- Based on the analysis of the comparison between the mean and median (the difference between which is 348.95), we can say that there are strong outliers in our data, to which the mean is sensitive.\n",
    "- If you look at the data more closely, you will notice that 18 out of 20 data are in the range (120; 500), but we have 2 cases of excessively high values 3524 and 4310, which introduce ‘incorrectness/noise’ when interpreting the mean.\n",
    "\n",
    "A sample mean is appropriate if: \n",
    "- Our data is normally distributed, without extreme high or low values.\n",
    "- Also, if we want to include all, all, all values in our analysis, and each value is of equal importance.  \n",
    "\n",
    "The median is appropriate if:\n",
    "- The data is not normally distributed, has outliers and skewness. The use of the median in these cases makes the calculations insensitive to outliers that are present in the database. This allows for a better representation of the ‘typical’ value for the sample. \n"
   ]
  },
  {
   "cell_type": "markdown",
   "metadata": {
    "id": "o1Z7az2yNDQV"
   },
   "source": [
    "**Task 4**. Calculate the standard deviation of the given sample in the variable `sum_purchases` using each of the following methods:  \n",
    "\n",
    "  4.1. without using any libraries, using only Python.  \n",
    "  4.2. using the appropriate method of the numpy library.  \n",
    "\n",
    "Print the result of calculations in each case on the screen."
   ]
  },
  {
   "cell_type": "code",
   "execution_count": null,
   "metadata": {
    "id": "X4ixtmL2T642"
   },
   "outputs": [
    {
     "name": "stdout",
     "output_type": "stream",
     "text": [
      "Кількість елементів у списку менше 30 - використовуємо формулу для вибірки (n-1)\n",
      "Стандартне відхилення вручну: 1124.5433447451132\n",
      "Стандартне відхилення з використанням numpy: 1124.5433447451132\n",
      "Результати співпадають\n"
     ]
    }
   ],
   "source": [
    "sum_diff = sum((x - mean_manual)**2 for x in sum_purchases) \n",
    "\n",
    "# Значення порогу для вибори формули з генеральної сукупності або вибірки\n",
    "treshold = 30 \n",
    "\n",
    "if len(sum_purchases) <= treshold:\n",
    "    print(f'The number of items in the list is less than {treshold} - we use the formula for sampling (n-1)')\n",
    "    std_manual = np.sqrt(sum_diff/(len(sum_purchases)-1))\n",
    "    std_np = np.std(sum_purchases, ddof=1)\n",
    "\n",
    "else:\n",
    "    print(f'The number of items in the list is greater than {treshold} - use the formula for the general population (n)')\n",
    "    std_manual = np.sqrt(sum_diff/(len(sum_purchases)))\n",
    "    std_np = np.std(sum_purchases)\n",
    "   \n",
    "print(f'Manual standard deviation: {std_manual}')   \n",
    "print(f'Standard deviation using numpy: {std_np}')\n",
    "\n",
    "if std_manual == std_np:\n",
    "    print(‘Results match’)\n",
    "else:\n",
    "    print(‘Results do not match’) "
   ]
  },
  {
   "cell_type": "markdown",
   "metadata": {
    "id": "M1ntKTjXLVlH"
   },
   "source": [
    "**Task 5**. We conducted a study of the age of first-year students. It turned out that\n",
    "- 10 students are 16 years old\n",
    "- 25 students are 17 years old\n",
    "- 20 students are 18 years old\n",
    "- 2 students are 20 years old\n",
    "\n",
    "Calculate the average value for this sample in any way - in pure Python or with numpy - and display the result on the screen."
   ]
  },
  {
   "cell_type": "code",
   "execution_count": null,
   "metadata": {
    "id": "RdIU4M-7T8R4"
   },
   "outputs": [
    {
     "name": "stdout",
     "output_type": "stream",
     "text": [
      "Кількість студентів віком 16 років: 10\n",
      "Кількість студентів віком 17 років: 25\n",
      "Кількість студентів віком 18 років: 20\n",
      "Кількість студентів віком 20 років: 2\n"
     ]
    }
   ],
   "source": [
    "students_number = [10, 25, 20, 2]\n",
    "age = [16, 17, 18, 20]\n",
    "\n",
    "sample = []\n",
    "\n",
    "for num, year in zip(students_number, age):\n",
    "    sample += [year]*num\n",
    "\n",
    "# перевірка чи датасет згенерувався відповідно до опису завдання\n",
    "# print(sample)\n",
    "for indx in range(len(age)):\n",
    "    print(f'Number of students aged {age[indx]} years: {sample.count(age[indx])}')"
   ]
  },
  {
   "cell_type": "code",
   "execution_count": null,
   "metadata": {},
   "outputs": [
    {
     "name": "stdout",
     "output_type": "stream",
     "text": [
      "Вибіркове середнє віку студентів: 17.280701754385966\n"
     ]
    }
   ],
   "source": [
    "sample_mean = np.mean(sample)\n",
    "print(f'Selective average age of students: {sample_mean}')"
   ]
  },
  {
   "cell_type": "markdown",
   "metadata": {
    "id": "Xx8MFkkVM53z"
   },
   "source": [
    "**Task 6**. In addition to the data on the amount of purchases, we also collected data on the number of visits to each of the customers, which are in the variable `visits`. Calculate the Pearson's correlation coefficient for the amount of purchases and the number of visits using each of the following methods:  \n",
    "\n",
    "  6.1. without using any libraries, using only Python.  \n",
    "  6.2. using the appropriate method of the numpy library.  \n",
    "  \n",
    "Display the result on the screen. Analyse the result.\n",
    "\n",
    "Additionally, display the scatter plot by calling the code below and conclude whether something should be changed in the calculation of the correlation so that the Pearson's coefficient shows a correct estimate of the linear relationship?"
   ]
  },
  {
   "cell_type": "code",
   "execution_count": 68,
   "metadata": {
    "id": "4OIGBT7UOWhO"
   },
   "outputs": [],
   "source": [
    "visits = [ 6,  2, 10,  3,  9,  9,  2,  3,  6,  6, 10,  2,  5, 10,  3,  5,  4,\n",
    "        7,  4,  2]"
   ]
  },
  {
   "cell_type": "code",
   "execution_count": 69,
   "metadata": {},
   "outputs": [
    {
     "data": {
      "text/plain": [
       "(20, 20)"
      ]
     },
     "execution_count": 69,
     "metadata": {},
     "output_type": "execute_result"
    }
   ],
   "source": [
    "len(sum_purchases), len(visits)"
   ]
  },
  {
   "cell_type": "code",
   "execution_count": null,
   "metadata": {
    "id": "YLNF7VbeT97Q"
   },
   "outputs": [
    {
     "name": "stdout",
     "output_type": "stream",
     "text": [
      "Коефіціент кореляції Пірсона розрахований вручну: -0.3026584468766646\n",
      "Коефіціент кореляції Пірсона розрахований з використанням numpy: -0.3026584468766646\n",
      "Результати співпадають\n"
     ]
    }
   ],
   "source": [
    "visits_mean = sum(visits)/len(visits)\n",
    "\n",
    "visit_diff = sum([(y - visits_mean)**2 for y in visits])\n",
    "visit_std = np.sqrt(visit_diff/(len(visits)-1))\n",
    "\n",
    "# mean sum_purchases save in VAR \"mean_manual\"\n",
    "# std sum_purchases save in VAR \"std_manual\"\n",
    "\n",
    "#calculate covarience\n",
    "sum_diff_cov = sum([(sum_purchases[i]- mean_manual)*(visits[i]-visits_mean) for i in range (len(sum_purchases))])\n",
    "cov_manual = sum_diff_cov/(len(sum_purchases)-1)\n",
    "\n",
    "r_manual = cov_manual/(std_manual*visit_std)\n",
    "print(f'Pearson correlation coefficient calculated manually: {r_manual}')\n",
    "\n",
    "r_np = np.corrcoef(sum_purchases, visits)\n",
    "print(f'Pearsons correlation coefficient calculated using numpy: {r_np[0,1]}')\n",
    "# print(f'Correlation matrix: \\n{r_np}')\n",
    "if round(r_manual, 15) == round(r_np[0,1], 15):\n",
    "    print('Results match')\n",
    "else:\n",
    "    print('Results do not match')  \n"
   ]
  },
  {
   "cell_type": "code",
   "execution_count": 71,
   "metadata": {
    "colab": {
     "base_uri": "https://localhost:8080/",
     "height": 472
    },
    "id": "gaeoGA-5Prr1",
    "outputId": "0c910a7f-0e96-449a-881d-1efa453b3c8d"
   },
   "outputs": [
    {
     "data": {
      "image/png": "[encoded data removed]",
      "text/plain": [
       "<Figure size 432x288 with 1 Axes>"
      ]
     },
     "metadata": {
      "needs_background": "light"
     },
     "output_type": "display_data"
    }
   ],
   "source": [
    "import matplotlib.pyplot as plt\n",
    "plt.scatter(sum_purchases, visits)\n",
    "plt.title('Scatter Plot of Purchases vs. Visits')\n",
    "plt.xlabel('Sum of Purchases')\n",
    "plt.ylabel('Number of Visits');"
   ]
  },
  {
   "cell_type": "markdown",
   "metadata": {},
   "source": [
    "\n",
    "- the correlation values calculated manually and with the help of built-in libraries are the same.\n",
    "- Based on the graph, we can conclude that the data requires additional processing.\n",
    "- The main assumption is that we need to get rid of outliers. For example, by removing points from the dataset. \n",
    "You can also calculate two correlations: for the main dataset and for the outliers. If we have enough emissions to formulate a separate cluster and analyse it separately. We will have a separate analysis for people who spend little on purchases (conditionally up to 1000) and those who spend a lot. We will divide them into two clusters.\n",
    "- As mentioned in the answer to task 3: If we look at the data more closely, we can see that 18 out of 20 data are in the range (120; 500), but we have 2 cases of excessively high values 3524 and 4310y"
   ]
  },
  {
   "cell_type": "markdown",
   "metadata": {
    "id": "4pEg0KzSQ6KA"
   },
   "source": [
    "**Task 7**. In the previous problem, we noticed that emissions prevent us from getting the ‘true’ correlation value. Let's remove the records that correspond to the values with emissions in the amount of purchases and calculate the correlation coefficient. To do this, set a `threshold' equal to the mean + 2 standard deviations of the purchase amount, and all values above it will be considered emissions (there are other rules for determining emissions, which we will get acquainted with later).\n",
    "\n",
    "Extract the values from both arrays and calculate the Pearson correlation coefficient with `numpy` for the number of visits and the amount of purchases without outliers. Display the result on the screen, draw a scatter plot and analyse the result: what can we say about the relationship in the data?"
   ]
  },
  {
   "cell_type": "code",
   "execution_count": null,
   "metadata": {},
   "outputs": [
    {
     "name": "stdout",
     "output_type": "stream",
     "text": [
      "Встановлюємо поріг для виявлення викидів як \"mean + 2*std\" = : 2917.0366894902263\n",
      "\n",
      "Відфільтрований масив від викидів для змінної sum_purchases:\n",
      "[316, 493, 367, 153, 224, 121, 322, 450, 196, 397, 281, 239, 484, 124, 223, 448, 432, 255]\n",
      "Відфільтрований масив від викидів для змінної visits:\n",
      "[6, 2, 10, 3, 9, 9, 2, 3, 6, 6, 10, 2, 5, 10, 3, 5, 4, 7]\n"
     ]
    }
   ],
   "source": [
    "# sum_purchases std saved in VAR manual_std\n",
    "# sum_purchases mean saved in VAR mean_manual\n",
    "\n",
    "treshold = mean_manual + 2 * std_manual\n",
    "print(f'Set threshold for emissions detection as ‘mean + 2*std’ = : {treshold}\\n')\n",
    "\n",
    "filtered_sum_purchases =[x for x in sum_purchases if x <= treshold]\n",
    "filtered_visits = [visits[i] for i in range (len(visits)) if sum_purchases[i] <= treshold]\n",
    "\n",
    "print(f'Filtered array from outliers for variable sum_purchases:\\n{filtered_sum_purchases}')\n",
    "print(f'Filtered outlier array for variable visits:\\n{filtered_visits}')"
   ]
  },
  {
   "cell_type": "code",
   "execution_count": null,
   "metadata": {},
   "outputs": [
    {
     "name": "stdout",
     "output_type": "stream",
     "text": [
      "Коефіцієнт кореляціїдля відфільтрованих даних: -0.3685212078127798\n"
     ]
    }
   ],
   "source": [
    "r_creal = np.corrcoef(filtered_sum_purchases, filtered_visits)\n",
    "print(f'Correlation coefficient for filtered data: {r_creal[0,1]}')"
   ]
  },
  {
   "cell_type": "code",
   "execution_count": 74,
   "metadata": {},
   "outputs": [
    {
     "data": {
      "image/png": "[encoded data removed]",
      "text/plain": [
       "<Figure size 432x288 with 1 Axes>"
      ]
     },
     "metadata": {
      "needs_background": "light"
     },
     "output_type": "display_data"
    }
   ],
   "source": [
    "plt.scatter(filtered_sum_purchases, filtered_visits)\n",
    "plt.title('Scatter Plot of Purchases vs. Visits')\n",
    "plt.xlabel('Sum of Purchases')\n",
    "plt.ylabel('Number of Visits');"
   ]
  },
  {
   "cell_type": "markdown",
   "metadata": {},
   "source": [
    "Conclusions:\n",
    "- The Pearson's coefficient (-0.3685) indicates a weak-medium negative linear relationship between the amount of purchases and the number of visits.\n",
    "- This can be interpreted as: as the amount of purchases (the first parameter) increases, the number of visits (the second parameter) decreases slightly.\n",
    "   - This makes sense, because if it's a grocery store, for example, and a person shops once a week, they spend a large amount at once. And if they shop more often (once every 2 days), then the amount of each purchase will be smaller, because they need less food.\n",
    "- Despite the fact that getting rid of the outliers helped improve the correlation coefficients (from -0.30 to -0.36), our data is still very sparse and it is difficult to capture complex relationships between them.\n",
    "- Plan to improve the situation:\n",
    "   - increase the number of data in the sample to have a more representative situation\n",
    "   - You can also try to look for non-linear relationships. However, based on a visual analysis of the graph, it is difficult to identify a more pronounced type of relationship"
   ]
  },
  {
   "cell_type": "markdown",
   "metadata": {},
   "source": []
  }
 ],
 "metadata": {
  "colab": {
   "provenance": []
  },
  "kernelspec": {
   "display_name": "laba",
   "language": "python",
   "name": "python3"
  },
  "language_info": {
   "codemirror_mode": {
    "name": "ipython",
    "version": 3
   },
   "file_extension": ".py",
   "mimetype": "text/x-python",
   "name": "python",
   "nbconvert_exporter": "python",
   "pygments_lexer": "ipython3",
   "version": "3.10.14"
  }
 },
 "nbformat": 4,
 "nbformat_minor": 0
}
