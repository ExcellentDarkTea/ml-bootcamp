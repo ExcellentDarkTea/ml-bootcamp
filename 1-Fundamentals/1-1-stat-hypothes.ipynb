{
  "cells": [
    {
      "cell_type": "markdown",
      "metadata": {},
      "source": [
        "# Домашне завдання №3 (2-1): Тестування стат.гіпотез\n",
        "\n",
        "## Ольга Шапошник"
      ]
    },
    {
      "cell_type": "code",
      "execution_count": 2,
      "metadata": {},
      "outputs": [],
      "source": [
        "import numpy as np\n",
        "from statsmodels.stats.weightstats import ztest, ttest_ind"
      ]
    },
    {
      "cell_type": "markdown",
      "metadata": {
        "id": "ID3uSQHkQJ2J"
      },
      "source": [
        "В цьому ДЗ потренуємось виконувати Z-тести для тестування гіпотез в різних задачах. Для коректної імплементації та інтерпретації тестів рекоемндую переглянути спершу документацію:\n",
        "\n",
        "https://www.statsmodels.org/dev/generated/statsmodels.stats.weightstats.ztest.html\n",
        "\n",
        "### Завдання 1: Z-тест для однієї вибірки\n",
        "\n",
        "**Мета**: Перевірити, чи середнє значення вибірки відрізняється від гіпотетичного середнього.\n",
        "\n",
        "**Припущення**: Середній ріст студентів університету вважається 170 см. Ми хочемо перевірити, чи середній ріст випадкової вибірки студентів істотно більший. Вибірка задана в змінній `heights`.\n",
        "\n",
        "Для виконання завдання імпортуйте метод для проведення `ztest`, виконайте Z-тест з Python, виведіть p-value і зробіть заключення, чи справдилось припущення про середній зріст студентів на рівні значущості 0.05?\n",
        "\n",
        "Використовуємо тут Z-тест, оскільки вибірка достатньо велика (більше 30 екземплярів) і можемо вважати, що її стандартне відхилення близьке до ст. відхилення генеральної сукупності, а значить - відоме."
      ]
    },
    {
      "cell_type": "code",
      "execution_count": 3,
      "metadata": {
        "id": "TUYNSCDzRE7N"
      },
      "outputs": [],
      "source": [
        "heights = [174, 171, 175, 179, 170, 170, 179, 175, 169, 174, 169, 169, 173, 162, 163, 169, 166,\n",
        "           173, 167, 164, 179, 170, 172, 164, 169, 175, 169, 174, 169, 169, 173, 162, 177]"
      ]
    },
    {
      "cell_type": "code",
      "execution_count": 4,
      "metadata": {
        "id": "uTJEZPARYMd4"
      },
      "outputs": [
        {
          "name": "stdout",
          "output_type": "stream",
          "text": [
            "mean: 170.70, std: 4.65, number of records: 33.00\n"
          ]
        }
      ],
      "source": [
        "mean_height = np.mean(heights)\n",
        "mean_null = 170\n",
        "alpha = 0.05\n",
        "std = np.std(heights)\n",
        "n = len(heights)\n",
        "st = std / np.sqrt(n)\n",
        "print(f\"mean: {mean_height:.2f}, std: {std:.2f}, number of records: {n:.2f}\")"
      ]
    },
    {
      "cell_type": "code",
      "execution_count": 5,
      "metadata": {},
      "outputs": [
        {
          "name": "stdout",
          "output_type": "stream",
          "text": [
            "Z-test: 0.8482, p-value: 0.1982\n"
          ]
        }
      ],
      "source": [
        "z_test, p_value = ztest(heights, value=mean_null, alternative='larger')\n",
        "print(f'Z-test: {z_test:.4f}, p-value: {p_value:.4f}')"
      ]
    },
    {
      "cell_type": "code",
      "execution_count": 6,
      "metadata": {},
      "outputs": [
        {
          "name": "stdout",
          "output_type": "stream",
          "text": [
            "H0 is not rejected. Accept H0\n",
            "Mean height is NOT significantly greater than 170\n"
          ]
        }
      ],
      "source": [
        "if p_value < alpha:\n",
        "    print('H0 is rejected. Accept H1')\n",
        "    print('Mean height is significantly greater than 170')\n",
        "else:   \n",
        "    print('H0 is not rejected. Accept H0')  \n",
        "    print('Mean height is NOT significantly greater than 170')  "
      ]
    },
    {
      "cell_type": "markdown",
      "metadata": {},
      "source": [
        "### Висновок ДЗ1\n",
        "- Основна мета була Перевірити, чи середнє значення вибірки відрізняється від гіпотетичного середнього.\n",
        "- Гіпотетичного середнє = 170\n",
        "- Середнє для нашої вибірки 170.70 (при std = 4.65),\n",
        "- Для того аби перевірити чи зріст у вибірка наших студентів статистично вищий ми маємо використати налаштування: alternative='larger', в такому випадку:\n",
        "    - *Нульова гіпотеза*: Середнє вибірки дорівнює або менше за 170 см\n",
        "    - *Альтернативна гіпотеза*: Середнє вибірки більше за 170 см\n",
        "- На основі ztest ми маємо наступні розрахунки Z-test: 0.8482, p-value: 0.1982, при заданому рівню значущості у 0.05\n",
        "- Розраховане p-value *більше* за заданий рівень значущості, тому ми маємо прийняти нульову гіпотезу. Яка каже що Середнє вибірки дорівнює або менше за 170 см\n",
        "- на даному етапі в нас немає достатніх доказів, що середній зріст вибірки значно перевищує 170\n"
      ]
    },
    {
      "cell_type": "markdown",
      "metadata": {
        "id": "ga4iKM9kQa9Q"
      },
      "source": [
        "### Завдання 2: Z-тест для двох незалежних вибірок\n",
        "\n",
        "**Завдання 2.1.**\n",
        "\n",
        "**Мета**: Перевірити, чи існує статистична різниця між середніми оцінками двох груп студентів.\n",
        "\n",
        "**Припущення**: Група A отримала новий навчальний курс, а група B продовжувала зі стандартним курсом. Ми перевіряємо, чи є новий курс ефективнішим.\n",
        "\n",
        "Виконайте Z-тест з Python, виведіть p-value і зробіть заключення, чи справдилось припущення щодо студентів на рівні значущості 0.05?"
      ]
    },
    {
      "cell_type": "code",
      "execution_count": 7,
      "metadata": {
        "id": "SngJjNBJTgBp"
      },
      "outputs": [],
      "source": [
        "group_a_scores = [78.55, 72.25, 79.88, 75.  , 76.54, 74.99, 87.26, 77.93, 72.71,\n",
        "       82.11, 71.9 , 79.04, 68.2 , 71.36, 78.98, 81.69, 78.86, 77.42,\n",
        "       76.49, 70.61, 74.4 , 75.7 , 83.29, 79.72, 69.18, 79.62, 76.07,\n",
        "       74.62, 81.06, 83.15, 82.66, 73.8 , 76.45, 79.66, 82.88, 75.6 ,\n",
        "       77.07, 72.47, 72.02, 82.06]\n",
        "\n",
        "group_b_scores = [81.78, 74.64, 80.02, 76.81, 71.77, 76.81, 82.69, 74.82, 82.82,\n",
        "       61.9 , 79.11, 75.44, 73.5 , 75.46, 65.06, 73.9 , 76.79, 82.39,\n",
        "       72.41, 70.96, 72.49, 79.58, 76.64, 72.35, 77.57, 75.49, 79.84,\n",
        "       71.49, 73.36, 73.04, 67.68, 76.48, 76.31, 75.03, 73.83, 67.92,\n",
        "       72.9 , 73.29, 70.99, 74.19]"
      ]
    },
    {
      "cell_type": "code",
      "execution_count": 8,
      "metadata": {
        "id": "CvftCAEHYPKL"
      },
      "outputs": [
        {
          "name": "stdout",
          "output_type": "stream",
          "text": [
            "mean A: 77.08, std A: 4.31, number of records A: 40.00\n",
            "mean B: 74.74, std B: 4.46, number of records B: 40.00\n"
          ]
        }
      ],
      "source": [
        "mean_A = np.mean(group_a_scores)\n",
        "mean_B = np.mean(group_b_scores)\n",
        "std_A = np.std(group_a_scores)\n",
        "std_B = np.std(group_b_scores)\n",
        "n_A = len(group_a_scores)\n",
        "n_B = len(group_b_scores)\n",
        "\n",
        "alpha_2 = 0.05\n",
        "\n",
        "print(f\"mean A: {mean_A:.2f}, std A: {std_A:.2f}, number of records A: {n_A:.2f}\")\n",
        "print(f\"mean B: {mean_B:.2f}, std B: {std_B:.2f}, number of records B: {n_B:.2f}\")"
      ]
    },
    {
      "cell_type": "code",
      "execution_count": 9,
      "metadata": {},
      "outputs": [
        {
          "name": "stdout",
          "output_type": "stream",
          "text": [
            "Z-test: 2.3574, p-value: 0.0184\n"
          ]
        }
      ],
      "source": [
        "z_test_2, p_value_2 = ztest(group_a_scores, group_b_scores, value=0, alternative='two-sided')\n",
        "print(f'Z-test: {z_test_2:.4f}, p-value: {p_value_2:.4f}')"
      ]
    },
    {
      "cell_type": "code",
      "execution_count": 10,
      "metadata": {},
      "outputs": [
        {
          "name": "stdout",
          "output_type": "stream",
          "text": [
            "H0 is rejected. Accept H1\n",
            "Mean scores of group A and group B are significantly different\n"
          ]
        }
      ],
      "source": [
        "if p_value_2 < alpha_2:\n",
        "    print('H0 is rejected. Accept H1')\n",
        "    print('Mean scores of group A and group B are significantly different')\n",
        "else:\n",
        "    print('H0 is not rejected. Accept H0')\n",
        "    print('Mean scores of group A and group B are NOT significantly different')    "
      ]
    },
    {
      "cell_type": "code",
      "execution_count": 22,
      "metadata": {},
      "outputs": [
        {
          "name": "stdout",
          "output_type": "stream",
          "text": [
            "Z-test: 2.3574, p-value: 0.0184\n"
          ]
        }
      ],
      "source": [
        "z_test_2, p_value_2 = ztest(group_a_scores, group_b_scores, value=0, alternative='two-sided')\n",
        "print(f'Z-test: {z_test_2:.4f}, p-value: {p_value_2:.4f}')"
      ]
    },
    {
      "cell_type": "markdown",
      "metadata": {},
      "source": [
        "### Висновок ДЗ 2_1\n",
        "- Перевірити, чи існує статистична різниця між середніми оцінками двох груп студентів.\n",
        "- При тому що статистика показує\n",
        "    - для групи А: mean A: 77.08, std A: 4.31\n",
        "    - для групи В: mean B: 74.74, std B: 4.46\n",
        "- Для того аби перевірити відношення в двох вибірках сформуємо гіпотези:\n",
        "    - **Нульова гіпотеза**: Середні значення для обох груп однакові\n",
        "    - **Альтернативна гіпотеза**: Середні значення для груп відрізняються\n",
        "\n",
        "- На основі ztest ми маємо наступні розрахунки Z-test: 2.3574, p-value: 0.0184, при заданому рівню значущості у 0.05\n",
        "\n",
        "- Розраховане p-value *менше* за заданий рівень значущості, тому ми маємо відхилити нульову гіпотезу (та прийняти альтернативну). \n",
        "- Тому ми можемо стверджувати що існує статистично значущі відмінності між середніми оцінками групи A і групи B. \n",
        "- Для того аби дізнатися група А мають кращі результати можна використати (alternative='larger'). В нашому випадку ми бачимо на основі статистики що середнє значення для групи А (77.08) вищий за середнє значення в групі В (74.74). Отже новий курс є більш ефективним"
      ]
    },
    {
      "cell_type": "markdown",
      "metadata": {
        "id": "zOxz2tU0VpJM"
      },
      "source": [
        "**Завдання 2.2.**\n",
        "\n",
        "\n",
        "**Мета**: Побачити, як впливає розмір вибірок на результат тесту.\n",
        "\n",
        "**Завдання**: Уявіть, що з групи А ми маємо тільки перші 5 записів, а з групи В - усі. Таке могло статись, якщо ми вже маємо результати тестів учнів за попередньою програмою, а тести за новою програмою здали наразі лише 5 учнів і ми вирішили не чекати довше.\n",
        "Виберіть перші 5 записів для групи А і проведіть t-test (для цього використовуємо наступний [метод](https://docs.scipy.org/doc/scipy/reference/generated/scipy.stats.ttest_ind.html)). Виведіть значення p-value. Зробіть висновок, який результат ви бачите щодо стат. значущості на рівні 0.05 для цього експерименту?\n",
        "\n",
        "Тут проводимо t-test оскільки одна з вибірок - дуже мала."
      ]
    },
    {
      "cell_type": "code",
      "execution_count": 12,
      "metadata": {
        "id": "D9znE6liYQmP"
      },
      "outputs": [
        {
          "name": "stdout",
          "output_type": "stream",
          "text": [
            "mean A short: 76.44, std A short: 2.68, number of records A short: 5.00\n",
            "mean B: 74.74, std B: 4.46, number of records B: 40.00\n"
          ]
        }
      ],
      "source": [
        "group_a_scores_short = group_a_scores[:5]\n",
        "\n",
        "mean_A_short = np.mean(group_a_scores_short)\n",
        "std_A_short = np.std(group_a_scores_short)\n",
        "n_A_short = len(group_a_scores_short)\n",
        "\n",
        "print(f\"mean A short: {mean_A_short:.2f}, std A short: {std_A_short:.2f}, number of records A short: {n_A_short:.2f}\")\n",
        "print(f\"mean B: {mean_B:.2f}, std B: {std_B:.2f}, number of records B: {n_B:.2f}\")"
      ]
    },
    {
      "cell_type": "code",
      "execution_count": 15,
      "metadata": {},
      "outputs": [
        {
          "name": "stdout",
          "output_type": "stream",
          "text": [
            "T-test: 0.8168, p-value: 0.4185\n"
          ]
        }
      ],
      "source": [
        "t_test = ttest_ind(group_a_scores_short, group_b_scores, alternative='two-sided')\n",
        "p_value_ttest = t_test[1]\n",
        "print(f'T-test: {t_test[0]:.4f}, p-value: {t_test[1]:.4f}')"
      ]
    },
    {
      "cell_type": "code",
      "execution_count": 16,
      "metadata": {},
      "outputs": [
        {
          "name": "stdout",
          "output_type": "stream",
          "text": [
            "H0 is not rejected. Accept H0\n",
            "Mean scores of group A and group B are NOT significantly different\n"
          ]
        }
      ],
      "source": [
        "if p_value_ttest < alpha_2:\n",
        "    print('H0 is rejected. Accept H1')\n",
        "    print('Mean scores of group A and group B are significantly different')\n",
        "else:\n",
        "    print('H0 is not rejected. Accept H0')\n",
        "    print('Mean scores of group A and group B are NOT significantly different')    "
      ]
    },
    {
      "cell_type": "markdown",
      "metadata": {},
      "source": [
        "### Висновок ДЗ 2_2\n",
        "- Нам необхідно зрозуміти як розмір вибірок впливає на значення тесту. \n",
        "- Статистика:\n",
        "    - для групи А: mean = 76.44, std = 2.68, number of records = 5\n",
        "    - для групи В: mean = 74.74, std = 4.46, number of records = 40\n",
        "- Для того аби перевірити відношення в дво вибірках сформуємо гіпотези:\n",
        "    - **Нульова гіпотеза**: Середні значення для обох груп однакові\n",
        "    - **Альтернативна гіпотеза**: Середні значення для груп відрізняються\n",
        "- Через те що ми маємо малу вибірку, то використовуємо t test (T-test: 0.8168, p-value: 0.4185)\n",
        "\n",
        "- Розраховане p-value *Більше* за заданий рівень значущості (0.05), тому ми не можемо відхилити нульову гіпотезу.\n",
        "- Таким чином при зменшенні к-ті записів в групі А ми більше не можемо стверджувати що ми маємо статистично значущу різницю між групами. \n",
        "- Тому навіть якщо існує реальна різниця між двома вибірками (що було в попередньому випадку), то при недостатній к-ті записів ми можемо отримати статистично не значущий результат\n"
      ]
    },
    {
      "cell_type": "markdown",
      "metadata": {
        "id": "3TcRHLLz0SLw"
      },
      "source": [
        "\n",
        "### Завдання 3\\*: Z-тест для двох **пов'язаних** вибірок\n",
        "\n",
        "**Мета**: Перевірити, чи вплинув тренінг на продуктивність працівників, коли всі справробітники проходили тренінг.\n",
        "\n",
        "**Припущення**: Наші працівники проходять однаковий тренінг, і ми хочемо з'ясувати, чи покращилися їхні показники після тренінгу на рівні значущості 0.05. Виконайте Z-тест з Python, виведіть p-value і зробіть заключення, чи поліпшились показники працівників на рівні значущості 0.05?\n",
        "\n",
        "Зверніть увагу, ці вибірки повʼязані між собою, значить не буде коректно виконати z-test між ними, натомість, ми можемо порівняти, чи різниця в результатах (продуктивності співробітників) є стат значущою."
      ]
    },
    {
      "cell_type": "code",
      "execution_count": 17,
      "metadata": {
        "id": "uxrjagJFW1GC"
      },
      "outputs": [
        {
          "data": {
            "text/plain": [
              "array([ 4.65,  3.03,  5.9 ,  2.47,  8.44,  4.26,  1.29,  0.86,  3.97,\n",
              "        2.55,  4.42,  3.94,  2.85,  1.3 , -0.03,  2.11,  4.71,  3.42,\n",
              "        0.51,  3.35,  3.77,  1.23,  3.31,  3.11,  0.72,  3.72,  4.12,\n",
              "        5.17,  5.11,  0.24])"
            ]
          },
          "execution_count": 17,
          "metadata": {},
          "output_type": "execute_result"
        }
      ],
      "source": [
        "before_training = [57.82, 37.63, 36.8 , 55.22, 52.97, 52.5 , 53.46, 43.2 , 52.32,\n",
        "       52.93, 42.86, 68.66, 54.74, 38.09, 56.57, 40.25, 57.87, 61.59,\n",
        "       41.79, 59.63, 54.13, 58.22, 68.97, 47.55, 42.46, 41.1 , 41.84,\n",
        "       49.23, 53.41, 52.77]\n",
        "\n",
        "after_training = [62.47, 40.66, 42.7 , 57.69, 61.41, 56.76, 54.75, 44.06, 56.29,\n",
        "       55.48, 47.28, 72.6 , 57.59, 39.39, 56.54, 42.36, 62.58, 65.01,\n",
        "       42.3 , 62.98, 57.9 , 59.45, 72.28, 50.66, 43.18, 44.82, 45.96,\n",
        "       54.4 , 58.52, 53.01]\n",
        "\n",
        "before = np.array(before_training)\n",
        "after = np.array(after_training)\n",
        "training_diff = after - before\n",
        "\n",
        "training_diff"
      ]
    },
    {
      "cell_type": "code",
      "execution_count": 18,
      "metadata": {
        "id": "NwCsN91OYSpN"
      },
      "outputs": [
        {
          "name": "stdout",
          "output_type": "stream",
          "text": [
            "mean diff: 3.15, std  diff: 1.86, number of records: 30.00\n",
            "mean before: 50.89, std before: 8.58\n",
            "mean after: 54.04, std after: 8.96\n"
          ]
        }
      ],
      "source": [
        "mean_before = np.mean(before)\n",
        "mean_after = np.mean(after)\n",
        "std_before = np.std(before)\n",
        "std_after = np.std(after)\n",
        "\n",
        "mean_trainung_diff = np.mean(training_diff)\n",
        "mean_trainung_diff_null = 0 # no difference\n",
        "std_trainung_diff = np.std(training_diff)\n",
        "n_trainung_diff = len(training_diff)\n",
        "alpha_3 = 0.05\n",
        "print(f\"mean diff: {mean_trainung_diff:.2f}, std  diff: {std_trainung_diff:.2f}, number of records: {n_trainung_diff:.2f}\")\n",
        "print(f\"mean before: {mean_before:.2f}, std before: {std_before:.2f}\")\n",
        "print(f\"mean after: {mean_after:.2f}, std after: {std_after:.2f}\")"
      ]
    },
    {
      "cell_type": "code",
      "execution_count": 19,
      "metadata": {},
      "outputs": [
        {
          "name": "stdout",
          "output_type": "stream",
          "text": [
            "Z-test: 9.1389, p-value: 0.0000\n"
          ]
        }
      ],
      "source": [
        "z_test_3, p_value_3 = ztest(training_diff, value = mean_trainung_diff_null, alternative='larger')\n",
        "print(f'Z-test: {z_test_3:.4f}, p-value: {p_value_3:.4f}')"
      ]
    },
    {
      "cell_type": "code",
      "execution_count": 20,
      "metadata": {},
      "outputs": [
        {
          "name": "stdout",
          "output_type": "stream",
          "text": [
            "H0 is rejected. Accept H1\n",
            "Mean difference is significantly greater than 0\n"
          ]
        }
      ],
      "source": [
        "if p_value_3 < alpha_3:\n",
        "    print('H0 is rejected. Accept H1')\n",
        "    print('Mean difference is significantly greater than 0')\n",
        "else:   \n",
        "    print('H0 is not rejected. Accept H0')  \n",
        "    print('Mean difference is NOT significantly greater than 0')    "
      ]
    },
    {
      "cell_type": "markdown",
      "metadata": {},
      "source": [
        "### Висновок ДЗ 3\n",
        "- Нам необхідно Перевірити, чи вплинув тренінг на продуктивність працівників (чи поліпшились показники працівників).\n",
        "- Через те що ці дві події залежні одна від одної ми маємо перефразувати задачу, аби позбутися цього обмеження. Для цього розрахуємо різницю між продуктивність Після тренінгу та До тренінгу (аби побачити чи є різниця між поточним станом і минулим))\n",
        "- Статистика:\n",
        "    - До тренінгу: mean = 50.89, std = 8.58\n",
        "    - Після тренінгу: mean = 54.04, std = 8.96\n",
        "    - Різниця: mean = 3.15, std  = 1.86\n",
        "- Гіпотетичне середнє = 0 (припущення що різниця між До та Після немає, показники залишилися однаковими)\n",
        "- Для того аби перевірити чи показники статистично поліпшилися оберемо налаштування: alternative='larger'\n",
        "    - **Нульова гіпотеза**: Середня різниця продуктивності між показниками дорівнює\\менше 0 \n",
        "    - **Альтернативна гіпотеза**: Середня різниця продуктивності між показниками більша за 0\n",
        "\n",
        "\n",
        "- На основі ztest ми маємо наступні розрахунки Z-test: 9.1389, p-value: 0.0000, при заданому рівню значущості у 0.05\n",
        "- Розраховане p-value *менше* за заданий рівень значущості, тому ми маємо відхилити нульову гіпотезу (та прийняти альтернативну). \n",
        "- Як висновок ми приймаємо що різниця між продуктивністю До та Після тренінгу поліпшилася. Тренінг статистично значимо вплинув на продуктивність а позитивну сторону.\n",
        "\n"
      ]
    },
    {
      "cell_type": "markdown",
      "metadata": {},
      "source": []
    }
  ],
  "metadata": {
    "colab": {
      "provenance": []
    },
    "kernelspec": {
      "display_name": "laba",
      "language": "python",
      "name": "python3"
    },
    "language_info": {
      "codemirror_mode": {
        "name": "ipython",
        "version": 3
      },
      "file_extension": ".py",
      "mimetype": "text/x-python",
      "name": "python",
      "nbconvert_exporter": "python",
      "pygments_lexer": "ipython3",
      "version": "3.10.14"
    }
  },
  "nbformat": 4,
  "nbformat_minor": 0
}
