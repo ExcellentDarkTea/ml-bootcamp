{
  "cells": [
    {
      "cell_type": "markdown",
      "metadata": {},
      "source": [
        "# Statistical Tests "
      ]
    },
    {
      "cell_type": "code",
      "execution_count": 2,
      "metadata": {},
      "outputs": [],
      "source": [
        "import numpy as np\n",
        "from statsmodels.stats.weightstats import ztest, ttest_ind"
      ]
    },
    {
      "cell_type": "markdown",
      "metadata": {
        "id": "ID3uSQHkQJ2J"
      },
      "source": [
        "In this exercise, we will practice performing Z-tests to test hypotheses in various tasks. For correct implementation and interpretation of the tests, I recommend that you first review the documentation:\n",
        "\n",
        "https://www.statsmodels.org/dev/generated/statsmodels.stats.weightstats.ztest.html\n",
        "\n",
        "### Task 1: Z-test for one sample\n",
        "\n",
        "**Goal**: Check whether the sample mean differs from the hypothetical mean.\n",
        "\n",
        "**Assumption**: The average height of university students is assumed to be 170 cm. We want to check whether the average height of a random sample of students is significantly higher. The sample is given in the `heights` variable.\n",
        "\n",
        "To complete the task, import the `ztest` method, perform the Z-test from Python, output the p-value, and conclude whether the assumption about the average height of students at the 0.05 significance level is true?\n",
        "\n",
        "We use the Z-test here because the sample is large enough (more than 30 samples) and we can assume that its standard deviation is close to the standard deviation of the general population, and therefore is known."
      ]
    },
    {
      "cell_type": "code",
      "execution_count": 3,
      "metadata": {
        "id": "TUYNSCDzRE7N"
      },
      "outputs": [],
      "source": [
        "heights = [174, 171, 175, 179, 170, 170, 179, 175, 169, 174, 169, 169, 173, 162, 163, 169, 166,\n",
        "           173, 167, 164, 179, 170, 172, 164, 169, 175, 169, 174, 169, 169, 173, 162, 177]"
      ]
    },
    {
      "cell_type": "code",
      "execution_count": 4,
      "metadata": {
        "id": "uTJEZPARYMd4"
      },
      "outputs": [
        {
          "name": "stdout",
          "output_type": "stream",
          "text": [
            "mean: 170.70, std: 4.65, number of records: 33.00\n"
          ]
        }
      ],
      "source": [
        "mean_height = np.mean(heights)\n",
        "mean_null = 170\n",
        "alpha = 0.05\n",
        "std = np.std(heights)\n",
        "n = len(heights)\n",
        "st = std / np.sqrt(n)\n",
        "print(f\"mean: {mean_height:.2f}, std: {std:.2f}, number of records: {n:.2f}\")"
      ]
    },
    {
      "cell_type": "code",
      "execution_count": 5,
      "metadata": {},
      "outputs": [
        {
          "name": "stdout",
          "output_type": "stream",
          "text": [
            "Z-test: 0.8482, p-value: 0.1982\n"
          ]
        }
      ],
      "source": [
        "z_test, p_value = ztest(heights, value=mean_null, alternative='larger')\n",
        "print(f'Z-test: {z_test:.4f}, p-value: {p_value:.4f}')"
      ]
    },
    {
      "cell_type": "code",
      "execution_count": 6,
      "metadata": {},
      "outputs": [
        {
          "name": "stdout",
          "output_type": "stream",
          "text": [
            "H0 is not rejected. Accept H0\n",
            "Mean height is NOT significantly greater than 170\n"
          ]
        }
      ],
      "source": [
        "if p_value < alpha:\n",
        "    print('H0 is rejected. Accept H1')\n",
        "    print('Mean height is significantly greater than 170')\n",
        "else:   \n",
        "    print('H0 is not rejected. Accept H0')  \n",
        "    print('Mean height is NOT significantly greater than 170')  "
      ]
    },
    {
      "cell_type": "markdown",
      "metadata": {},
      "source": [
        "### Conclusion of HW1\n",
        "- The main goal was to check whether the sample mean is different from the hypothetical mean.\n",
        "- Hypothetical mean = 170\n",
        "- The mean for our sample is 170.70 (with std = 4.65),\n",
        "- In order to check whether the height of our sample of students is statistically higher, we should use the setting: alternative='larger', in this case:\n",
        "    - *Null hypothesis*: The sample mean is equal to or less than 170 cm\n",
        "    - *Alternative hypothesis*: The sample mean is greater than 170 cm\n",
        "- Based on ztest, we have the following Z-test calculations: 0.8482, p-value: 0.1982, at a given significance level of 0.05\n",
        "- The calculated p-value is *greater* than the given significance level, so we should accept the null hypothesis. Which says that the sample mean is equal to or less than 170 cm\n",
        "- at this stage we do not have sufficient evidence that the sample mean is significantly greater than 170"
      ]
    },
    {
      "cell_type": "markdown",
      "metadata": {
        "id": "ga4iKM9kQa9Q"
      },
      "source": [
        "### Task 2: Z-test for two independent samples\n",
        "\n",
        "**Task 2.1.**\n",
        "\n",
        "**Objective**: To test whether there is a statistical difference between the mean scores of two groups of students.\n",
        "\n",
        "**Assumption**: Group A received a new course of study and Group B continued with the standard course. We are testing whether the new course is more effective.\n",
        "\n",
        "Perform a Z-test with Python, output the p-value, and conclude whether the assumption about the students is true at the 0.05 significance level?"
      ]
    },
    {
      "cell_type": "code",
      "execution_count": 7,
      "metadata": {
        "id": "SngJjNBJTgBp"
      },
      "outputs": [],
      "source": [
        "group_a_scores = [78.55, 72.25, 79.88, 75.  , 76.54, 74.99, 87.26, 77.93, 72.71,\n",
        "       82.11, 71.9 , 79.04, 68.2 , 71.36, 78.98, 81.69, 78.86, 77.42,\n",
        "       76.49, 70.61, 74.4 , 75.7 , 83.29, 79.72, 69.18, 79.62, 76.07,\n",
        "       74.62, 81.06, 83.15, 82.66, 73.8 , 76.45, 79.66, 82.88, 75.6 ,\n",
        "       77.07, 72.47, 72.02, 82.06]\n",
        "\n",
        "group_b_scores = [81.78, 74.64, 80.02, 76.81, 71.77, 76.81, 82.69, 74.82, 82.82,\n",
        "       61.9 , 79.11, 75.44, 73.5 , 75.46, 65.06, 73.9 , 76.79, 82.39,\n",
        "       72.41, 70.96, 72.49, 79.58, 76.64, 72.35, 77.57, 75.49, 79.84,\n",
        "       71.49, 73.36, 73.04, 67.68, 76.48, 76.31, 75.03, 73.83, 67.92,\n",
        "       72.9 , 73.29, 70.99, 74.19]"
      ]
    },
    {
      "cell_type": "code",
      "execution_count": 8,
      "metadata": {
        "id": "CvftCAEHYPKL"
      },
      "outputs": [
        {
          "name": "stdout",
          "output_type": "stream",
          "text": [
            "mean A: 77.08, std A: 4.31, number of records A: 40.00\n",
            "mean B: 74.74, std B: 4.46, number of records B: 40.00\n"
          ]
        }
      ],
      "source": [
        "mean_A = np.mean(group_a_scores)\n",
        "mean_B = np.mean(group_b_scores)\n",
        "std_A = np.std(group_a_scores)\n",
        "std_B = np.std(group_b_scores)\n",
        "n_A = len(group_a_scores)\n",
        "n_B = len(group_b_scores)\n",
        "\n",
        "alpha_2 = 0.05\n",
        "\n",
        "print(f\"mean A: {mean_A:.2f}, std A: {std_A:.2f}, number of records A: {n_A:.2f}\")\n",
        "print(f\"mean B: {mean_B:.2f}, std B: {std_B:.2f}, number of records B: {n_B:.2f}\")"
      ]
    },
    {
      "cell_type": "code",
      "execution_count": 9,
      "metadata": {},
      "outputs": [
        {
          "name": "stdout",
          "output_type": "stream",
          "text": [
            "Z-test: 2.3574, p-value: 0.0184\n"
          ]
        }
      ],
      "source": [
        "z_test_2, p_value_2 = ztest(group_a_scores, group_b_scores, value=0, alternative='two-sided')\n",
        "print(f'Z-test: {z_test_2:.4f}, p-value: {p_value_2:.4f}')"
      ]
    },
    {
      "cell_type": "code",
      "execution_count": 10,
      "metadata": {},
      "outputs": [
        {
          "name": "stdout",
          "output_type": "stream",
          "text": [
            "H0 is rejected. Accept H1\n",
            "Mean scores of group A and group B are significantly different\n"
          ]
        }
      ],
      "source": [
        "if p_value_2 < alpha_2:\n",
        "    print('H0 is rejected. Accept H1')\n",
        "    print('Mean scores of group A and group B are significantly different')\n",
        "else:\n",
        "    print('H0 is not rejected. Accept H0')\n",
        "    print('Mean scores of group A and group B are NOT significantly different')    "
      ]
    },
    {
      "cell_type": "code",
      "execution_count": 22,
      "metadata": {},
      "outputs": [
        {
          "name": "stdout",
          "output_type": "stream",
          "text": [
            "Z-test: 2.3574, p-value: 0.0184\n"
          ]
        }
      ],
      "source": [
        "z_test_2, p_value_2 = ztest(group_a_scores, group_b_scores, value=0, alternative='two-sided')\n",
        "print(f'Z-test: {z_test_2:.4f}, p-value: {p_value_2:.4f}')"
      ]
    },
    {
      "cell_type": "markdown",
      "metadata": {},
      "source": [
        "### Conclusion HW 2_1\n",
        "- Check whether there is a statistical difference between the mean scores of two groups of students.\n",
        "- Given that the statistics show\n",
        "    - for group A: mean A: 77.08, std A: 4.31\n",
        "    - for group B: mean B: 74.74, std B: 4.46\n",
        "- In order to test the relationship in the two samples, we will form hypotheses:\n",
        "    - **Null hypothesis**: The mean values ​​for both groups are the same\n",
        "    - **Alternative hypothesis**: The mean values ​​for the groups are different\n",
        "\n",
        "- Based on ztest, we have the following calculations Z-test: 2.3574, p-value: 0.0184, at a given significance level of 0.05\n",
        "\n",
        "- The calculated p-value is *less* than the given significance level, so we must reject the null hypothesis (and accept the alternative one).\n",
        "- Therefore, we can say that there is a statistically significant difference between the mean scores of group A and group B.\n",
        "- In order to find out whether group A has better results, we can use (alternative='larger'). In our case, we see from the statistics that the mean score for group A (77.08) is higher than the mean score for group B (74.74). So the new course is more effective"
      ]
    },
    {
      "cell_type": "markdown",
      "metadata": {
        "id": "zOxz2tU0VpJM"
      },
      "source": [
        "**Task 2.2.**\n",
        "\n",
        "**Goal**: To see how sample size affects the test result.\n",
        "\n",
        "**Task**: Imagine that from group A we have only the first 5 records, and from group B - all. This could happen if we already have the results of the students' tests under the previous program, and only 5 students have passed the tests under the new program so far and we decided not to wait any longer.\n",
        "Select the first 5 records for group A and run a t-test (for this we use the following [method](https://docs.scipy.org/doc/scipy/reference/generated/scipy.stats.ttest_ind.html)). Output the p-value. Draw a conclusion, what result do you see regarding the stat. significance at the 0.05 level for this experiment?\n",
        "\n",
        "Here we run a t-test because one of the samples is very small."
      ]
    },
    {
      "cell_type": "code",
      "execution_count": 12,
      "metadata": {
        "id": "D9znE6liYQmP"
      },
      "outputs": [
        {
          "name": "stdout",
          "output_type": "stream",
          "text": [
            "mean A short: 76.44, std A short: 2.68, number of records A short: 5.00\n",
            "mean B: 74.74, std B: 4.46, number of records B: 40.00\n"
          ]
        }
      ],
      "source": [
        "group_a_scores_short = group_a_scores[:5]\n",
        "\n",
        "mean_A_short = np.mean(group_a_scores_short)\n",
        "std_A_short = np.std(group_a_scores_short)\n",
        "n_A_short = len(group_a_scores_short)\n",
        "\n",
        "print(f\"mean A short: {mean_A_short:.2f}, std A short: {std_A_short:.2f}, number of records A short: {n_A_short:.2f}\")\n",
        "print(f\"mean B: {mean_B:.2f}, std B: {std_B:.2f}, number of records B: {n_B:.2f}\")"
      ]
    },
    {
      "cell_type": "code",
      "execution_count": 15,
      "metadata": {},
      "outputs": [
        {
          "name": "stdout",
          "output_type": "stream",
          "text": [
            "T-test: 0.8168, p-value: 0.4185\n"
          ]
        }
      ],
      "source": [
        "t_test = ttest_ind(group_a_scores_short, group_b_scores, alternative='two-sided')\n",
        "p_value_ttest = t_test[1]\n",
        "print(f'T-test: {t_test[0]:.4f}, p-value: {t_test[1]:.4f}')"
      ]
    },
    {
      "cell_type": "code",
      "execution_count": 16,
      "metadata": {},
      "outputs": [
        {
          "name": "stdout",
          "output_type": "stream",
          "text": [
            "H0 is not rejected. Accept H0\n",
            "Mean scores of group A and group B are NOT significantly different\n"
          ]
        }
      ],
      "source": [
        "if p_value_ttest < alpha_2:\n",
        "    print('H0 is rejected. Accept H1')\n",
        "    print('Mean scores of group A and group B are significantly different')\n",
        "else:\n",
        "    print('H0 is not rejected. Accept H0')\n",
        "    print('Mean scores of group A and group B are NOT significantly different')    "
      ]
    },
    {
      "cell_type": "markdown",
      "metadata": {},
      "source": [
        "### Conclusion HW 2_2\n",
        "- We need to understand how sample size affects the test value.\n",
        "- Statistics:\n",
        "    - for group A: mean = 76.44, std = 2.68, number of records = 5\n",
        "    - for group B: mean = 74.74, std = 4.46, number of records = 40\n",
        "- In order to test the relationship in two samples, we will form hypotheses:\n",
        "    - **Null hypothesis**: The mean values ​​for both groups are the same\n",
        "    - **Alternative hypothesis**: The mean values ​​for the groups are different\n",
        "- Because we have a small sample, we use the t test (T-test: 0.8168, p-value: 0.4185)\n",
        "\n",
        "- The calculated p-value is *Greater* than the given significance level (0.05), so we cannot reject the null hypothesis.\n",
        "- Thus, by reducing the number of records in group A, we can no longer claim that we have a statistically significant difference between the groups.\n",
        "- Therefore, even if there is a real difference between the two samples (which was the case in the previous case), with an insufficient number of records we can get a statistically insignificant result"
      ]
    },
    {
      "cell_type": "markdown",
      "metadata": {
        "id": "3TcRHLLz0SLw"
      },
      "source": [
        "### Task 3: Z-test for two **related** samples\n",
        "\n",
        "**Goal**: To test whether training has affected employee productivity when all employees have received the training.\n",
        "\n",
        "**Assumption**: Our employees receive the same training, and we want to find out if their performance improved after training at the 0.05 significance level. Run a Z-test in Python, output the p-value, and conclude whether the employees' performance improved at the 0.05 significance level?\n",
        "\n",
        "Note that these samples are related, so it would not be correct to run a z-test between them, instead, we can compare whether the difference in the results (employee productivity) is statistically significant."
      ]
    },
    {
      "cell_type": "code",
      "execution_count": 17,
      "metadata": {
        "id": "uxrjagJFW1GC"
      },
      "outputs": [
        {
          "data": {
            "text/plain": [
              "array([ 4.65,  3.03,  5.9 ,  2.47,  8.44,  4.26,  1.29,  0.86,  3.97,\n",
              "        2.55,  4.42,  3.94,  2.85,  1.3 , -0.03,  2.11,  4.71,  3.42,\n",
              "        0.51,  3.35,  3.77,  1.23,  3.31,  3.11,  0.72,  3.72,  4.12,\n",
              "        5.17,  5.11,  0.24])"
            ]
          },
          "execution_count": 17,
          "metadata": {},
          "output_type": "execute_result"
        }
      ],
      "source": [
        "before_training = [57.82, 37.63, 36.8 , 55.22, 52.97, 52.5 , 53.46, 43.2 , 52.32,\n",
        "       52.93, 42.86, 68.66, 54.74, 38.09, 56.57, 40.25, 57.87, 61.59,\n",
        "       41.79, 59.63, 54.13, 58.22, 68.97, 47.55, 42.46, 41.1 , 41.84,\n",
        "       49.23, 53.41, 52.77]\n",
        "\n",
        "after_training = [62.47, 40.66, 42.7 , 57.69, 61.41, 56.76, 54.75, 44.06, 56.29,\n",
        "       55.48, 47.28, 72.6 , 57.59, 39.39, 56.54, 42.36, 62.58, 65.01,\n",
        "       42.3 , 62.98, 57.9 , 59.45, 72.28, 50.66, 43.18, 44.82, 45.96,\n",
        "       54.4 , 58.52, 53.01]\n",
        "\n",
        "before = np.array(before_training)\n",
        "after = np.array(after_training)\n",
        "training_diff = after - before\n",
        "\n",
        "training_diff"
      ]
    },
    {
      "cell_type": "code",
      "execution_count": 18,
      "metadata": {
        "id": "NwCsN91OYSpN"
      },
      "outputs": [
        {
          "name": "stdout",
          "output_type": "stream",
          "text": [
            "mean diff: 3.15, std  diff: 1.86, number of records: 30.00\n",
            "mean before: 50.89, std before: 8.58\n",
            "mean after: 54.04, std after: 8.96\n"
          ]
        }
      ],
      "source": [
        "mean_before = np.mean(before)\n",
        "mean_after = np.mean(after)\n",
        "std_before = np.std(before)\n",
        "std_after = np.std(after)\n",
        "\n",
        "mean_trainung_diff = np.mean(training_diff)\n",
        "mean_trainung_diff_null = 0 # no difference\n",
        "std_trainung_diff = np.std(training_diff)\n",
        "n_trainung_diff = len(training_diff)\n",
        "alpha_3 = 0.05\n",
        "print(f\"mean diff: {mean_trainung_diff:.2f}, std  diff: {std_trainung_diff:.2f}, number of records: {n_trainung_diff:.2f}\")\n",
        "print(f\"mean before: {mean_before:.2f}, std before: {std_before:.2f}\")\n",
        "print(f\"mean after: {mean_after:.2f}, std after: {std_after:.2f}\")"
      ]
    },
    {
      "cell_type": "code",
      "execution_count": 19,
      "metadata": {},
      "outputs": [
        {
          "name": "stdout",
          "output_type": "stream",
          "text": [
            "Z-test: 9.1389, p-value: 0.0000\n"
          ]
        }
      ],
      "source": [
        "z_test_3, p_value_3 = ztest(training_diff, value = mean_trainung_diff_null, alternative='larger')\n",
        "print(f'Z-test: {z_test_3:.4f}, p-value: {p_value_3:.4f}')"
      ]
    },
    {
      "cell_type": "code",
      "execution_count": 20,
      "metadata": {},
      "outputs": [
        {
          "name": "stdout",
          "output_type": "stream",
          "text": [
            "H0 is rejected. Accept H1\n",
            "Mean difference is significantly greater than 0\n"
          ]
        }
      ],
      "source": [
        "if p_value_3 < alpha_3:\n",
        "    print('H0 is rejected. Accept H1')\n",
        "    print('Mean difference is significantly greater than 0')\n",
        "else:   \n",
        "    print('H0 is not rejected. Accept H0')  \n",
        "    print('Mean difference is NOT significantly greater than 0')    "
      ]
    },
    {
      "cell_type": "markdown",
      "metadata": {},
      "source": [
        "### Conclusion of DZ 3\n",
        "- We need to Check whether the training has affected the productivity of employees (whether the performance of employees has improved).\n",
        "- Because these two events are dependent on each other, we need to rephrase the task to get rid of this constraint. To do this, we will calculate the difference between the performance After training and Before training (to see if there is a difference between the current state and the past))\n",
        "- Statistics:\n",
        "    - Before training: mean = 50.89, std = 8.58\n",
        "    - After training: mean = 54.04, std = 8.96\n",
        "    - Difference: mean = 3.15, std = 1.86\n",
        "- Hypothetical mean = 0 (assumption that there is no difference between Before and After, the indicators remained the same)\n",
        "- In order to check whether the indicators have statistically improved, we will select the setting: alternative='larger'\n",
        "    - **Null hypothesis**: The average difference in performance between indicators is equal to\\less than 0\n",
        "    - **Alternative hypothesis**: The average difference in performance between indicators is greater than 0\n",
        "\n",
        "- Based on ztest, we have the following calculations Z-test: 9.1389, p-value: 0.0000, at a given significance level of 0.05\n",
        "- The calculated p-value is *less* than the given significance level, so we must reject the null hypothesis (and accept the alternative).\n",
        "- As a conclusion, we accept that the difference between performance Before and After training has improved. Training has statistically significantly affected performance in a positive way."
      ]
    },
    {
      "cell_type": "markdown",
      "metadata": {},
      "source": []
    }
  ],
  "metadata": {
    "colab": {
      "provenance": []
    },
    "kernelspec": {
      "display_name": "laba",
      "language": "python",
      "name": "python3"
    },
    "language_info": {
      "codemirror_mode": {
        "name": "ipython",
        "version": 3
      },
      "file_extension": ".py",
      "mimetype": "text/x-python",
      "name": "python",
      "nbconvert_exporter": "python",
      "pygments_lexer": "ipython3",
      "version": "3.10.14"
    }
  },
  "nbformat": 4,
  "nbformat_minor": 0
}
