{
 "cells": [
  {
   "cell_type": "markdown",
   "id": "c143021a-ca79-4806-8ac3-dc6016bfce5e",
   "metadata": {},
   "source": [
    "# Як перекласти jupyter notebook на будь-яку мову"
   ]
  },
  {
   "cell_type": "markdown",
   "id": "539a6ae4-0e1b-4a61-80ef-8b932bedfec9",
   "metadata": {
    "scrolled": true
   },
   "source": [
    "Якщо вам треба перекласти ноутбук на іншу мову - цей ноутбук вам допоможе :)"
   ]
  },
  {
   "cell_type": "code",
   "execution_count": 2,
   "id": "3efe54d5-c308-42ef-a490-a1ce2375c25c",
   "metadata": {
    "scrolled": true
   },
   "outputs": [
    {
     "name": "stdout",
     "output_type": "stream",
     "text": [
      "generate_python_code_for_data_analysis_project_fo_.ipynb\n",
      "notebooks_translation_students.ipynb\n"
     ]
    }
   ],
   "source": [
    "!ls"
   ]
  },
  {
   "cell_type": "code",
   "execution_count": 2,
   "id": "3c2e4f64",
   "metadata": {},
   "outputs": [],
   "source": [
    "path=\"translate/\""
   ]
  },
  {
   "cell_type": "code",
   "execution_count": 6,
   "id": "3c340167",
   "metadata": {},
   "outputs": [],
   "source": [
    "import os\n",
    "import nbformat\n",
    "\n",
    "def load_notebook(file_path):\n",
    "    with open(file_path, 'r', encoding='utf-8') as f:\n",
    "        return nbformat.read(f, as_version=4)\n",
    "\n",
    "notebook_files = [f for f in os.listdir(path) if f.endswith('.ipynb')]\n",
    "\n",
    "for fname in notebook_files:\n",
    "    notebook = load_notebook(os.path.join(path, fname))\n",
    "\n",
    "\n",
    "\n",
    "    # nbformat.write(notebook, f'generate_python_code_for_data_analysis_project_fo_{target_lang}.ipynb')\n"
   ]
  },
  {
   "cell_type": "code",
   "execution_count": 1,
   "id": "caae6614-1011-4aa3-a0be-e8af1432c9a9",
   "metadata": {},
   "outputs": [],
   "source": [
    "import json\n",
    "creds = json.load(open('creds.json'))"
   ]
  },
  {
   "cell_type": "code",
   "execution_count": 11,
   "id": "ddee81f9-df04-482d-8217-73d5169771e9",
   "metadata": {},
   "outputs": [
    {
     "data": {
      "text/plain": [
       "dict_keys(['OPENAI_API_KEY', 'OPENAI_CHAT_MODEL_NAME'])"
      ]
     },
     "execution_count": 11,
     "metadata": {},
     "output_type": "execute_result"
    }
   ],
   "source": [
    "creds.keys()"
   ]
  },
  {
   "cell_type": "markdown",
   "id": "34a2cb98-f7cf-439e-b08a-2ca0c7b1153e",
   "metadata": {},
   "source": [
    "Детальний гайд щодо встановлення langchain і підмодулів можна знайти в офіційній документації тут:\n",
    "https://python.langchain.com/v0.1/docs/get_started/installation/"
   ]
  },
  {
   "cell_type": "code",
   "execution_count": 8,
   "id": "478e0ee9-94a6-461f-803c-99d9ef0b786d",
   "metadata": {},
   "outputs": [],
   "source": [
    "from langchain_core.messages import HumanMessage, SystemMessage\n",
    "from langchain_core.prompts import ChatPromptTemplate\n",
    "from langchain_openai import ChatOpenAI"
   ]
  },
  {
   "cell_type": "code",
   "execution_count": 9,
   "id": "8d80f1d4-7c77-4123-af40-a991bf133900",
   "metadata": {},
   "outputs": [],
   "source": [
    "model = 'gpt-4o-mini'"
   ]
  },
  {
   "cell_type": "code",
   "execution_count": 10,
   "id": "76c7681e-88b2-4919-8b08-9f30fed13a34",
   "metadata": {},
   "outputs": [],
   "source": [
    "llm = ChatOpenAI(model=model, temperature=0, api_key=creds['OPENAI_API_KEY'])"
   ]
  },
  {
   "cell_type": "code",
   "execution_count": 12,
   "id": "ba018fe5-71b8-441f-96ad-1a8cf7731c83",
   "metadata": {},
   "outputs": [],
   "source": [
    "def translate_markdown(text, source_lang='Ukrainian', target_lang='English'):\n",
    "    messages = [\n",
    "        (\"system\", \n",
    "        f\"\"\"You are helping to translate a data science project from {source_lang} to {target_lang}.\n",
    "        Translate each message from user to {target_lang} except for the formulas and code. \n",
    "        Preserve the markdown. Return ONLY the translated text.\"\"\"),\n",
    "        (\"human\", text),\n",
    "    ]\n",
    "    result = llm.invoke(messages)\n",
    "    return result.content"
   ]
  },
  {
   "cell_type": "code",
   "execution_count": 13,
   "id": "ee94d717-ba93-4855-b01d-5f2c05dbcf2b",
   "metadata": {},
   "outputs": [],
   "source": [
    "def translate_code(text, source_lang='Ukrainian', target_lang='English'):\n",
    "    messages = [\n",
    "        (\"system\", \n",
    "        f\"\"\"You are helping to translate a data science project from {source_lang} to {target_lang}.\n",
    "        Translate each message from user to {target_lang} except for the code. \n",
    "        Preserve code as is and only translate the comments. \n",
    "        Return ONLY the translated text.\"\"\"),\n",
    "        (\"human\", text),\n",
    "    ]\n",
    "    result = llm.invoke(messages)\n",
    "    return result.content"
   ]
  },
  {
   "cell_type": "code",
   "execution_count": 14,
   "id": "57d38344",
   "metadata": {},
   "outputs": [],
   "source": [
    "import tqdm"
   ]
  },
  {
   "cell_type": "code",
   "execution_count": 16,
   "id": "d5f495e9",
   "metadata": {},
   "outputs": [
    {
     "name": "stderr",
     "output_type": "stream",
     "text": [
      "0it [00:00, ?it/s]"
     ]
    },
    {
     "name": "stderr",
     "output_type": "stream",
     "text": [
      "36it [01:00,  1.69s/it]\n",
      "64it [02:12,  2.07s/it]\n",
      "17it [00:42,  2.47s/it]\n",
      "49it [01:32,  1.89s/it]\n",
      "32it [01:20,  2.52s/it]\n",
      "47it [01:27,  1.86s/it]\n",
      "25it [00:48,  1.95s/it]\n",
      "21it [00:58,  2.77s/it]\n",
      "33it [02:02,  3.71s/it]\n",
      "62it [01:55,  1.86s/it]\n",
      "38it [01:49,  2.89s/it]\n",
      "40it [01:30,  2.26s/it]\n",
      "60it [01:52,  1.87s/it]\n",
      "51it [01:26,  1.69s/it]\n",
      "30it [00:56,  1.89s/it]\n"
     ]
    }
   ],
   "source": [
    "import os\n",
    "import nbformat\n",
    "\n",
    "def load_notebook(file_path):\n",
    "    with open(file_path, 'r', encoding='utf-8') as f:\n",
    "        return nbformat.read(f, as_version=4)\n",
    "\n",
    "notebook_files = [f for f in os.listdir(path) if f.endswith('.ipynb')]\n",
    "\n",
    "for fname in notebook_files:\n",
    "    notebook = load_notebook(os.path.join(path, fname))\n",
    "\n",
    "    source_lang = 'Ukrainian'\n",
    "    target_lang = 'English'\n",
    "    for id, cell in tqdm.tqdm(enumerate(notebook.cells)):\n",
    "        if cell['cell_type'] == 'markdown':\n",
    "            new_content = translate_markdown(cell['source'], source_lang, target_lang)\n",
    "        elif cell['cell_type'] == 'code':\n",
    "            new_content = translate_code(cell['source'], source_lang, target_lang)\n",
    "        else:\n",
    "            continue\n",
    "        notebook.cells[id].source = new_content\n",
    "\n",
    "    # Save the translated notebook\n",
    "    nbformat.write(notebook, f'done/{fname}')\n"
   ]
  },
  {
   "cell_type": "code",
   "execution_count": null,
   "id": "933cf901-e7ba-4552-a0cb-996e21011f58",
   "metadata": {},
   "outputs": [
    {
     "name": "stderr",
     "output_type": "stream",
     "text": [
      "4it [00:19,  4.75s/it]\n"
     ]
    }
   ],
   "source": [
    "\n",
    "\n",
    "source_lang = 'Ukrainian'\n",
    "target_lang = 'English'\n",
    "for id, cell in tqdm.tqdm(enumerate(notebook.cells)):\n",
    "    if cell['cell_type'] == 'markdown':\n",
    "        new_content = translate_markdown(cell['source'], source_lang, target_lang)\n",
    "    elif cell['cell_type'] == 'code':\n",
    "        new_content = translate_code(cell['source'], source_lang, target_lang)\n",
    "    else:\n",
    "        continue\n",
    "    notebook.cells[id].source = new_content"
   ]
  },
  {
   "cell_type": "code",
   "execution_count": 21,
   "id": "7196f894-e6bc-4f36-8257-247151bcaef0",
   "metadata": {},
   "outputs": [],
   "source": [
    "# notebook"
   ]
  },
  {
   "cell_type": "code",
   "execution_count": 23,
   "id": "5889eaea-d2ba-43dc-b663-a7f121e4ed88",
   "metadata": {},
   "outputs": [],
   "source": [
    "nbformat.write(notebook, f'generate_python_code_for_data_analysis_project_fo_{target_lang}.ipynb')"
   ]
  },
  {
   "cell_type": "code",
   "execution_count": 24,
   "id": "75ec9246-43e3-4253-8344-0929239fb07e",
   "metadata": {},
   "outputs": [
    {
     "name": "stdout",
     "output_type": "stream",
     "text": [
      "generate_python_code_for_data_analysis_project_fo_.ipynb\n",
      "generate_python_code_for_data_analysis_project_fo_Ukrainian.ipynb\n",
      "notebooks_translation_students.ipynb\n"
     ]
    }
   ],
   "source": [
    "!ls"
   ]
  }
 ],
 "metadata": {
  "kernelspec": {
   "display_name": "ml_course",
   "language": "python",
   "name": "python3"
  },
  "language_info": {
   "codemirror_mode": {
    "name": "ipython",
    "version": 3
   },
   "file_extension": ".py",
   "mimetype": "text/x-python",
   "name": "python",
   "nbconvert_exporter": "python",
   "pygments_lexer": "ipython3",
   "version": "3.12.9"
  },
  "toc": {
   "base_numbering": 1,
   "nav_menu": {},
   "number_sections": true,
   "sideBar": true,
   "skip_h1_title": false,
   "title_cell": "Table of Contents",
   "title_sidebar": "Contents",
   "toc_cell": false,
   "toc_position": {},
   "toc_section_display": true,
   "toc_window_display": false
  }
 },
 "nbformat": 4,
 "nbformat_minor": 5
}
