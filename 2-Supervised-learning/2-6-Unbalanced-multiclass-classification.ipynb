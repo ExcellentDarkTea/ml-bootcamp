{
 "cells": [
  {
   "cell_type": "markdown",
   "metadata": {
    "id": "VUPArbcFJKzJ"
   },
   "source": [
    "# Unbalanced classification\n",
    "\n",
    "In this homework, we will practice solving a multi-class classification problem using logistic regression with One-vs-Rest and One-vs-One strategies, evaluate the quality of the models, and compare the strategies."
   ]
  },
  {
   "cell_type": "markdown",
   "metadata": {
    "id": "7f4tzX6YomVv"
   },
   "source": [
    "### Task and Data Description\n",
    "\n",
    "**Context**\n",
    "\n",
    "In this homework, we are working with data on customer segmentation.\n",
    "\n",
    "Customer segmentation is the practice of dividing a customer base into groups of individuals who are similar to each other based on certain criteria that are relevant for marketing, such as age, gender, interests, and spending habits.\n",
    "\n",
    "Companies that use customer segmentation operate under the assumption that each customer is unique and that their marketing efforts will be more effective if they target specific, smaller groups with messages that these consumers will find relevant and that will encourage them to make a purchase. Companies also hope to gain a deeper understanding of their customers' preferences and needs in order to identify what each segment values most, allowing them to tailor marketing materials more accurately to that segment.\n",
    "\n",
    "**Content**.\n",
    "\n",
    "An automotive company plans to enter new markets with its existing products (P1, P2, P3, P4, and P5). After extensive marketing research, they concluded that the behavior of the new market is similar to their existing market.\n",
    "\n",
    "In their existing market, the sales team classified all customers into 4 segments (A, B, C, D). They then conducted segmented outreach and communication with different customer segments. This strategy worked extremely well for them. They plan to use the same strategy in new markets and have identified 2627 new potential customers.\n",
    "\n",
    "You need to help the manager predict the correct group for the new customers.\n",
    "\n",
    "In this homework, we will use the data `customer_segmentation_train.csv` [download data](https://drive.google.com/file/d/1VU1y2EwaHkVfr5RZ1U4MPWjeflAusK3w/view?usp=sharing). This is `train.csv` from this [competition](https://www.kaggle.com/datasets/abisheksudarshan/customer-segmentation/data?select=train.csv)"
   ]
  },
  {
   "cell_type": "markdown",
   "metadata": {
    "id": "NZFXPKx1JX-3"
   },
   "source": [
    "**Task 1.** Download and prepare the dataset for analysis. Handle missing values and perform necessary encoding of categorical features. Split into training and testing sets, where the test set is 20%. Remember that it is better to perform all preprocessing on the training set and only use already trained transformers on the test set. However, in this case, since there are not many values in the categories, you can process the original data and then split it - this is simpler. You can also implement processing and model training with pipelines. Choose what is more convenient for you."
   ]
  },
  {
   "cell_type": "code",
   "execution_count": null,
   "metadata": {
    "id": "I-mwGqPS5GAT"
   },
   "outputs": [],
   "source": [
    "import pandas as pd\n",
    "import numpy as np\n",
    "from sklearn.preprocessing import StandardScaler, OrdinalEncoder, OneHotEncoder\n",
    "\n",
    "\n",
    "path = \"../../../data/\"\n",
    "df = pd.read_csv(path + 'customer_segmentation_train.csv')"
   ]
  },
  {
   "cell_type": "code",
   "execution_count": 342,
   "metadata": {},
   "outputs": [
    {
     "data": {
      "text/html": [
       "<div>\n",
       "<style scoped>\n",
       "    .dataframe tbody tr th:only-of-type {\n",
       "        vertical-align: middle;\n",
       "    }\n",
       "\n",
       "    .dataframe tbody tr th {\n",
       "        vertical-align: top;\n",
       "    }\n",
       "\n",
       "    .dataframe thead th {\n",
       "        text-align: right;\n",
       "    }\n",
       "</style>\n",
       "<table border=\"1\" class=\"dataframe\">\n",
       "  <thead>\n",
       "    <tr style=\"text-align: right;\">\n",
       "      <th></th>\n",
       "      <th>ID</th>\n",
       "      <th>Gender</th>\n",
       "      <th>Ever_Married</th>\n",
       "      <th>Age</th>\n",
       "      <th>Graduated</th>\n",
       "      <th>Profession</th>\n",
       "      <th>Work_Experience</th>\n",
       "      <th>Spending_Score</th>\n",
       "      <th>Family_Size</th>\n",
       "      <th>Var_1</th>\n",
       "      <th>Segmentation</th>\n",
       "    </tr>\n",
       "  </thead>\n",
       "  <tbody>\n",
       "    <tr>\n",
       "      <th>0</th>\n",
       "      <td>462809</td>\n",
       "      <td>Male</td>\n",
       "      <td>No</td>\n",
       "      <td>22</td>\n",
       "      <td>No</td>\n",
       "      <td>Healthcare</td>\n",
       "      <td>1.0</td>\n",
       "      <td>Low</td>\n",
       "      <td>4.0</td>\n",
       "      <td>Cat_4</td>\n",
       "      <td>D</td>\n",
       "    </tr>\n",
       "    <tr>\n",
       "      <th>1</th>\n",
       "      <td>462643</td>\n",
       "      <td>Female</td>\n",
       "      <td>Yes</td>\n",
       "      <td>38</td>\n",
       "      <td>Yes</td>\n",
       "      <td>Engineer</td>\n",
       "      <td>NaN</td>\n",
       "      <td>Average</td>\n",
       "      <td>3.0</td>\n",
       "      <td>Cat_4</td>\n",
       "      <td>A</td>\n",
       "    </tr>\n",
       "    <tr>\n",
       "      <th>2</th>\n",
       "      <td>466315</td>\n",
       "      <td>Female</td>\n",
       "      <td>Yes</td>\n",
       "      <td>67</td>\n",
       "      <td>Yes</td>\n",
       "      <td>Engineer</td>\n",
       "      <td>1.0</td>\n",
       "      <td>Low</td>\n",
       "      <td>1.0</td>\n",
       "      <td>Cat_6</td>\n",
       "      <td>B</td>\n",
       "    </tr>\n",
       "    <tr>\n",
       "      <th>3</th>\n",
       "      <td>461735</td>\n",
       "      <td>Male</td>\n",
       "      <td>Yes</td>\n",
       "      <td>67</td>\n",
       "      <td>Yes</td>\n",
       "      <td>Lawyer</td>\n",
       "      <td>0.0</td>\n",
       "      <td>High</td>\n",
       "      <td>2.0</td>\n",
       "      <td>Cat_6</td>\n",
       "      <td>B</td>\n",
       "    </tr>\n",
       "    <tr>\n",
       "      <th>4</th>\n",
       "      <td>462669</td>\n",
       "      <td>Female</td>\n",
       "      <td>Yes</td>\n",
       "      <td>40</td>\n",
       "      <td>Yes</td>\n",
       "      <td>Entertainment</td>\n",
       "      <td>NaN</td>\n",
       "      <td>High</td>\n",
       "      <td>6.0</td>\n",
       "      <td>Cat_6</td>\n",
       "      <td>A</td>\n",
       "    </tr>\n",
       "  </tbody>\n",
       "</table>\n",
       "</div>"
      ],
      "text/plain": [
       "       ID  Gender Ever_Married  Age Graduated     Profession  Work_Experience  \\\n",
       "0  462809    Male           No   22        No     Healthcare              1.0   \n",
       "1  462643  Female          Yes   38       Yes       Engineer              NaN   \n",
       "2  466315  Female          Yes   67       Yes       Engineer              1.0   \n",
       "3  461735    Male          Yes   67       Yes         Lawyer              0.0   \n",
       "4  462669  Female          Yes   40       Yes  Entertainment              NaN   \n",
       "\n",
       "  Spending_Score  Family_Size  Var_1 Segmentation  \n",
       "0            Low          4.0  Cat_4            D  \n",
       "1        Average          3.0  Cat_4            A  \n",
       "2            Low          1.0  Cat_6            B  \n",
       "3           High          2.0  Cat_6            B  \n",
       "4           High          6.0  Cat_6            A  "
      ]
     },
     "execution_count": 342,
     "metadata": {},
     "output_type": "execute_result"
    }
   ],
   "source": [
    "df.head()"
   ]
  },
  {
   "cell_type": "code",
   "execution_count": 343,
   "metadata": {},
   "outputs": [
    {
     "name": "stdout",
     "output_type": "stream",
     "text": [
      "<class 'pandas.core.frame.DataFrame'>\n",
      "RangeIndex: 8068 entries, 0 to 8067\n",
      "Data columns (total 11 columns):\n",
      " #   Column           Non-Null Count  Dtype  \n",
      "---  ------           --------------  -----  \n",
      " 0   ID               8068 non-null   int64  \n",
      " 1   Gender           8068 non-null   object \n",
      " 2   Ever_Married     7928 non-null   object \n",
      " 3   Age              8068 non-null   int64  \n",
      " 4   Graduated        7990 non-null   object \n",
      " 5   Profession       7944 non-null   object \n",
      " 6   Work_Experience  7239 non-null   float64\n",
      " 7   Spending_Score   8068 non-null   object \n",
      " 8   Family_Size      7733 non-null   float64\n",
      " 9   Var_1            7992 non-null   object \n",
      " 10  Segmentation     8068 non-null   object \n",
      "dtypes: float64(2), int64(2), object(7)\n",
      "memory usage: 693.5+ KB\n"
     ]
    },
    {
     "data": {
      "text/plain": [
       "(None,\n",
       " ID                   0\n",
       " Gender               0\n",
       " Ever_Married       140\n",
       " Age                  0\n",
       " Graduated           78\n",
       " Profession         124\n",
       " Work_Experience    829\n",
       " Spending_Score       0\n",
       " Family_Size        335\n",
       " Var_1               76\n",
       " Segmentation         0\n",
       " dtype: int64)"
      ]
     },
     "execution_count": 343,
     "metadata": {},
     "output_type": "execute_result"
    }
   ],
   "source": [
    "df.info(), df.isna().sum()"
   ]
  },
  {
   "cell_type": "code",
   "execution_count": null,
   "metadata": {},
   "outputs": [],
   "source": [
    "# Remove the 'ID' column from the DataFrame.\n",
    "df.drop('ID', axis=1, inplace=True)"
   ]
  },
  {
   "cell_type": "code",
   "execution_count": 345,
   "metadata": {},
   "outputs": [
    {
     "name": "stdout",
     "output_type": "stream",
     "text": [
      "(8068, 9) (8068,)\n"
     ]
    }
   ],
   "source": [
    "input_cols = df.columns.drop('Segmentation')\n",
    "target_col = 'Segmentation'\n",
    "\n",
    "df_inputs = df[input_cols]\n",
    "df_target = df[target_col]\n",
    "print(df_inputs.shape, df_target.shape)"
   ]
  },
  {
   "cell_type": "code",
   "execution_count": 346,
   "metadata": {},
   "outputs": [
    {
     "name": "stdout",
     "output_type": "stream",
     "text": [
      "['Age', 'Work_Experience', 'Family_Size'] ['Gender', 'Ever_Married', 'Graduated', 'Profession', 'Spending_Score', 'Var_1']\n"
     ]
    }
   ],
   "source": [
    "col_numeric = df_inputs.select_dtypes(include=[np.number]).columns.tolist()\n",
    "col_catgorical = df_inputs.select_dtypes(include='object').columns.tolist()\n",
    "print(col_numeric, col_catgorical)"
   ]
  },
  {
   "cell_type": "code",
   "execution_count": 347,
   "metadata": {},
   "outputs": [
    {
     "name": "stdout",
     "output_type": "stream",
     "text": [
      "Gender ['Male' 'Female']\n",
      "Ever_Married ['No' 'Yes' nan]\n",
      "Graduated ['No' 'Yes' nan]\n",
      "Profession ['Healthcare' 'Engineer' 'Lawyer' 'Entertainment' 'Artist' 'Executive'\n",
      " 'Doctor' 'Homemaker' 'Marketing' nan]\n",
      "Spending_Score ['Low' 'Average' 'High']\n",
      "Var_1 ['Cat_4' 'Cat_6' 'Cat_7' 'Cat_3' 'Cat_1' 'Cat_2' nan 'Cat_5']\n"
     ]
    }
   ],
   "source": [
    "for col in col_catgorical:\n",
    "  print(col, df_inputs[col].unique())"
   ]
  },
  {
   "cell_type": "code",
   "execution_count": 348,
   "metadata": {},
   "outputs": [
    {
     "name": "stdout",
     "output_type": "stream",
     "text": [
      "0\n"
     ]
    },
    {
     "name": "stderr",
     "output_type": "stream",
     "text": [
      "C:\\Users\\Olha Shaposhnyk\\AppData\\Local\\Temp\\ipykernel_26760\\2408797211.py:1: FutureWarning: A value is trying to be set on a copy of a DataFrame or Series through chained assignment using an inplace method.\n",
      "The behavior will change in pandas 3.0. This inplace method will never work because the intermediate object on which we are setting values always behaves as a copy.\n",
      "\n",
      "For example, when doing 'df[col].method(value, inplace=True)', try using 'df.method({col: value}, inplace=True)' or df[col] = df[col].method(value) instead, to perform the operation inplace on the original object.\n",
      "\n",
      "\n",
      "  df_inputs.Profession.fillna('Other', inplace=True)\n",
      "C:\\Users\\Olha Shaposhnyk\\AppData\\Local\\Temp\\ipykernel_26760\\2408797211.py:1: SettingWithCopyWarning: \n",
      "A value is trying to be set on a copy of a slice from a DataFrame\n",
      "\n",
      "See the caveats in the documentation: https://pandas.pydata.org/pandas-docs/stable/user_guide/indexing.html#returning-a-view-versus-a-copy\n",
      "  df_inputs.Profession.fillna('Other', inplace=True)\n"
     ]
    },
    {
     "data": {
      "text/plain": [
       "Profession\n",
       "Artist           0.311849\n",
       "Healthcare       0.165097\n",
       "Entertainment    0.117625\n",
       "Engineer         0.086639\n",
       "Doctor           0.085275\n",
       "Lawyer           0.077219\n",
       "Executive        0.074244\n",
       "Marketing        0.036192\n",
       "Homemaker        0.030491\n",
       "Other            0.015369\n",
       "Name: proportion, dtype: float64"
      ]
     },
     "execution_count": 348,
     "metadata": {},
     "output_type": "execute_result"
    }
   ],
   "source": [
    "df_inputs.Profession.fillna('Other', inplace=True)  \n",
    "print(df_inputs.Profession.isna().sum())  \n",
    "df_inputs['Profession'].value_counts(normalize=True)  "
   ]
  },
  {
   "cell_type": "code",
   "execution_count": 349,
   "metadata": {},
   "outputs": [
    {
     "data": {
      "text/html": [
       "<div>\n",
       "<style scoped>\n",
       "    .dataframe tbody tr th:only-of-type {\n",
       "        vertical-align: middle;\n",
       "    }\n",
       "\n",
       "    .dataframe tbody tr th {\n",
       "        vertical-align: top;\n",
       "    }\n",
       "\n",
       "    .dataframe thead th {\n",
       "        text-align: right;\n",
       "    }\n",
       "</style>\n",
       "<table border=\"1\" class=\"dataframe\">\n",
       "  <thead>\n",
       "    <tr style=\"text-align: right;\">\n",
       "      <th></th>\n",
       "      <th>Age</th>\n",
       "      <th>Work_Experience</th>\n",
       "      <th>Family_Size</th>\n",
       "    </tr>\n",
       "  </thead>\n",
       "  <tbody>\n",
       "    <tr>\n",
       "      <th>count</th>\n",
       "      <td>8068.000000</td>\n",
       "      <td>7239.000000</td>\n",
       "      <td>7733.000000</td>\n",
       "    </tr>\n",
       "    <tr>\n",
       "      <th>mean</th>\n",
       "      <td>43.466906</td>\n",
       "      <td>2.641663</td>\n",
       "      <td>2.850123</td>\n",
       "    </tr>\n",
       "    <tr>\n",
       "      <th>std</th>\n",
       "      <td>16.711696</td>\n",
       "      <td>3.406763</td>\n",
       "      <td>1.531413</td>\n",
       "    </tr>\n",
       "    <tr>\n",
       "      <th>min</th>\n",
       "      <td>18.000000</td>\n",
       "      <td>0.000000</td>\n",
       "      <td>1.000000</td>\n",
       "    </tr>\n",
       "    <tr>\n",
       "      <th>25%</th>\n",
       "      <td>30.000000</td>\n",
       "      <td>0.000000</td>\n",
       "      <td>2.000000</td>\n",
       "    </tr>\n",
       "    <tr>\n",
       "      <th>50%</th>\n",
       "      <td>40.000000</td>\n",
       "      <td>1.000000</td>\n",
       "      <td>3.000000</td>\n",
       "    </tr>\n",
       "    <tr>\n",
       "      <th>75%</th>\n",
       "      <td>53.000000</td>\n",
       "      <td>4.000000</td>\n",
       "      <td>4.000000</td>\n",
       "    </tr>\n",
       "    <tr>\n",
       "      <th>max</th>\n",
       "      <td>89.000000</td>\n",
       "      <td>14.000000</td>\n",
       "      <td>9.000000</td>\n",
       "    </tr>\n",
       "  </tbody>\n",
       "</table>\n",
       "</div>"
      ],
      "text/plain": [
       "               Age  Work_Experience  Family_Size\n",
       "count  8068.000000      7239.000000  7733.000000\n",
       "mean     43.466906         2.641663     2.850123\n",
       "std      16.711696         3.406763     1.531413\n",
       "min      18.000000         0.000000     1.000000\n",
       "25%      30.000000         0.000000     2.000000\n",
       "50%      40.000000         1.000000     3.000000\n",
       "75%      53.000000         4.000000     4.000000\n",
       "max      89.000000        14.000000     9.000000"
      ]
     },
     "execution_count": 349,
     "metadata": {},
     "output_type": "execute_result"
    }
   ],
   "source": [
    "df_inputs[col_numeric].select_dtypes(include=(np.number)).describe()"
   ]
  },
  {
   "cell_type": "code",
   "execution_count": 351,
   "metadata": {},
   "outputs": [],
   "source": [
    "def impute_by_mode(df, target_column, col1, col2):\n",
    "    for var_1 in df[col1].unique():\n",
    "      for var_2 in df[col2].unique():\n",
    "\n",
    "          category_mask = (df[col1] == var_1) & (df[col2] == var_2)\n",
    "          most_frequent_value = df.loc[category_mask, target_column].mode()\n",
    "\n",
    "          if not most_frequent_value.empty:\n",
    "                df.loc[category_mask & df[target_column].isnull(), target_column] = most_frequent_value.iloc[0]\n",
    "\n",
    "    df.fillna({target_column: df[target_column].mode()[0]}, inplace=True)\n",
    "\n",
    "    return df"
   ]
  },
  {
   "cell_type": "code",
   "execution_count": 352,
   "metadata": {},
   "outputs": [
    {
     "name": "stdout",
     "output_type": "stream",
     "text": [
      "Age                  0\n",
      "Work_Experience    829\n",
      "Family_Size        335\n",
      "dtype: int64\n"
     ]
    },
    {
     "data": {
      "text/plain": [
       "<Axes: ylabel='Density'>"
      ]
     },
     "execution_count": 352,
     "metadata": {},
     "output_type": "execute_result"
    },
    {
     "data": {
      "image/png": "[encoded data removed]",
      "text/plain": [
       "<Figure size 640x480 with 1 Axes>"
      ]
     },
     "metadata": {},
     "output_type": "display_data"
    }
   ],
   "source": [
    "print(df_inputs[col_numeric].isna().sum())\n",
    "df_inputs[['Work_Experience', 'Family_Size']].plot(kind='kde')"
   ]
  },
  {
   "cell_type": "code",
   "execution_count": 353,
   "metadata": {},
   "outputs": [
    {
     "data": {
      "text/plain": [
       "array([ 1., nan,  0.,  4.,  9., 12.,  3., 13.,  5.,  8., 14.,  7.,  2.,\n",
       "        6., 10., 11.])"
      ]
     },
     "execution_count": 353,
     "metadata": {},
     "output_type": "execute_result"
    }
   ],
   "source": [
    "df_inputs['Work_Experience'].unique()"
   ]
  },
  {
   "cell_type": "code",
   "execution_count": null,
   "metadata": {},
   "outputs": [
    {
     "name": "stderr",
     "output_type": "stream",
     "text": [
      "C:\\Users\\Olha Shaposhnyk\\AppData\\Local\\Temp\\ipykernel_26760\\648402858.py:11: SettingWithCopyWarning: \n",
      "A value is trying to be set on a copy of a slice from a DataFrame\n",
      "\n",
      "See the caveats in the documentation: https://pandas.pydata.org/pandas-docs/stable/user_guide/indexing.html#returning-a-view-versus-a-copy\n",
      "  df.fillna({target_column: df[target_column].mode()[0]}, inplace=True)\n"
     ]
    }
   ],
   "source": [
    "## numerical columns\n",
    "df_inputs = impute_by_mode(df_inputs, 'Family_Size', 'Age', 'Ever_Married')"
   ]
  },
  {
   "cell_type": "code",
   "execution_count": 355,
   "metadata": {},
   "outputs": [
    {
     "name": "stdout",
     "output_type": "stream",
     "text": [
      "Gender               0\n",
      "Ever_Married       140\n",
      "Age                  0\n",
      "Graduated           78\n",
      "Profession           0\n",
      "Work_Experience      0\n",
      "Spending_Score       0\n",
      "Family_Size          0\n",
      "Var_1               76\n",
      "dtype: int64\n"
     ]
    },
    {
     "name": "stderr",
     "output_type": "stream",
     "text": [
      "C:\\Users\\Olha Shaposhnyk\\AppData\\Local\\Temp\\ipykernel_26760\\3256067795.py:8: SettingWithCopyWarning: \n",
      "A value is trying to be set on a copy of a slice from a DataFrame\n",
      "\n",
      "See the caveats in the documentation: https://pandas.pydata.org/pandas-docs/stable/user_guide/indexing.html#returning-a-view-versus-a-copy\n",
      "  df_inputs.fillna({'Work_Experience': df_inputs['Work_Experience'].median()}, inplace=True)\n"
     ]
    }
   ],
   "source": [
    "for age_group in df_inputs['Age'].unique():\n",
    "    for proff in df_inputs['Profession'].unique():\n",
    "        category_mask = (df_inputs['Age'] == age_group) & (df_inputs['Profession'] == proff)\n",
    "\n",
    "        most_frequent_value = df_inputs.loc[category_mask, 'Work_Experience'].median()\n",
    "        df_inputs.loc[category_mask & df_inputs['Work_Experience'].isnull(), 'Work_Experience'] = np.round(most_frequent_value)\n",
    "# For all values for which there are no combinations in our dataset - we fill with the usual median across the entire sample\n",
    "df_inputs.fillna({'Work_Experience': df_inputs['Work_Experience'].median()}, inplace=True)\n",
    "print(df_inputs.isna().sum())"
   ]
  },
  {
   "cell_type": "code",
   "execution_count": 356,
   "metadata": {},
   "outputs": [
    {
     "name": "stderr",
     "output_type": "stream",
     "text": [
      "C:\\Users\\Olha Shaposhnyk\\AppData\\Local\\Temp\\ipykernel_26760\\1053401831.py:3: SettingWithCopyWarning: \n",
      "A value is trying to be set on a copy of a slice from a DataFrame.\n",
      "Try using .loc[row_indexer,col_indexer] = value instead\n",
      "\n",
      "See the caveats in the documentation: https://pandas.pydata.org/pandas-docs/stable/user_guide/indexing.html#returning-a-view-versus-a-copy\n",
      "  df_inputs[col_numeric] = scaler.fit_transform(df_inputs[col_numeric])\n"
     ]
    }
   ],
   "source": [
    "scaler = StandardScaler()\n",
    "df_inputs[col_numeric] = scaler.fit_transform(df_inputs[col_numeric])"
   ]
  },
  {
   "cell_type": "code",
   "execution_count": 357,
   "metadata": {},
   "outputs": [
    {
     "name": "stderr",
     "output_type": "stream",
     "text": [
      "C:\\Users\\Olha Shaposhnyk\\AppData\\Local\\Temp\\ipykernel_26760\\648402858.py:11: SettingWithCopyWarning: \n",
      "A value is trying to be set on a copy of a slice from a DataFrame\n",
      "\n",
      "See the caveats in the documentation: https://pandas.pydata.org/pandas-docs/stable/user_guide/indexing.html#returning-a-view-versus-a-copy\n",
      "  df.fillna({target_column: df[target_column].mode()[0]}, inplace=True)\n",
      "C:\\Users\\Olha Shaposhnyk\\AppData\\Local\\Temp\\ipykernel_26760\\648402858.py:11: SettingWithCopyWarning: \n",
      "A value is trying to be set on a copy of a slice from a DataFrame\n",
      "\n",
      "See the caveats in the documentation: https://pandas.pydata.org/pandas-docs/stable/user_guide/indexing.html#returning-a-view-versus-a-copy\n",
      "  df.fillna({target_column: df[target_column].mode()[0]}, inplace=True)\n",
      "C:\\Users\\Olha Shaposhnyk\\AppData\\Local\\Temp\\ipykernel_26760\\648402858.py:11: SettingWithCopyWarning: \n",
      "A value is trying to be set on a copy of a slice from a DataFrame\n",
      "\n",
      "See the caveats in the documentation: https://pandas.pydata.org/pandas-docs/stable/user_guide/indexing.html#returning-a-view-versus-a-copy\n",
      "  df.fillna({target_column: df[target_column].mode()[0]}, inplace=True)\n"
     ]
    }
   ],
   "source": [
    "## categorical columns\n",
    "\n",
    "df_inputs = impute_by_mode(df_inputs, 'Ever_Married', 'Age', 'Family_Size')\n",
    "df_inputs = impute_by_mode(df_inputs, 'Graduated', 'Age', 'Profession')\n",
    "df_inputs = impute_by_mode(df_inputs, 'Var_1', 'Spending_Score', 'Profession')"
   ]
  },
  {
   "cell_type": "code",
   "execution_count": 358,
   "metadata": {},
   "outputs": [
    {
     "name": "stdout",
     "output_type": "stream",
     "text": [
      "Ever_Married    0\n",
      "Family_Size     0\n",
      "Graduated       0\n",
      "Var_1           0\n",
      "dtype: int64\n"
     ]
    }
   ],
   "source": [
    "print(df_inputs[['Ever_Married', 'Family_Size','Graduated','Var_1']].isna().sum())  # Print the count of missing values for specified columns"
   ]
  },
  {
   "cell_type": "code",
   "execution_count": 359,
   "metadata": {},
   "outputs": [
    {
     "name": "stdout",
     "output_type": "stream",
     "text": [
      "['Gender', 'Ever_Married', 'Graduated', 'Profession', 'Var_1']\n"
     ]
    }
   ],
   "source": [
    "cols_onehot = df_inputs.select_dtypes(include='object').columns.tolist()\n",
    "cols_onehot.remove('Spending_Score')\n",
    "print(cols_onehot)"
   ]
  },
  {
   "cell_type": "code",
   "execution_count": 360,
   "metadata": {},
   "outputs": [
    {
     "name": "stdout",
     "output_type": "stream",
     "text": [
      "['Gender_Male', 'Ever_Married_Yes', 'Graduated_Yes', 'Profession_Artist', 'Profession_Doctor', 'Profession_Engineer', 'Profession_Entertainment', 'Profession_Executive', 'Profession_Healthcare', 'Profession_Homemaker', 'Profession_Lawyer', 'Profession_Marketing', 'Profession_Other', 'Var_1_Cat_1', 'Var_1_Cat_2', 'Var_1_Cat_3', 'Var_1_Cat_4', 'Var_1_Cat_5', 'Var_1_Cat_6', 'Var_1_Cat_7']\n"
     ]
    }
   ],
   "source": [
    "encoder = OneHotEncoder(sparse_output=False, handle_unknown='ignore', drop = 'if_binary')\n",
    "encoder.fit(df_inputs[cols_onehot])\n",
    "encoded_cols = list(encoder.get_feature_names_out(cols_onehot))\n",
    "print(encoded_cols)\n",
    "df_inputs[encoded_cols] = encoder.transform(df_inputs[cols_onehot])"
   ]
  },
  {
   "cell_type": "code",
   "execution_count": 361,
   "metadata": {},
   "outputs": [
    {
     "data": {
      "text/plain": [
       "array(['Low', 'Average', 'High'], dtype=object)"
      ]
     },
     "execution_count": 361,
     "metadata": {},
     "output_type": "execute_result"
    }
   ],
   "source": [
    "df_inputs.Spending_Score.unique()"
   ]
  },
  {
   "cell_type": "code",
   "execution_count": 362,
   "metadata": {},
   "outputs": [],
   "source": [
    "ordinal_encoder = OrdinalEncoder(categories=[['Low', 'Average', 'High']])\n",
    "df_inputs['Spending_Score'] = ordinal_encoder.fit_transform(df_inputs[['Spending_Score']])"
   ]
  },
  {
   "cell_type": "code",
   "execution_count": 363,
   "metadata": {},
   "outputs": [
    {
     "data": {
      "text/html": [
       "<div>\n",
       "<style scoped>\n",
       "    .dataframe tbody tr th:only-of-type {\n",
       "        vertical-align: middle;\n",
       "    }\n",
       "\n",
       "    .dataframe tbody tr th {\n",
       "        vertical-align: top;\n",
       "    }\n",
       "\n",
       "    .dataframe thead th {\n",
       "        text-align: right;\n",
       "    }\n",
       "</style>\n",
       "<table border=\"1\" class=\"dataframe\">\n",
       "  <thead>\n",
       "    <tr style=\"text-align: right;\">\n",
       "      <th></th>\n",
       "      <th>Gender</th>\n",
       "      <th>Ever_Married</th>\n",
       "      <th>Age</th>\n",
       "      <th>Graduated</th>\n",
       "      <th>Profession</th>\n",
       "      <th>Work_Experience</th>\n",
       "      <th>Spending_Score</th>\n",
       "      <th>Family_Size</th>\n",
       "      <th>Var_1</th>\n",
       "      <th>Gender_Male</th>\n",
       "      <th>Ever_Married_Yes</th>\n",
       "      <th>Graduated_Yes</th>\n",
       "      <th>Profession_Artist</th>\n",
       "      <th>Profession_Doctor</th>\n",
       "      <th>Profession_Engineer</th>\n",
       "      <th>Profession_Entertainment</th>\n",
       "      <th>Profession_Executive</th>\n",
       "      <th>Profession_Healthcare</th>\n",
       "      <th>Profession_Homemaker</th>\n",
       "      <th>Profession_Lawyer</th>\n",
       "      <th>Profession_Marketing</th>\n",
       "      <th>Profession_Other</th>\n",
       "      <th>Var_1_Cat_1</th>\n",
       "      <th>Var_1_Cat_2</th>\n",
       "      <th>Var_1_Cat_3</th>\n",
       "      <th>Var_1_Cat_4</th>\n",
       "      <th>Var_1_Cat_5</th>\n",
       "      <th>Var_1_Cat_6</th>\n",
       "      <th>Var_1_Cat_7</th>\n",
       "    </tr>\n",
       "  </thead>\n",
       "  <tbody>\n",
       "    <tr>\n",
       "      <th>0</th>\n",
       "      <td>Male</td>\n",
       "      <td>No</td>\n",
       "      <td>-1.284623</td>\n",
       "      <td>No</td>\n",
       "      <td>Healthcare</td>\n",
       "      <td>-0.463482</td>\n",
       "      <td>0.0</td>\n",
       "      <td>0.772790</td>\n",
       "      <td>Cat_4</td>\n",
       "      <td>1.0</td>\n",
       "      <td>0.0</td>\n",
       "      <td>0.0</td>\n",
       "      <td>0.0</td>\n",
       "      <td>0.0</td>\n",
       "      <td>0.0</td>\n",
       "      <td>0.0</td>\n",
       "      <td>0.0</td>\n",
       "      <td>1.0</td>\n",
       "      <td>0.0</td>\n",
       "      <td>0.0</td>\n",
       "      <td>0.0</td>\n",
       "      <td>0.0</td>\n",
       "      <td>0.0</td>\n",
       "      <td>0.0</td>\n",
       "      <td>0.0</td>\n",
       "      <td>1.0</td>\n",
       "      <td>0.0</td>\n",
       "      <td>0.0</td>\n",
       "      <td>0.0</td>\n",
       "    </tr>\n",
       "    <tr>\n",
       "      <th>1</th>\n",
       "      <td>Female</td>\n",
       "      <td>Yes</td>\n",
       "      <td>-0.327151</td>\n",
       "      <td>Yes</td>\n",
       "      <td>Engineer</td>\n",
       "      <td>-0.463482</td>\n",
       "      <td>1.0</td>\n",
       "      <td>0.114061</td>\n",
       "      <td>Cat_4</td>\n",
       "      <td>0.0</td>\n",
       "      <td>1.0</td>\n",
       "      <td>1.0</td>\n",
       "      <td>0.0</td>\n",
       "      <td>0.0</td>\n",
       "      <td>1.0</td>\n",
       "      <td>0.0</td>\n",
       "      <td>0.0</td>\n",
       "      <td>0.0</td>\n",
       "      <td>0.0</td>\n",
       "      <td>0.0</td>\n",
       "      <td>0.0</td>\n",
       "      <td>0.0</td>\n",
       "      <td>0.0</td>\n",
       "      <td>0.0</td>\n",
       "      <td>0.0</td>\n",
       "      <td>1.0</td>\n",
       "      <td>0.0</td>\n",
       "      <td>0.0</td>\n",
       "      <td>0.0</td>\n",
       "    </tr>\n",
       "    <tr>\n",
       "      <th>2</th>\n",
       "      <td>Female</td>\n",
       "      <td>Yes</td>\n",
       "      <td>1.408268</td>\n",
       "      <td>Yes</td>\n",
       "      <td>Engineer</td>\n",
       "      <td>-0.463482</td>\n",
       "      <td>0.0</td>\n",
       "      <td>-1.203398</td>\n",
       "      <td>Cat_6</td>\n",
       "      <td>0.0</td>\n",
       "      <td>1.0</td>\n",
       "      <td>1.0</td>\n",
       "      <td>0.0</td>\n",
       "      <td>0.0</td>\n",
       "      <td>1.0</td>\n",
       "      <td>0.0</td>\n",
       "      <td>0.0</td>\n",
       "      <td>0.0</td>\n",
       "      <td>0.0</td>\n",
       "      <td>0.0</td>\n",
       "      <td>0.0</td>\n",
       "      <td>0.0</td>\n",
       "      <td>0.0</td>\n",
       "      <td>0.0</td>\n",
       "      <td>0.0</td>\n",
       "      <td>0.0</td>\n",
       "      <td>0.0</td>\n",
       "      <td>1.0</td>\n",
       "      <td>0.0</td>\n",
       "    </tr>\n",
       "    <tr>\n",
       "      <th>3</th>\n",
       "      <td>Male</td>\n",
       "      <td>Yes</td>\n",
       "      <td>1.408268</td>\n",
       "      <td>Yes</td>\n",
       "      <td>Lawyer</td>\n",
       "      <td>-0.767175</td>\n",
       "      <td>2.0</td>\n",
       "      <td>-0.544668</td>\n",
       "      <td>Cat_6</td>\n",
       "      <td>1.0</td>\n",
       "      <td>1.0</td>\n",
       "      <td>1.0</td>\n",
       "      <td>0.0</td>\n",
       "      <td>0.0</td>\n",
       "      <td>0.0</td>\n",
       "      <td>0.0</td>\n",
       "      <td>0.0</td>\n",
       "      <td>0.0</td>\n",
       "      <td>0.0</td>\n",
       "      <td>1.0</td>\n",
       "      <td>0.0</td>\n",
       "      <td>0.0</td>\n",
       "      <td>0.0</td>\n",
       "      <td>0.0</td>\n",
       "      <td>0.0</td>\n",
       "      <td>0.0</td>\n",
       "      <td>0.0</td>\n",
       "      <td>1.0</td>\n",
       "      <td>0.0</td>\n",
       "    </tr>\n",
       "    <tr>\n",
       "      <th>4</th>\n",
       "      <td>Female</td>\n",
       "      <td>Yes</td>\n",
       "      <td>-0.207467</td>\n",
       "      <td>Yes</td>\n",
       "      <td>Entertainment</td>\n",
       "      <td>0.751290</td>\n",
       "      <td>2.0</td>\n",
       "      <td>2.090249</td>\n",
       "      <td>Cat_6</td>\n",
       "      <td>0.0</td>\n",
       "      <td>1.0</td>\n",
       "      <td>1.0</td>\n",
       "      <td>0.0</td>\n",
       "      <td>0.0</td>\n",
       "      <td>0.0</td>\n",
       "      <td>1.0</td>\n",
       "      <td>0.0</td>\n",
       "      <td>0.0</td>\n",
       "      <td>0.0</td>\n",
       "      <td>0.0</td>\n",
       "      <td>0.0</td>\n",
       "      <td>0.0</td>\n",
       "      <td>0.0</td>\n",
       "      <td>0.0</td>\n",
       "      <td>0.0</td>\n",
       "      <td>0.0</td>\n",
       "      <td>0.0</td>\n",
       "      <td>1.0</td>\n",
       "      <td>0.0</td>\n",
       "    </tr>\n",
       "    <tr>\n",
       "      <th>...</th>\n",
       "      <td>...</td>\n",
       "      <td>...</td>\n",
       "      <td>...</td>\n",
       "      <td>...</td>\n",
       "      <td>...</td>\n",
       "      <td>...</td>\n",
       "      <td>...</td>\n",
       "      <td>...</td>\n",
       "      <td>...</td>\n",
       "      <td>...</td>\n",
       "      <td>...</td>\n",
       "      <td>...</td>\n",
       "      <td>...</td>\n",
       "      <td>...</td>\n",
       "      <td>...</td>\n",
       "      <td>...</td>\n",
       "      <td>...</td>\n",
       "      <td>...</td>\n",
       "      <td>...</td>\n",
       "      <td>...</td>\n",
       "      <td>...</td>\n",
       "      <td>...</td>\n",
       "      <td>...</td>\n",
       "      <td>...</td>\n",
       "      <td>...</td>\n",
       "      <td>...</td>\n",
       "      <td>...</td>\n",
       "      <td>...</td>\n",
       "      <td>...</td>\n",
       "    </tr>\n",
       "    <tr>\n",
       "      <th>8063</th>\n",
       "      <td>Male</td>\n",
       "      <td>No</td>\n",
       "      <td>-1.284623</td>\n",
       "      <td>No</td>\n",
       "      <td>Other</td>\n",
       "      <td>-0.767175</td>\n",
       "      <td>0.0</td>\n",
       "      <td>2.748978</td>\n",
       "      <td>Cat_1</td>\n",
       "      <td>1.0</td>\n",
       "      <td>0.0</td>\n",
       "      <td>0.0</td>\n",
       "      <td>0.0</td>\n",
       "      <td>0.0</td>\n",
       "      <td>0.0</td>\n",
       "      <td>0.0</td>\n",
       "      <td>0.0</td>\n",
       "      <td>0.0</td>\n",
       "      <td>0.0</td>\n",
       "      <td>0.0</td>\n",
       "      <td>0.0</td>\n",
       "      <td>1.0</td>\n",
       "      <td>1.0</td>\n",
       "      <td>0.0</td>\n",
       "      <td>0.0</td>\n",
       "      <td>0.0</td>\n",
       "      <td>0.0</td>\n",
       "      <td>0.0</td>\n",
       "      <td>0.0</td>\n",
       "    </tr>\n",
       "    <tr>\n",
       "      <th>8064</th>\n",
       "      <td>Male</td>\n",
       "      <td>No</td>\n",
       "      <td>-0.506677</td>\n",
       "      <td>No</td>\n",
       "      <td>Executive</td>\n",
       "      <td>0.143904</td>\n",
       "      <td>0.0</td>\n",
       "      <td>0.772790</td>\n",
       "      <td>Cat_4</td>\n",
       "      <td>1.0</td>\n",
       "      <td>0.0</td>\n",
       "      <td>0.0</td>\n",
       "      <td>0.0</td>\n",
       "      <td>0.0</td>\n",
       "      <td>0.0</td>\n",
       "      <td>0.0</td>\n",
       "      <td>1.0</td>\n",
       "      <td>0.0</td>\n",
       "      <td>0.0</td>\n",
       "      <td>0.0</td>\n",
       "      <td>0.0</td>\n",
       "      <td>0.0</td>\n",
       "      <td>0.0</td>\n",
       "      <td>0.0</td>\n",
       "      <td>0.0</td>\n",
       "      <td>1.0</td>\n",
       "      <td>0.0</td>\n",
       "      <td>0.0</td>\n",
       "      <td>0.0</td>\n",
       "    </tr>\n",
       "    <tr>\n",
       "      <th>8065</th>\n",
       "      <td>Female</td>\n",
       "      <td>No</td>\n",
       "      <td>-0.626361</td>\n",
       "      <td>Yes</td>\n",
       "      <td>Healthcare</td>\n",
       "      <td>-0.463482</td>\n",
       "      <td>0.0</td>\n",
       "      <td>-1.203398</td>\n",
       "      <td>Cat_6</td>\n",
       "      <td>0.0</td>\n",
       "      <td>0.0</td>\n",
       "      <td>1.0</td>\n",
       "      <td>0.0</td>\n",
       "      <td>0.0</td>\n",
       "      <td>0.0</td>\n",
       "      <td>0.0</td>\n",
       "      <td>0.0</td>\n",
       "      <td>1.0</td>\n",
       "      <td>0.0</td>\n",
       "      <td>0.0</td>\n",
       "      <td>0.0</td>\n",
       "      <td>0.0</td>\n",
       "      <td>0.0</td>\n",
       "      <td>0.0</td>\n",
       "      <td>0.0</td>\n",
       "      <td>0.0</td>\n",
       "      <td>0.0</td>\n",
       "      <td>1.0</td>\n",
       "      <td>0.0</td>\n",
       "    </tr>\n",
       "    <tr>\n",
       "      <th>8066</th>\n",
       "      <td>Female</td>\n",
       "      <td>No</td>\n",
       "      <td>-0.985413</td>\n",
       "      <td>Yes</td>\n",
       "      <td>Healthcare</td>\n",
       "      <td>-0.463482</td>\n",
       "      <td>0.0</td>\n",
       "      <td>0.772790</td>\n",
       "      <td>Cat_6</td>\n",
       "      <td>0.0</td>\n",
       "      <td>0.0</td>\n",
       "      <td>1.0</td>\n",
       "      <td>0.0</td>\n",
       "      <td>0.0</td>\n",
       "      <td>0.0</td>\n",
       "      <td>0.0</td>\n",
       "      <td>0.0</td>\n",
       "      <td>1.0</td>\n",
       "      <td>0.0</td>\n",
       "      <td>0.0</td>\n",
       "      <td>0.0</td>\n",
       "      <td>0.0</td>\n",
       "      <td>0.0</td>\n",
       "      <td>0.0</td>\n",
       "      <td>0.0</td>\n",
       "      <td>0.0</td>\n",
       "      <td>0.0</td>\n",
       "      <td>1.0</td>\n",
       "      <td>0.0</td>\n",
       "    </tr>\n",
       "    <tr>\n",
       "      <th>8067</th>\n",
       "      <td>Male</td>\n",
       "      <td>Yes</td>\n",
       "      <td>-0.386993</td>\n",
       "      <td>Yes</td>\n",
       "      <td>Executive</td>\n",
       "      <td>-0.767175</td>\n",
       "      <td>1.0</td>\n",
       "      <td>0.114061</td>\n",
       "      <td>Cat_4</td>\n",
       "      <td>1.0</td>\n",
       "      <td>1.0</td>\n",
       "      <td>1.0</td>\n",
       "      <td>0.0</td>\n",
       "      <td>0.0</td>\n",
       "      <td>0.0</td>\n",
       "      <td>0.0</td>\n",
       "      <td>1.0</td>\n",
       "      <td>0.0</td>\n",
       "      <td>0.0</td>\n",
       "      <td>0.0</td>\n",
       "      <td>0.0</td>\n",
       "      <td>0.0</td>\n",
       "      <td>0.0</td>\n",
       "      <td>0.0</td>\n",
       "      <td>0.0</td>\n",
       "      <td>1.0</td>\n",
       "      <td>0.0</td>\n",
       "      <td>0.0</td>\n",
       "      <td>0.0</td>\n",
       "    </tr>\n",
       "  </tbody>\n",
       "</table>\n",
       "<p>8068 rows × 29 columns</p>\n",
       "</div>"
      ],
      "text/plain": [
       "      Gender Ever_Married       Age Graduated     Profession  Work_Experience  \\\n",
       "0       Male           No -1.284623        No     Healthcare        -0.463482   \n",
       "1     Female          Yes -0.327151       Yes       Engineer        -0.463482   \n",
       "2     Female          Yes  1.408268       Yes       Engineer        -0.463482   \n",
       "3       Male          Yes  1.408268       Yes         Lawyer        -0.767175   \n",
       "4     Female          Yes -0.207467       Yes  Entertainment         0.751290   \n",
       "...      ...          ...       ...       ...            ...              ...   \n",
       "8063    Male           No -1.284623        No          Other        -0.767175   \n",
       "8064    Male           No -0.506677        No      Executive         0.143904   \n",
       "8065  Female           No -0.626361       Yes     Healthcare        -0.463482   \n",
       "8066  Female           No -0.985413       Yes     Healthcare        -0.463482   \n",
       "8067    Male          Yes -0.386993       Yes      Executive        -0.767175   \n",
       "\n",
       "      Spending_Score  Family_Size  Var_1  Gender_Male  Ever_Married_Yes  \\\n",
       "0                0.0     0.772790  Cat_4          1.0               0.0   \n",
       "1                1.0     0.114061  Cat_4          0.0               1.0   \n",
       "2                0.0    -1.203398  Cat_6          0.0               1.0   \n",
       "3                2.0    -0.544668  Cat_6          1.0               1.0   \n",
       "4                2.0     2.090249  Cat_6          0.0               1.0   \n",
       "...              ...          ...    ...          ...               ...   \n",
       "8063             0.0     2.748978  Cat_1          1.0               0.0   \n",
       "8064             0.0     0.772790  Cat_4          1.0               0.0   \n",
       "8065             0.0    -1.203398  Cat_6          0.0               0.0   \n",
       "8066             0.0     0.772790  Cat_6          0.0               0.0   \n",
       "8067             1.0     0.114061  Cat_4          1.0               1.0   \n",
       "\n",
       "      Graduated_Yes  Profession_Artist  Profession_Doctor  \\\n",
       "0               0.0                0.0                0.0   \n",
       "1               1.0                0.0                0.0   \n",
       "2               1.0                0.0                0.0   \n",
       "3               1.0                0.0                0.0   \n",
       "4               1.0                0.0                0.0   \n",
       "...             ...                ...                ...   \n",
       "8063            0.0                0.0                0.0   \n",
       "8064            0.0                0.0                0.0   \n",
       "8065            1.0                0.0                0.0   \n",
       "8066            1.0                0.0                0.0   \n",
       "8067            1.0                0.0                0.0   \n",
       "\n",
       "      Profession_Engineer  Profession_Entertainment  Profession_Executive  \\\n",
       "0                     0.0                       0.0                   0.0   \n",
       "1                     1.0                       0.0                   0.0   \n",
       "2                     1.0                       0.0                   0.0   \n",
       "3                     0.0                       0.0                   0.0   \n",
       "4                     0.0                       1.0                   0.0   \n",
       "...                   ...                       ...                   ...   \n",
       "8063                  0.0                       0.0                   0.0   \n",
       "8064                  0.0                       0.0                   1.0   \n",
       "8065                  0.0                       0.0                   0.0   \n",
       "8066                  0.0                       0.0                   0.0   \n",
       "8067                  0.0                       0.0                   1.0   \n",
       "\n",
       "      Profession_Healthcare  Profession_Homemaker  Profession_Lawyer  \\\n",
       "0                       1.0                   0.0                0.0   \n",
       "1                       0.0                   0.0                0.0   \n",
       "2                       0.0                   0.0                0.0   \n",
       "3                       0.0                   0.0                1.0   \n",
       "4                       0.0                   0.0                0.0   \n",
       "...                     ...                   ...                ...   \n",
       "8063                    0.0                   0.0                0.0   \n",
       "8064                    0.0                   0.0                0.0   \n",
       "8065                    1.0                   0.0                0.0   \n",
       "8066                    1.0                   0.0                0.0   \n",
       "8067                    0.0                   0.0                0.0   \n",
       "\n",
       "      Profession_Marketing  Profession_Other  Var_1_Cat_1  Var_1_Cat_2  \\\n",
       "0                      0.0               0.0          0.0          0.0   \n",
       "1                      0.0               0.0          0.0          0.0   \n",
       "2                      0.0               0.0          0.0          0.0   \n",
       "3                      0.0               0.0          0.0          0.0   \n",
       "4                      0.0               0.0          0.0          0.0   \n",
       "...                    ...               ...          ...          ...   \n",
       "8063                   0.0               1.0          1.0          0.0   \n",
       "8064                   0.0               0.0          0.0          0.0   \n",
       "8065                   0.0               0.0          0.0          0.0   \n",
       "8066                   0.0               0.0          0.0          0.0   \n",
       "8067                   0.0               0.0          0.0          0.0   \n",
       "\n",
       "      Var_1_Cat_3  Var_1_Cat_4  Var_1_Cat_5  Var_1_Cat_6  Var_1_Cat_7  \n",
       "0             0.0          1.0          0.0          0.0          0.0  \n",
       "1             0.0          1.0          0.0          0.0          0.0  \n",
       "2             0.0          0.0          0.0          1.0          0.0  \n",
       "3             0.0          0.0          0.0          1.0          0.0  \n",
       "4             0.0          0.0          0.0          1.0          0.0  \n",
       "...           ...          ...          ...          ...          ...  \n",
       "8063          0.0          0.0          0.0          0.0          0.0  \n",
       "8064          0.0          1.0          0.0          0.0          0.0  \n",
       "8065          0.0          0.0          0.0          1.0          0.0  \n",
       "8066          0.0          0.0          0.0          1.0          0.0  \n",
       "8067          0.0          1.0          0.0          0.0          0.0  \n",
       "\n",
       "[8068 rows x 29 columns]"
      ]
     },
     "metadata": {},
     "output_type": "display_data"
    }
   ],
   "source": [
    "pd.set_option(\"display.max_columns\", None)\n",
    "display(df_inputs)"
   ]
  },
  {
   "cell_type": "code",
   "execution_count": 364,
   "metadata": {},
   "outputs": [
    {
     "data": {
      "text/plain": [
       "['Age',\n",
       " 'Work_Experience',\n",
       " 'Family_Size',\n",
       " 'Spending_Score',\n",
       " 'Gender_Male',\n",
       " 'Ever_Married_Yes',\n",
       " 'Graduated_Yes',\n",
       " 'Profession_Artist',\n",
       " 'Profession_Doctor',\n",
       " 'Profession_Engineer',\n",
       " 'Profession_Entertainment',\n",
       " 'Profession_Executive',\n",
       " 'Profession_Healthcare',\n",
       " 'Profession_Homemaker',\n",
       " 'Profession_Lawyer',\n",
       " 'Profession_Marketing',\n",
       " 'Profession_Other',\n",
       " 'Var_1_Cat_1',\n",
       " 'Var_1_Cat_2',\n",
       " 'Var_1_Cat_3',\n",
       " 'Var_1_Cat_4',\n",
       " 'Var_1_Cat_5',\n",
       " 'Var_1_Cat_6',\n",
       " 'Var_1_Cat_7']"
      ]
     },
     "execution_count": 364,
     "metadata": {},
     "output_type": "execute_result"
    }
   ],
   "source": [
    "cols_train = col_numeric + ['Spending_Score'] + encoded_cols \n",
    "cols_train"
   ]
  },
  {
   "cell_type": "code",
   "execution_count": 365,
   "metadata": {},
   "outputs": [
    {
     "data": {
      "text/html": [
       "<div>\n",
       "<style scoped>\n",
       "    .dataframe tbody tr th:only-of-type {\n",
       "        vertical-align: middle;\n",
       "    }\n",
       "\n",
       "    .dataframe tbody tr th {\n",
       "        vertical-align: top;\n",
       "    }\n",
       "\n",
       "    .dataframe thead th {\n",
       "        text-align: right;\n",
       "    }\n",
       "</style>\n",
       "<table border=\"1\" class=\"dataframe\">\n",
       "  <thead>\n",
       "    <tr style=\"text-align: right;\">\n",
       "      <th></th>\n",
       "      <th>Age</th>\n",
       "      <th>Work_Experience</th>\n",
       "      <th>Family_Size</th>\n",
       "      <th>Spending_Score</th>\n",
       "      <th>Gender_Male</th>\n",
       "      <th>Ever_Married_Yes</th>\n",
       "      <th>Graduated_Yes</th>\n",
       "      <th>Profession_Artist</th>\n",
       "      <th>Profession_Doctor</th>\n",
       "      <th>Profession_Engineer</th>\n",
       "      <th>Profession_Entertainment</th>\n",
       "      <th>Profession_Executive</th>\n",
       "      <th>Profession_Healthcare</th>\n",
       "      <th>Profession_Homemaker</th>\n",
       "      <th>Profession_Lawyer</th>\n",
       "      <th>Profession_Marketing</th>\n",
       "      <th>Profession_Other</th>\n",
       "      <th>Var_1_Cat_1</th>\n",
       "      <th>Var_1_Cat_2</th>\n",
       "      <th>Var_1_Cat_3</th>\n",
       "      <th>Var_1_Cat_4</th>\n",
       "      <th>Var_1_Cat_5</th>\n",
       "      <th>Var_1_Cat_6</th>\n",
       "      <th>Var_1_Cat_7</th>\n",
       "    </tr>\n",
       "  </thead>\n",
       "  <tbody>\n",
       "    <tr>\n",
       "      <th>0</th>\n",
       "      <td>-1.284623</td>\n",
       "      <td>-0.463482</td>\n",
       "      <td>0.772790</td>\n",
       "      <td>0.0</td>\n",
       "      <td>1.0</td>\n",
       "      <td>0.0</td>\n",
       "      <td>0.0</td>\n",
       "      <td>0.0</td>\n",
       "      <td>0.0</td>\n",
       "      <td>0.0</td>\n",
       "      <td>0.0</td>\n",
       "      <td>0.0</td>\n",
       "      <td>1.0</td>\n",
       "      <td>0.0</td>\n",
       "      <td>0.0</td>\n",
       "      <td>0.0</td>\n",
       "      <td>0.0</td>\n",
       "      <td>0.0</td>\n",
       "      <td>0.0</td>\n",
       "      <td>0.0</td>\n",
       "      <td>1.0</td>\n",
       "      <td>0.0</td>\n",
       "      <td>0.0</td>\n",
       "      <td>0.0</td>\n",
       "    </tr>\n",
       "    <tr>\n",
       "      <th>1</th>\n",
       "      <td>-0.327151</td>\n",
       "      <td>-0.463482</td>\n",
       "      <td>0.114061</td>\n",
       "      <td>1.0</td>\n",
       "      <td>0.0</td>\n",
       "      <td>1.0</td>\n",
       "      <td>1.0</td>\n",
       "      <td>0.0</td>\n",
       "      <td>0.0</td>\n",
       "      <td>1.0</td>\n",
       "      <td>0.0</td>\n",
       "      <td>0.0</td>\n",
       "      <td>0.0</td>\n",
       "      <td>0.0</td>\n",
       "      <td>0.0</td>\n",
       "      <td>0.0</td>\n",
       "      <td>0.0</td>\n",
       "      <td>0.0</td>\n",
       "      <td>0.0</td>\n",
       "      <td>0.0</td>\n",
       "      <td>1.0</td>\n",
       "      <td>0.0</td>\n",
       "      <td>0.0</td>\n",
       "      <td>0.0</td>\n",
       "    </tr>\n",
       "    <tr>\n",
       "      <th>2</th>\n",
       "      <td>1.408268</td>\n",
       "      <td>-0.463482</td>\n",
       "      <td>-1.203398</td>\n",
       "      <td>0.0</td>\n",
       "      <td>0.0</td>\n",
       "      <td>1.0</td>\n",
       "      <td>1.0</td>\n",
       "      <td>0.0</td>\n",
       "      <td>0.0</td>\n",
       "      <td>1.0</td>\n",
       "      <td>0.0</td>\n",
       "      <td>0.0</td>\n",
       "      <td>0.0</td>\n",
       "      <td>0.0</td>\n",
       "      <td>0.0</td>\n",
       "      <td>0.0</td>\n",
       "      <td>0.0</td>\n",
       "      <td>0.0</td>\n",
       "      <td>0.0</td>\n",
       "      <td>0.0</td>\n",
       "      <td>0.0</td>\n",
       "      <td>0.0</td>\n",
       "      <td>1.0</td>\n",
       "      <td>0.0</td>\n",
       "    </tr>\n",
       "    <tr>\n",
       "      <th>3</th>\n",
       "      <td>1.408268</td>\n",
       "      <td>-0.767175</td>\n",
       "      <td>-0.544668</td>\n",
       "      <td>2.0</td>\n",
       "      <td>1.0</td>\n",
       "      <td>1.0</td>\n",
       "      <td>1.0</td>\n",
       "      <td>0.0</td>\n",
       "      <td>0.0</td>\n",
       "      <td>0.0</td>\n",
       "      <td>0.0</td>\n",
       "      <td>0.0</td>\n",
       "      <td>0.0</td>\n",
       "      <td>0.0</td>\n",
       "      <td>1.0</td>\n",
       "      <td>0.0</td>\n",
       "      <td>0.0</td>\n",
       "      <td>0.0</td>\n",
       "      <td>0.0</td>\n",
       "      <td>0.0</td>\n",
       "      <td>0.0</td>\n",
       "      <td>0.0</td>\n",
       "      <td>1.0</td>\n",
       "      <td>0.0</td>\n",
       "    </tr>\n",
       "    <tr>\n",
       "      <th>4</th>\n",
       "      <td>-0.207467</td>\n",
       "      <td>0.751290</td>\n",
       "      <td>2.090249</td>\n",
       "      <td>2.0</td>\n",
       "      <td>0.0</td>\n",
       "      <td>1.0</td>\n",
       "      <td>1.0</td>\n",
       "      <td>0.0</td>\n",
       "      <td>0.0</td>\n",
       "      <td>0.0</td>\n",
       "      <td>1.0</td>\n",
       "      <td>0.0</td>\n",
       "      <td>0.0</td>\n",
       "      <td>0.0</td>\n",
       "      <td>0.0</td>\n",
       "      <td>0.0</td>\n",
       "      <td>0.0</td>\n",
       "      <td>0.0</td>\n",
       "      <td>0.0</td>\n",
       "      <td>0.0</td>\n",
       "      <td>0.0</td>\n",
       "      <td>0.0</td>\n",
       "      <td>1.0</td>\n",
       "      <td>0.0</td>\n",
       "    </tr>\n",
       "    <tr>\n",
       "      <th>...</th>\n",
       "      <td>...</td>\n",
       "      <td>...</td>\n",
       "      <td>...</td>\n",
       "      <td>...</td>\n",
       "      <td>...</td>\n",
       "      <td>...</td>\n",
       "      <td>...</td>\n",
       "      <td>...</td>\n",
       "      <td>...</td>\n",
       "      <td>...</td>\n",
       "      <td>...</td>\n",
       "      <td>...</td>\n",
       "      <td>...</td>\n",
       "      <td>...</td>\n",
       "      <td>...</td>\n",
       "      <td>...</td>\n",
       "      <td>...</td>\n",
       "      <td>...</td>\n",
       "      <td>...</td>\n",
       "      <td>...</td>\n",
       "      <td>...</td>\n",
       "      <td>...</td>\n",
       "      <td>...</td>\n",
       "      <td>...</td>\n",
       "    </tr>\n",
       "    <tr>\n",
       "      <th>8063</th>\n",
       "      <td>-1.284623</td>\n",
       "      <td>-0.767175</td>\n",
       "      <td>2.748978</td>\n",
       "      <td>0.0</td>\n",
       "      <td>1.0</td>\n",
       "      <td>0.0</td>\n",
       "      <td>0.0</td>\n",
       "      <td>0.0</td>\n",
       "      <td>0.0</td>\n",
       "      <td>0.0</td>\n",
       "      <td>0.0</td>\n",
       "      <td>0.0</td>\n",
       "      <td>0.0</td>\n",
       "      <td>0.0</td>\n",
       "      <td>0.0</td>\n",
       "      <td>0.0</td>\n",
       "      <td>1.0</td>\n",
       "      <td>1.0</td>\n",
       "      <td>0.0</td>\n",
       "      <td>0.0</td>\n",
       "      <td>0.0</td>\n",
       "      <td>0.0</td>\n",
       "      <td>0.0</td>\n",
       "      <td>0.0</td>\n",
       "    </tr>\n",
       "    <tr>\n",
       "      <th>8064</th>\n",
       "      <td>-0.506677</td>\n",
       "      <td>0.143904</td>\n",
       "      <td>0.772790</td>\n",
       "      <td>0.0</td>\n",
       "      <td>1.0</td>\n",
       "      <td>0.0</td>\n",
       "      <td>0.0</td>\n",
       "      <td>0.0</td>\n",
       "      <td>0.0</td>\n",
       "      <td>0.0</td>\n",
       "      <td>0.0</td>\n",
       "      <td>1.0</td>\n",
       "      <td>0.0</td>\n",
       "      <td>0.0</td>\n",
       "      <td>0.0</td>\n",
       "      <td>0.0</td>\n",
       "      <td>0.0</td>\n",
       "      <td>0.0</td>\n",
       "      <td>0.0</td>\n",
       "      <td>0.0</td>\n",
       "      <td>1.0</td>\n",
       "      <td>0.0</td>\n",
       "      <td>0.0</td>\n",
       "      <td>0.0</td>\n",
       "    </tr>\n",
       "    <tr>\n",
       "      <th>8065</th>\n",
       "      <td>-0.626361</td>\n",
       "      <td>-0.463482</td>\n",
       "      <td>-1.203398</td>\n",
       "      <td>0.0</td>\n",
       "      <td>0.0</td>\n",
       "      <td>0.0</td>\n",
       "      <td>1.0</td>\n",
       "      <td>0.0</td>\n",
       "      <td>0.0</td>\n",
       "      <td>0.0</td>\n",
       "      <td>0.0</td>\n",
       "      <td>0.0</td>\n",
       "      <td>1.0</td>\n",
       "      <td>0.0</td>\n",
       "      <td>0.0</td>\n",
       "      <td>0.0</td>\n",
       "      <td>0.0</td>\n",
       "      <td>0.0</td>\n",
       "      <td>0.0</td>\n",
       "      <td>0.0</td>\n",
       "      <td>0.0</td>\n",
       "      <td>0.0</td>\n",
       "      <td>1.0</td>\n",
       "      <td>0.0</td>\n",
       "    </tr>\n",
       "    <tr>\n",
       "      <th>8066</th>\n",
       "      <td>-0.985413</td>\n",
       "      <td>-0.463482</td>\n",
       "      <td>0.772790</td>\n",
       "      <td>0.0</td>\n",
       "      <td>0.0</td>\n",
       "      <td>0.0</td>\n",
       "      <td>1.0</td>\n",
       "      <td>0.0</td>\n",
       "      <td>0.0</td>\n",
       "      <td>0.0</td>\n",
       "      <td>0.0</td>\n",
       "      <td>0.0</td>\n",
       "      <td>1.0</td>\n",
       "      <td>0.0</td>\n",
       "      <td>0.0</td>\n",
       "      <td>0.0</td>\n",
       "      <td>0.0</td>\n",
       "      <td>0.0</td>\n",
       "      <td>0.0</td>\n",
       "      <td>0.0</td>\n",
       "      <td>0.0</td>\n",
       "      <td>0.0</td>\n",
       "      <td>1.0</td>\n",
       "      <td>0.0</td>\n",
       "    </tr>\n",
       "    <tr>\n",
       "      <th>8067</th>\n",
       "      <td>-0.386993</td>\n",
       "      <td>-0.767175</td>\n",
       "      <td>0.114061</td>\n",
       "      <td>1.0</td>\n",
       "      <td>1.0</td>\n",
       "      <td>1.0</td>\n",
       "      <td>1.0</td>\n",
       "      <td>0.0</td>\n",
       "      <td>0.0</td>\n",
       "      <td>0.0</td>\n",
       "      <td>0.0</td>\n",
       "      <td>1.0</td>\n",
       "      <td>0.0</td>\n",
       "      <td>0.0</td>\n",
       "      <td>0.0</td>\n",
       "      <td>0.0</td>\n",
       "      <td>0.0</td>\n",
       "      <td>0.0</td>\n",
       "      <td>0.0</td>\n",
       "      <td>0.0</td>\n",
       "      <td>1.0</td>\n",
       "      <td>0.0</td>\n",
       "      <td>0.0</td>\n",
       "      <td>0.0</td>\n",
       "    </tr>\n",
       "  </tbody>\n",
       "</table>\n",
       "<p>8068 rows × 24 columns</p>\n",
       "</div>"
      ],
      "text/plain": [
       "           Age  Work_Experience  Family_Size  Spending_Score  Gender_Male  \\\n",
       "0    -1.284623        -0.463482     0.772790             0.0          1.0   \n",
       "1    -0.327151        -0.463482     0.114061             1.0          0.0   \n",
       "2     1.408268        -0.463482    -1.203398             0.0          0.0   \n",
       "3     1.408268        -0.767175    -0.544668             2.0          1.0   \n",
       "4    -0.207467         0.751290     2.090249             2.0          0.0   \n",
       "...        ...              ...          ...             ...          ...   \n",
       "8063 -1.284623        -0.767175     2.748978             0.0          1.0   \n",
       "8064 -0.506677         0.143904     0.772790             0.0          1.0   \n",
       "8065 -0.626361        -0.463482    -1.203398             0.0          0.0   \n",
       "8066 -0.985413        -0.463482     0.772790             0.0          0.0   \n",
       "8067 -0.386993        -0.767175     0.114061             1.0          1.0   \n",
       "\n",
       "      Ever_Married_Yes  Graduated_Yes  Profession_Artist  Profession_Doctor  \\\n",
       "0                  0.0            0.0                0.0                0.0   \n",
       "1                  1.0            1.0                0.0                0.0   \n",
       "2                  1.0            1.0                0.0                0.0   \n",
       "3                  1.0            1.0                0.0                0.0   \n",
       "4                  1.0            1.0                0.0                0.0   \n",
       "...                ...            ...                ...                ...   \n",
       "8063               0.0            0.0                0.0                0.0   \n",
       "8064               0.0            0.0                0.0                0.0   \n",
       "8065               0.0            1.0                0.0                0.0   \n",
       "8066               0.0            1.0                0.0                0.0   \n",
       "8067               1.0            1.0                0.0                0.0   \n",
       "\n",
       "      Profession_Engineer  Profession_Entertainment  Profession_Executive  \\\n",
       "0                     0.0                       0.0                   0.0   \n",
       "1                     1.0                       0.0                   0.0   \n",
       "2                     1.0                       0.0                   0.0   \n",
       "3                     0.0                       0.0                   0.0   \n",
       "4                     0.0                       1.0                   0.0   \n",
       "...                   ...                       ...                   ...   \n",
       "8063                  0.0                       0.0                   0.0   \n",
       "8064                  0.0                       0.0                   1.0   \n",
       "8065                  0.0                       0.0                   0.0   \n",
       "8066                  0.0                       0.0                   0.0   \n",
       "8067                  0.0                       0.0                   1.0   \n",
       "\n",
       "      Profession_Healthcare  Profession_Homemaker  Profession_Lawyer  \\\n",
       "0                       1.0                   0.0                0.0   \n",
       "1                       0.0                   0.0                0.0   \n",
       "2                       0.0                   0.0                0.0   \n",
       "3                       0.0                   0.0                1.0   \n",
       "4                       0.0                   0.0                0.0   \n",
       "...                     ...                   ...                ...   \n",
       "8063                    0.0                   0.0                0.0   \n",
       "8064                    0.0                   0.0                0.0   \n",
       "8065                    1.0                   0.0                0.0   \n",
       "8066                    1.0                   0.0                0.0   \n",
       "8067                    0.0                   0.0                0.0   \n",
       "\n",
       "      Profession_Marketing  Profession_Other  Var_1_Cat_1  Var_1_Cat_2  \\\n",
       "0                      0.0               0.0          0.0          0.0   \n",
       "1                      0.0               0.0          0.0          0.0   \n",
       "2                      0.0               0.0          0.0          0.0   \n",
       "3                      0.0               0.0          0.0          0.0   \n",
       "4                      0.0               0.0          0.0          0.0   \n",
       "...                    ...               ...          ...          ...   \n",
       "8063                   0.0               1.0          1.0          0.0   \n",
       "8064                   0.0               0.0          0.0          0.0   \n",
       "8065                   0.0               0.0          0.0          0.0   \n",
       "8066                   0.0               0.0          0.0          0.0   \n",
       "8067                   0.0               0.0          0.0          0.0   \n",
       "\n",
       "      Var_1_Cat_3  Var_1_Cat_4  Var_1_Cat_5  Var_1_Cat_6  Var_1_Cat_7  \n",
       "0             0.0          1.0          0.0          0.0          0.0  \n",
       "1             0.0          1.0          0.0          0.0          0.0  \n",
       "2             0.0          0.0          0.0          1.0          0.0  \n",
       "3             0.0          0.0          0.0          1.0          0.0  \n",
       "4             0.0          0.0          0.0          1.0          0.0  \n",
       "...           ...          ...          ...          ...          ...  \n",
       "8063          0.0          0.0          0.0          0.0          0.0  \n",
       "8064          0.0          1.0          0.0          0.0          0.0  \n",
       "8065          0.0          0.0          0.0          1.0          0.0  \n",
       "8066          0.0          0.0          0.0          1.0          0.0  \n",
       "8067          0.0          1.0          0.0          0.0          0.0  \n",
       "\n",
       "[8068 rows x 24 columns]"
      ]
     },
     "execution_count": 365,
     "metadata": {},
     "output_type": "execute_result"
    }
   ],
   "source": [
    "train_inputs = df_inputs[cols_train]\n",
    "train_inputs"
   ]
  },
  {
   "cell_type": "code",
   "execution_count": null,
   "metadata": {},
   "outputs": [
    {
     "data": {
      "text/plain": [
       "((6454, 24), (1614, 24), (6454,), (1614,))"
      ]
     },
     "execution_count": 366,
     "metadata": {},
     "output_type": "execute_result"
    }
   ],
   "source": [
    "from sklearn.model_selection import train_test_split\n",
    "X_train, X_val, y_train, y_val = train_test_split(train_inputs, df_target, test_size=0.2, random_state=42)\n",
    "\n",
    "X_train.shape, X_val.shape, y_train.shape, y_val.shape"
   ]
  },
  {
   "cell_type": "markdown",
   "metadata": {},
   "source": [
    "# Conclusions 1\n",
    "\n",
    "- Dataset dimensions: 11 columns (of which 1 is the class label and another column is ID which we remove, so we have 9 features) and 8068 rows of records.\n",
    "- Let's look at which columns have missing data.\n",
    "\n",
    "|column           |Missing value |\n",
    "|-----------------|--------|\n",
    "|Ever_Married      |140|\n",
    "|Graduated         | 78|\n",
    "|Profession        |124|\n",
    "|Work_Experience   |829|\n",
    "|Family_Size       |335|\n",
    "|Var_1             | 76|\n",
    "\n",
    "- For handling missing values, we created a function *impute_by_mode* where we will use the mode to fill in the gaps, especially for categorical data. We pass two columns that can significantly influence the column with missing values, and based on the mode in these defined groups, we fill in the gaps. We find the mode for cases that are similar to each other and fill in the missing values. If such groups do not exist, we use the global mode.\n",
    "\n",
    "- We identify numerical *['Age', 'Work_Experience', 'Family_Size']* and process the missing values.\n",
    "    - Work_Experience - according to descriptive statistics, at least 25% of the records have 0 years of experience. We group the column by Profession and Age (these columns seem to be those that can greatly influence your experience) and fill in the missing values with the median. The distribution of this column is multimodal (with peaks at 0 and 7), so we choose the median relative to the groups.\n",
    "    - Family_Size - we fill in the mode based on the family size and how many years it has existed (grouping by 'Age', 'Ever_Married').\n",
    "- We standardize the numerical columns using *StandardScaler*.\n",
    "\n",
    "- We identify categorical *['Gender', 'Ever_Married', 'Graduated', 'Profession', 'Spending_Score', 'Var_1']* and process the missing values.\n",
    "    - Ever_Married - similarly, we fill in the mode based on groups by 'Age', 'Family_Size'. Alternatively, it could have been left as *'Other'*.\n",
    "    - Graduated - similarly, we fill in the mode based on groups by 'Age', 'Profession'. Alternatively, it could have been left as *'Other'*.\n",
    "    - Profession - has 9 unique values, among which **Artist=31%** stands out significantly. All missing values are filled with *'Other'*, which will account for 1.5% of all data.\n",
    "    - Var_1 - the category has 7 columns. Ideally, we would group the data by all other columns, but we will choose only two for grouping 'Spending_Score', 'Profession' to fill in the mode.\n",
    "- We encode our categorical columns using *OneHotEncoder* (excluding Spending_Score).\n",
    "- We encode Spending_Score using *OrdinalEncoder* because it contains ordinal values low-medium-high ['Low', 'Average', 'High'] = 0,1,2.\n",
    "\n",
    "- We form our final dataset which includes: col_numeric + ['Spending_Score'] + encoded_cols.\n",
    "- Segmentation - target."
   ]
  },
  {
   "cell_type": "markdown",
   "metadata": {
    "id": "fhJzCBA7P0f8"
   },
   "source": [
    "**Task 2. It is important to read the entire wording of this task carefully to the end!**\n",
    "\n",
    "Apply the SMOTE and SMOTE-Tomek resampling methods from the imbalanced-learn library to the training sample. As a result, you should have 2 training sets: one with upsampling using SMOTE and the other with resampling using SMOTE-Tomek.\n",
    "\n",
    "Attention! In our dataset, there are both categorical and regular numerical data. Basic SMOTE will not work correctly with categorical data, but there is a modification that will. Therefore, this task has 2 parts:\n",
    "\n",
    "1. Apply basic SMOTE only to NON-categorical features.\n",
    "\n",
    "2. Review the information about the [SMOTENC](https://imbalanced-learn.org/dev/references/generated/imblearn.over_sampling.SMOTENC.html#imblearn.over_sampling.SMOTENC) method and use this method in this task. You will receive +3 points for this task, and it is recommended for execution.\n",
    "\n",
    "  **Hint**: To use SMOTENC, you need to create a variable that contains the indices of the features that are categorical (their number among the columns) and pass it when initializing an instance of the `SMOTENC(..., categorical_features=cat_feature_indices)` class.\n",
    "  \n",
    "  You can also consider using the variation of SMOTE that works ONLY with categorical features [SMOTEN](https://imbalanced-learn.org/dev/references/generated/imblearn.over_sampling.SMOTEN.html)."
   ]
  },
  {
   "cell_type": "code",
   "execution_count": null,
   "metadata": {
    "id": "6NFUkQ_15HNX"
   },
   "outputs": [],
   "source": [
    "from imblearn.over_sampling import SMOTE, SMOTENC, SMOTEN\n",
    "from imblearn.combine import SMOTETomek"
   ]
  },
  {
   "cell_type": "code",
   "execution_count": 378,
   "metadata": {},
   "outputs": [
    {
     "name": "stdout",
     "output_type": "stream",
     "text": [
      "Cat.Indices: [3, 4, 5, 6, 7, 8, 9, 10, 11, 12, 13, 14, 15, 16, 17, 18, 19, 20, 21, 22, 23]\n"
     ]
    }
   ],
   "source": [
    "categorical_indices = [train_inputs.columns.get_loc(col) for col in (['Spending_Score'] + encoded_cols)]\n",
    "print(\"Cat.Indices:\", categorical_indices)"
   ]
  },
  {
   "cell_type": "code",
   "execution_count": 380,
   "metadata": {},
   "outputs": [
    {
     "data": {
      "text/plain": [
       "((8068, 24),\n",
       " Segmentation\n",
       " D    0.277967\n",
       " C    0.246359\n",
       " A    0.244964\n",
       " B    0.230710\n",
       " Name: proportion, dtype: float64)"
      ]
     },
     "execution_count": 380,
     "metadata": {},
     "output_type": "execute_result"
    }
   ],
   "source": [
    "train_inputs.shape, y_train.value_counts(normalize=True)"
   ]
  },
  {
   "cell_type": "code",
   "execution_count": 381,
   "metadata": {},
   "outputs": [
    {
     "data": {
      "text/plain": [
       "((7176, 24),\n",
       " Segmentation\n",
       " A    0.25\n",
       " D    0.25\n",
       " B    0.25\n",
       " C    0.25\n",
       " Name: proportion, dtype: float64)"
      ]
     },
     "execution_count": 381,
     "metadata": {},
     "output_type": "execute_result"
    }
   ],
   "source": [
    "smote_cat = SMOTENC(categorical_features=categorical_indices, random_state=42)\n",
    "X_train_smoteCAT, y_train_smoteCAT = smote_cat.fit_resample(X_train, y_train)\n",
    "X_train_smoteCAT.shape, y_train_smoteCAT.value_counts(normalize=True)"
   ]
  },
  {
   "cell_type": "code",
   "execution_count": 382,
   "metadata": {},
   "outputs": [
    {
     "data": {
      "text/plain": [
       "((5802, 24),\n",
       " Segmentation\n",
       " D    0.256291\n",
       " C    0.255946\n",
       " B    0.245088\n",
       " A    0.242675\n",
       " Name: proportion, dtype: float64)"
      ]
     },
     "execution_count": 382,
     "metadata": {},
     "output_type": "execute_result"
    }
   ],
   "source": [
    "smoteTom = SMOTETomek(random_state=42)  \n",
    "X_train_smoteTOM, y_train_smoteTOM = smoteTom.fit_resample(X_train, y_train)  \n",
    "X_train_smoteTOM.shape, y_train_smoteTOM.value_counts(normalize=True)"
   ]
  },
  {
   "cell_type": "code",
   "execution_count": 383,
   "metadata": {},
   "outputs": [
    {
     "data": {
      "text/plain": [
       "((7176, 3),\n",
       " Segmentation\n",
       " A    0.25\n",
       " D    0.25\n",
       " B    0.25\n",
       " C    0.25\n",
       " Name: proportion, dtype: float64)"
      ]
     },
     "execution_count": 383,
     "metadata": {},
     "output_type": "execute_result"
    }
   ],
   "source": [
    "smote_num = SMOTE(random_state=42)\n",
    "X_train_smoteNUM, y_train_smoteNUM = smote_num.fit_resample(X_train[col_numeric], y_train)\n",
    "X_train_smoteNUM.shape, y_train_smoteNUM.value_counts(normalize=True)"
   ]
  },
  {
   "cell_type": "markdown",
   "metadata": {},
   "source": [
    "# Conclusions 2\n",
    "\n",
    "- We consider the columns ['Spending_Score'] + encoded_cols as categorical and find their indices = from 3 to 23\n",
    "- The original distribution among classes is approximately equal, only category D stands out slightly in quantity\n",
    "  - D   = 0.28\n",
    "  - C   = 0.25\n",
    "  - A   = 0.24\n",
    "  - B   = 0.23\n",
    "\n",
    "- To use numerical and categorical data, we use SMOTENC, where we pass the indices of our columns SMOTENC(categorical_features=categorical_indices, random_state=42). Thus, all classes are now evenly distributed at 25%\n",
    "- Next, we similarly use SMOTETomek, because after SMOTE the algorithm additionally removes connections, the distribution of classes has changed slightly\n",
    "  - D    0.256\n",
    "  - C    0.256\n",
    "  - B    0.245\n",
    "  - A    0.243\n",
    "\n",
    "- Also, for an additional experiment, we will use SMOTE only on numerical columns, meaning that further training of the classifier will occur only on 3 columns for this case (X_train[col_numeric])"
   ]
  },
  {
   "cell_type": "markdown",
   "metadata": {
    "id": "ja4w_GgmT4D0"
   },
   "source": [
    "**Task 3**.\n",
    "  1. Train a logistic regression model using the One-vs-Rest strategy with logistic regression on the original data, balanced with SMOTE, and balanced with Smote-Tomek.  \n",
    "  2. Measure the quality of each trained model using `sklearn.metrics.classification_report`.\n",
    "  3. Write down which metric you chose for comparing the models.\n",
    "  4. Which model is the best?\n",
    "  5. If there is no significant difference between the models - write your hypothesis as to why?"
   ]
  },
  {
   "cell_type": "markdown",
   "metadata": {},
   "source": [
    "from sklearn.linear_model import LogisticRegression\n",
    "from sklearn.multiclass import OneVsRestClassifier\n",
    "from sklearn.metrics import classification_report"
   ]
  },
  {
   "cell_type": "code",
   "execution_count": 384,
   "metadata": {
    "id": "nxWVeRan5JBh"
   },
   "outputs": [],
   "source": [
    "def model_train_sample(X, y, validation):\n",
    "    log = LogisticRegression(random_state=42)\n",
    "    ovr = OneVsRestClassifier(log)\n",
    "    ovr.fit(X, y)\n",
    "    predict = ovr.predict(validation)\n",
    "    return predict\n",
    "\n",
    "# Original probabilities\n",
    "prob_original = model_train_sample(X_train, y_train, X_val)\n",
    "# Probabilities with SMOTE for categorical features\n",
    "prob_smoteCAT = model_train_sample(X_train_smoteCAT, y_train_smoteCAT, X_val)\n",
    "# Probabilities with SMOTE for TOM\n",
    "prob_smoteTOM = model_train_sample(X_train_smoteTOM, y_train_smoteTOM, X_val)\n",
    "# Probabilities with SMOTE for numerical features\n",
    "prob_smoteNUM = model_train_sample(X_train_smoteNUM, y_train_smoteNUM, X_val[col_numeric])"
   ]
  },
  {
   "cell_type": "code",
   "execution_count": 385,
   "metadata": {},
   "outputs": [
    {
     "name": "stdout",
     "output_type": "stream",
     "text": [
      "ORIGINAL REPORT\n",
      "              precision    recall  f1-score   support\n",
      "\n",
      "           A       0.41      0.47      0.44       391\n",
      "           B       0.43      0.12      0.18       369\n",
      "           C       0.46      0.65      0.54       380\n",
      "           D       0.65      0.71      0.68       474\n",
      "\n",
      "    accuracy                           0.50      1614\n",
      "   macro avg       0.49      0.49      0.46      1614\n",
      "weighted avg       0.50      0.50      0.47      1614\n",
      "\n"
     ]
    }
   ],
   "source": [
    "print(f'ORIGINAL REPORT\\n{classification_report(y_val, prob_original)}')"
   ]
  },
  {
   "cell_type": "code",
   "execution_count": 386,
   "metadata": {},
   "outputs": [
    {
     "name": "stdout",
     "output_type": "stream",
     "text": [
      "SMOTENC REPORT\n",
      "              precision    recall  f1-score   support\n",
      "\n",
      "           A       0.41      0.50      0.45       391\n",
      "           B       0.39      0.15      0.22       369\n",
      "           C       0.46      0.63      0.53       380\n",
      "           D       0.68      0.68      0.68       474\n",
      "\n",
      "    accuracy                           0.50      1614\n",
      "   macro avg       0.48      0.49      0.47      1614\n",
      "weighted avg       0.50      0.50      0.48      1614\n",
      "\n"
     ]
    }
   ],
   "source": [
    "print(f'SMOTENC REPORT\\n{classification_report(y_val, prob_smoteCAT)}')"
   ]
  },
  {
   "cell_type": "code",
   "execution_count": 387,
   "metadata": {},
   "outputs": [
    {
     "name": "stdout",
     "output_type": "stream",
     "text": [
      "SMOTE-TOMEK REPORT\n",
      "              precision    recall  f1-score   support\n",
      "\n",
      "           A       0.42      0.51      0.46       391\n",
      "           B       0.41      0.17      0.24       369\n",
      "           C       0.46      0.63      0.53       380\n",
      "           D       0.68      0.68      0.68       474\n",
      "\n",
      "    accuracy                           0.51      1614\n",
      "   macro avg       0.49      0.50      0.48      1614\n",
      "weighted avg       0.50      0.51      0.49      1614\n",
      "\n"
     ]
    }
   ],
   "source": [
    "print(f'SMOTE-TOMEK REPORT\\n{classification_report(y_val, prob_smoteTOM)}')"
   ]
  },
  {
   "cell_type": "code",
   "execution_count": 389,
   "metadata": {},
   "outputs": [
    {
     "name": "stdout",
     "output_type": "stream",
     "text": [
      "SMOTE NUMERICAL REPORT\n",
      "              precision    recall  f1-score   support\n",
      "\n",
      "           A       0.32      0.34      0.33       391\n",
      "           B       0.24      0.11      0.15       369\n",
      "           C       0.37      0.38      0.38       380\n",
      "           D       0.52      0.71      0.60       474\n",
      "\n",
      "    accuracy                           0.41      1614\n",
      "   macro avg       0.36      0.39      0.37      1614\n",
      "weighted avg       0.37      0.41      0.38      1614\n",
      "\n"
     ]
    }
   ],
   "source": [
    "print(f'SMOTE NUMERICAL REPORT\\n{classification_report(y_val, prob_smoteNUM)}')"
   ]
  },
  {
   "cell_type": "markdown",
   "metadata": {},
   "source": [
    "# Conclusions 3\n",
    "\n",
    "- We will train 4 classifiers: using the original data without balancing, SMOTENC, SMOTE-TOMEK, and SMOTE only with numerical columns\n",
    "\n",
    "|Method                 |  Macro Avg F1-Score|\n",
    "|-----------------------|-----|\n",
    "|Original               |  0.46 | \n",
    "|SMOTENC cat+num        | 0.47 | \n",
    "|SMOTE-TOMEK            | 0.48 | \n",
    "|SMOTE Numerical only   |  0.37 | \n",
    "\n",
    "\n",
    "- As the main metric, we will use *Macro Avg F1-Score*, as it is more informative than accuracy and provides a general representation of model precision, balancing between precision and recall.\n",
    "- Thus, SMOTE-TOMEK performed the best, handling classification for class *B = F1 = 0.24* better; this is the most \"problematic\" class, as all classifiers showed low performance for it. Meanwhile, SMOTENC is only 0.01 behind it. It can be said that both of these models performed well, although SMOTE-TOMEK has a slight advantage.\n",
    "\n",
    "- The model on the original data has a slightly lower accuracy of 0.46, but a much lower score for the local class B = 0.18. While all other classes have a local f1-score of at least above 0.44.\n",
    "- SMOTE only with numerical features showed the worst accuracy, which may indicate that categorical features in this dataset are of great importance. Therefore, it is advisable to use the entire dataset for analysis.\n",
    "\n",
    "`If there is no significant difference between the models - write your hypothesis, why?`\n",
    "- In my opinion, SMOTENC and SMOTE-TOMEK showed almost the same result because there were almost no Tomek links in the data, or they were arranged in such a way that after removing some points, the overall class distribution remained approximately the same, and this did not affect the construction of boundaries between classes.\n",
    "- Similarly, compared to the original dataset, it can be assumed that since the data were already distributed almost equally, their balancing did not lead to significant changes."
   ]
  },
  {
   "cell_type": "markdown",
   "metadata": {},
   "source": []
  }
 ],
 "metadata": {
  "colab": {
   "provenance": []
  },
  "kernelspec": {
   "display_name": "ml_course",
   "language": "python",
   "name": "python3"
  },
  "language_info": {
   "codemirror_mode": {
    "name": "ipython",
    "version": 3
   },
   "file_extension": ".py",
   "mimetype": "text/x-python",
   "name": "python",
   "nbconvert_exporter": "python",
   "pygments_lexer": "ipython3",
   "version": "3.12.7"
  }
 },
 "nbformat": 4,
 "nbformat_minor": 0
}
