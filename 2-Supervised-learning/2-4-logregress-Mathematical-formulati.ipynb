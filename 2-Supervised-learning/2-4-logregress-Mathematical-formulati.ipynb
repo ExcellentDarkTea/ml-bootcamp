{
  "cells": [
    {
      "cell_type": "markdown",
      "metadata": {
        "id": "KxRmdyv5CIZe"
      },
      "source": [
        "В цьому домашньому завданні ми реалізуємо логістичну регресію на `numpy`.\n",
        "Ці завдання допоможуть вам ґрунтовно засвоїти основні концепції логістичної регресії та реалізувати їх на практиці 🔥\n",
        "\n",
        "#### Завдання 1: Реалізація функції сигмоїди\n",
        "1. З використанням `numpy` напишіть функцію `sigmoid(z)` для обчислення значення сигмоїди згідно з формулою:\n",
        "   $$\n",
        "   \\sigma(z) = \\frac{1}{1 + e^{-z}}\n",
        "   $$\n",
        "2. Використовуючи цю функцію, обчисліть значення сигмоїди для наступних даних: $ z = [-2, -1, 0, 1, 2] $. Виведіть результат обчислень.\n"
      ]
    },
    {
      "cell_type": "code",
      "execution_count": 30,
      "metadata": {},
      "outputs": [],
      "source": [
        "import numpy as np"
      ]
    },
    {
      "cell_type": "code",
      "execution_count": 31,
      "metadata": {
        "id": "v9ilfXulL2wP"
      },
      "outputs": [
        {
          "name": "stdout",
          "output_type": "stream",
          "text": [
            "[0.11920292 0.26894142 0.5        0.73105858 0.88079708]\n"
          ]
        }
      ],
      "source": [
        "def sigmoid (z):\n",
        "    return 1/(1 + np.exp(-z))\n",
        "\n",
        "z = np.array([-2, -1, 0, 1, 2])\n",
        "sigma_z = sigmoid(z)\n",
        "print(sigma_z) \n"
      ]
    },
    {
      "cell_type": "markdown",
      "metadata": {
        "id": "LVd_jCGNCR1F"
      },
      "source": [
        "\n",
        "\n",
        "#### Завдання 2: Реалізація функції гіпотези для логістичної регресії\n",
        "1. Напишіть функцію `hypothesis(theta, X)`, яка обчислює гіпотезу для логістичної регресії, використовуючи функцію сигмоїди. Формула гіпотези:\n",
        "   $$\n",
        "   h_\\theta(x) = \\sigma(\\theta^T x) = \\frac{1}{1 + e^{-\\theta^T x}}\n",
        "   $$\n",
        "2. Використайте функцію `hypothesis` для обчислення значень гіпотези для наступних даних:\n",
        "   \n",
        "   $\\theta = [0.5, -0.5]$\n",
        "   \n",
        "   $X = \\begin{bmatrix} 1 & 2 \\\\ 1 & -1 \\\\ 1 & 0 \\\\ 1 & 1 \\end{bmatrix}$\n",
        "\n",
        "  Виведіть результат обчислень.\n"
      ]
    },
    {
      "cell_type": "code",
      "execution_count": 32,
      "metadata": {
        "id": "dKDHv-YtL3TA"
      },
      "outputs": [
        {
          "name": "stdout",
          "output_type": "stream",
          "text": [
            "Array of param [-0.5  1.   0.5  0. ]\n",
            "Final value: [0.37754067 0.73105858 0.62245933 0.5       ]\n"
          ]
        }
      ],
      "source": [
        "def hypothesis(theta, X):\n",
        "    return sigmoid(np.dot(theta, X.T))\n",
        "\n",
        "theta = np.array([0.5, -0.5])\n",
        "X = np.array([[1, 2], [1, -1],[1, 0],[1, 1]])\n",
        "\n",
        "value = hypothesis(theta, X)\n",
        "print(f'Array of param {np.dot(theta, X.T)}')\n",
        "print(f'Final value: {value}')"
      ]
    },
    {
      "cell_type": "markdown",
      "metadata": {
        "id": "MWASH4Z4ClTo"
      },
      "source": [
        "#### Завдання 3: Реалізація функції для підрахунку градієнтів фукнції втрат\n",
        "1. Напишіть функцію `compute_gradient(theta, X, y)`, яка обчислює градієнти функції втрат для логістичної регресії. Формула для обчислення градієнта:\n",
        "   $$\n",
        "   \\frac{\\partial L(\\theta)}{\\partial \\theta_j} = \\frac{1}{m} \\sum_{i=1}^{m} \\left[ (h_\\theta(x^{(i)}) - y^{(i)}) x_j^{(i)} \\right]\n",
        "   $$\n",
        "2. Використайте функцію `compute_gradient` для обчислення градієнтів для наступних даних:\n",
        "\n",
        "  $\\theta = [0.5, -0.5]$\n",
        "\n",
        "  $X = \\begin{bmatrix} 1 & 2 \\\\ 1 & -1 \\\\ 1 & 0 \\\\ 1 & 1 \\end{bmatrix}$\n",
        "\n",
        "  $y = [1, 0, 1, 0]$\n",
        "\n",
        "  Виведіть результат обчислень."
      ]
    },
    {
      "cell_type": "code",
      "execution_count": 33,
      "metadata": {
        "id": "0DM4xqZCL32i"
      },
      "outputs": [
        {
          "name": "stdout",
          "output_type": "stream",
          "text": [
            "Gradient: [ 0.05776464 -0.36899431]\n"
          ]
        }
      ],
      "source": [
        "def compute_gradient(theta, X, y):\n",
        "    subtract = hypothesis(theta, X) - y\n",
        "    multiple = np.dot(subtract, X)\n",
        "    # sum = np.sum(multiple)\n",
        "    # divide = sum / len(y)\n",
        "    divide = multiple / len(y)\n",
        "    return divide\n",
        "\n",
        "y = np.array([1, 0, 1, 0])  \n",
        "\n",
        "gradient = compute_gradient(theta, X, y)\n",
        "print(f'Gradient: {gradient}')"
      ]
    },
    {
      "cell_type": "markdown",
      "metadata": {
        "id": "nOtJEtdnC1K9"
      },
      "source": [
        "\n",
        "#### Завдання 4: Реалізація повного батч градієнтного спуску\n",
        "\n",
        "**Задача:**\n",
        "1. Напишіть функцію `full_batch_gradient_descent(X, y, lr=0.1, epochs=100)`, яка реалізує алгоритм Full градієнтного спуску для логістичної регресії. Використовуйте такі формули:\n",
        "   - Гіпотеза: $ h_\\theta(x) = \\sigma(\\theta^T x) $\n",
        "   - Оновлення параметрів: $ \\theta_j := \\theta_j - \\alpha \\frac{\\partial L(\\theta)}{\\partial \\theta_j} $\n",
        "2. Використайте функцію `full_batch_gradient_descent` для обчислення параметрів моделі на наступних даних:\n",
        "\n",
        "  $X = \\begin{bmatrix} 1 & 2 \\\\ 1 & -1 \\\\ 1 & 0 \\\\ 1 & 1 \\end{bmatrix}$\n",
        "\n",
        "  $y = [1, 0, 1, 0]$\n",
        "\n",
        "  Увага! Матриця $X$ вже має стовпець одиниць і передбачається, що це. - стовпець для intercept - параметра зсуву.\n",
        "\n",
        "  Виведіть результат обчислень.\n"
      ]
    },
    {
      "cell_type": "code",
      "execution_count": 34,
      "metadata": {
        "id": "fHtUOTxXL4Yy"
      },
      "outputs": [
        {
          "name": "stdout",
          "output_type": "stream",
          "text": [
            "theta: [-0.2893693   0.77655125]\n"
          ]
        }
      ],
      "source": [
        "\n",
        "def full_batch_gradient_descent(X, y, lr=0.1, epochs=100):\n",
        "    theta = np.zeros(X.shape[1]) # нульові параметри\n",
        "    m = len(y)\n",
        "    errors = [] \n",
        "    for _ in range(epochs):\n",
        "        gradient = compute_gradient(theta, X, y)\n",
        "        theta = theta - lr * gradient\n",
        "    return theta\n",
        "\n",
        "final_theta = full_batch_gradient_descent(X, y)\n",
        "print(f'theta: {final_theta}')"
      ]
    },
    {
      "cell_type": "markdown",
      "metadata": {
        "id": "E4iZV55cE5f3"
      },
      "source": [
        "#### Завдання 5. Обчислення точності моделі\n",
        "\n",
        "1. Напишіть функцію `predict_proba(theta, X)`, яка використовує знайдені параметри $\\theta$ для обчислення ймовірностей належності поточного прикладу з даних до класу $y=1$ на основі значень $\\sigma(\\theta^T x)$.\n",
        "\n",
        "2. Напишіть функцію `predict(theta, X, threshold=0.5)`, яка обчислює клас з передбаченої імовірності належності екземпляра до класу 1 з порогом 0.5. Тобто якщо ймовірність менше 0.5, то передбачаємо клас 0, інакше клас 1.\n",
        "\n",
        "3. Напишіть функцію `accuracy(y_true, y_pred)`, яка обчислює точність моделі, визначивши частку правильно передбачених класів.\n",
        "\n",
        "  Формула метрики Accuracy:\n",
        "  $$\n",
        "  \\text{Accuracy} = \\frac{\\sum_{i=1}^{m} I(\\hat{{y}^{(i)}} = y^{(i)})}{m}\n",
        "  $$\n",
        "\n",
        "  де $\\hat{{y}^{(i)}}$ - передбачене значення класу, $I$ - індикаторна функція (яка дорівнює 1, якщо умова виконується, і 0 - якщо ні), $m$ - кількість прикладів.\n",
        "\n",
        "4. Обчисліть з використанням даних в завданні 4 $X$, $y$ та обчислених коефіцієнтах $\\theta$ та виведіть на екран:\n",
        "  - передбачені моделлю імовірності належності кожного з екземплярів в матриці `X` до класу 1\n",
        "  - класи кожного екземпляра з матриці `X`\n",
        "  - точність моделі."
      ]
    },
    {
      "cell_type": "code",
      "execution_count": 35,
      "metadata": {},
      "outputs": [],
      "source": [
        "def predict_proba(theta, X):\n",
        "    y_probability = hypothesis(theta, X)\n",
        "    return y_probability\n",
        "\n",
        "def predict(theta, X, threshold=0.5):\n",
        "    array = (predict_proba(theta, X) >= threshold).astype(int)\n",
        "    return array\n",
        "\n",
        "def accuracy(y_true, y_pred):\n",
        "    sum = np.sum(y_true == y_pred)\n",
        "    accuracy = sum / len(y_true)\n",
        "    return accuracy\n"
      ]
    },
    {
      "cell_type": "code",
      "execution_count": 36,
      "metadata": {
        "id": "85ZZfPtjrsai"
      },
      "outputs": [
        {
          "name": "stdout",
          "output_type": "stream",
          "text": [
            "Prob of values 1: [0.77966809 0.25617965 0.42815828 0.61944235]\n",
            "Predicted values: [1 0 0 1]\n",
            "Ground truth:  [1 0 1 0]\n",
            "Accuracy: 0.5\n"
          ]
        }
      ],
      "source": [
        "y_prob = predict_proba(final_theta, X)\n",
        "print(f'Prob of values 1: {y_prob}')\n",
        "\n",
        "y_pred = predict(final_theta, X)\n",
        "print(f'Predicted values: {y_pred}')\n",
        "print('Ground truth: ', y)\n",
        "\n",
        "acc = accuracy(y, y_pred)\n",
        "print(f'Accuracy: {acc}')\n"
      ]
    },
    {
      "cell_type": "code",
      "execution_count": 37,
      "metadata": {},
      "outputs": [],
      "source": [
        "import matplotlib.pyplot as plt"
      ]
    },
    {
      "cell_type": "code",
      "execution_count": 38,
      "metadata": {},
      "outputs": [
        {
          "data": {
            "text/plain": [
              "[<matplotlib.lines.Line2D at 0x2830d623590>]"
            ]
          },
          "execution_count": 38,
          "metadata": {},
          "output_type": "execute_result"
        },
        {
          "data": {
            "image/png": "[encoded data removed]",
            "text/plain": [
              "<Figure size 640x480 with 1 Axes>"
            ]
          },
          "metadata": {},
          "output_type": "display_data"
        }
      ],
      "source": [
        "plt.scatter(X[:, 1], y, c=y_pred, cmap='coolwarm')\n",
        "x_values = np.linspace(-2, 3, 10)\n",
        "y_values = 1 / (1 + np.exp(-(final_theta[0] + final_theta[1] * x_values)))\n",
        "plt.plot(x_values, y_values)"
      ]
    },
    {
      "cell_type": "markdown",
      "metadata": {},
      "source": [
        "# Висновок\n",
        "\n",
        "- На даному прикладі наша точність 50%, бо як видно з малюнку нижче - неможливо розділити точки на два класи без (якщо поміняти для них лейбли - то вони гарно розділяються)\n",
        "- при тому модна бачити що для крайніх точок ймовірність *0.77966809*, *0.25617965* дуже наближена до їх справжніх лейблів 1 та 0 відповідно.\n",
        "- Тоді як ймовірність для сердинних точок *0.42815828*, *0.61944235* знаходиться на грані з 50% і їх складно відділити \n",
        "\n"
      ]
    },
    {
      "cell_type": "code",
      "execution_count": null,
      "metadata": {},
      "outputs": [
        {
          "name": "stdout",
          "output_type": "stream",
          "text": [
            "Prob of values 1: [0.77966809 0.25617965 0.42815828 0.61944235]\n",
            "Predicted values: [1 0 0 1]\n",
            "Ground truth:  [1 0 0 1]\n",
            "Accuracy: 1.0\n"
          ]
        },
        {
          "data": {
            "text/plain": [
              "[<matplotlib.lines.Line2D at 0x2830be64950>]"
            ]
          },
          "execution_count": 40,
          "metadata": {},
          "output_type": "execute_result"
        },
        {
          "data": {
            "image/png": "[encoded data removed]",
            "text/plain": [
              "<Figure size 640x480 with 1 Axes>"
            ]
          },
          "metadata": {},
          "output_type": "display_data"
        }
      ],
      "source": [
        "# РОзрахунки для інших лейблів\n",
        "y = np.array([1, 0, 0, 1])  \n",
        "y_prob = predict_proba(final_theta, X)\n",
        "print(f'Prob of values 1: {y_prob}')\n",
        "\n",
        "y_pred = predict(final_theta, X)\n",
        "print(f'Predicted values: {y_pred}')\n",
        "print('Ground truth: ', y)\n",
        "\n",
        "acc = accuracy(y, y_pred)\n",
        "print(f'Accuracy: {acc}')\n",
        "plt.scatter(X[:, 1], y, c=y_pred, cmap='coolwarm')\n",
        "# plt.scatter(X[:, 1], y_prob, c=y_pred, cmap='coolwarm')\n",
        "\n",
        "x_values = np.linspace(-2, 3, 10)\n",
        "y_values = 1 / (1 + np.exp(-(final_theta[0] + final_theta[1] * x_values)))\n",
        "plt.plot(x_values, y_values)"
      ]
    },
    {
      "cell_type": "code",
      "execution_count": null,
      "metadata": {},
      "outputs": [],
      "source": []
    }
  ],
  "metadata": {
    "colab": {
      "provenance": []
    },
    "kernelspec": {
      "display_name": "ml_course",
      "language": "python",
      "name": "python3"
    },
    "language_info": {
      "codemirror_mode": {
        "name": "ipython",
        "version": 3
      },
      "file_extension": ".py",
      "mimetype": "text/x-python",
      "name": "python",
      "nbconvert_exporter": "python",
      "pygments_lexer": "ipython3",
      "version": "3.12.7"
    }
  },
  "nbformat": 4,
  "nbformat_minor": 0
}
