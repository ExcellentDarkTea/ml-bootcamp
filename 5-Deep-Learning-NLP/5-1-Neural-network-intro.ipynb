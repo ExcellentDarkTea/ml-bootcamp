{
 "cells": [
  {
   "cell_type": "markdown",
   "metadata": {
    "id": "lbLHTNfSclli"
   },
   "source": [
    "**Section 1. Logistic Regression from Scratch.**\n",
    "\n",
    "We will build a logistic regression model from scratch step by step to predict whether the harvest will exceed 80 apples (the task is similar to the lecture, but for classification).\n",
    "\n",
    "Let's recall the basic formulas for logistic regression.\n",
    "\n",
    "### Hypothesis Function - Calculating Predictions in Logistic Regression:\n",
    "\n",
    "$$\n",
    "\\hat{y} = \\sigma(x W^T + b) = \\frac{1}{1 + e^{-(x W^T + b)}}\n",
    "$$\n",
    "\n",
    "Where:\n",
    "- $ \\hat{y} $ — is the probability of the \"positive\" class.\n",
    "- $ x $ — is a vector (or matrix for a dataset) of input data.\n",
    "- $ W $ — is a vector (or matrix) of model weights.\n",
    "- $ b $ — is the bias.\n",
    "- $ \\sigma(z) $ — is the sigmoid activation function.\n",
    "\n",
    "### How the Sigmoid Function is Calculated:\n",
    "\n",
    "The sigmoid function $ \\sigma(z) $ is given by:\n",
    "\n",
    "$$\n",
    "\\sigma(z) = \\frac{1}{1 + e^{-z}}\n",
    "$$\n",
    "\n",
    "This function transforms any real value $ z $ into the interval from 0 to 1, allowing the output to be interpreted as a probability for logistic regression.\n",
    "\n",
    "### Loss Function Formula for Logistic Regression (Binary Cross-Entropy):\n",
    "\n",
    "The cross-entropy loss function evaluates how well the model predicts classes by comparing the predicted probabilities $ \\hat{y} $ with the true labels $ y $. The formula is as follows:\n",
    "\n",
    "$$\n",
    "L(y, \\hat{y}) = - \\left[ y \\cdot \\log(\\hat{y}) + (1 - y) \\cdot \\log(1 - \\hat{y}) \\right]\n",
    "$$\n",
    "\n",
    "Where:\n",
    "- $ y $ — is the true value (class label, 0 or 1).\n",
    "- $ \\hat{y} $ — is the predicted value (probability)."
   ]
  },
  {
   "cell_type": "markdown",
   "metadata": {
    "id": "GtOYB-RHfc_r"
   },
   "source": [
    "1.\n",
    "Here is the code to initialize the dataset in numpy format. Convert `inputs`, `targets` to `torch` tensors. Print the result to the screen."
   ]
  },
  {
   "cell_type": "code",
   "execution_count": null,
   "metadata": {
    "id": "3BNXSR-VdYKQ"
   },
   "outputs": [],
   "source": [
    "import torch\n",
    "import numpy as np"
   ]
  },
  {
   "cell_type": "code",
   "execution_count": null,
   "metadata": {
    "id": "QLKZ77x4v_-v"
   },
   "outputs": [
    {
     "name": "stdout",
     "output_type": "stream",
     "text": [
      "tensor([[ 73.,  67.,  43.],\n",
      "        [ 91.,  88.,  64.],\n",
      "        [ 87., 134.,  58.],\n",
      "        [102.,  43.,  37.],\n",
      "        [ 69.,  96.,  70.]])\n",
      "tensor([[0.],\n",
      "        [1.],\n",
      "        [1.],\n",
      "        [0.],\n",
      "        [1.]])\n"
     ]
    }
   ],
   "source": [
    "# Input data (temp, rainfall, humidity)\n",
    "inputs = np.array([[73, 67, 43],\n",
    "                   [91, 88, 64],\n",
    "                   [87, 134, 58],\n",
    "                   [102, 43, 37],\n",
    "                   [69, 96, 70]], dtype='float32')\n",
    "\n",
    "# Targets (apples > 80)\n",
    "targets = np.array([[0],\n",
    "                    [1],\n",
    "                    [1],\n",
    "                    [0],\n",
    "                    [1]], dtype='float32')\n",
    "\n",
    "inputs = torch.from_numpy(inputs)\n",
    "targets = torch.from_numpy(targets)\n",
    "print(inputs)\n",
    "print(targets)"
   ]
  },
  {
   "cell_type": "markdown",
   "metadata": {
    "id": "iKzbJKfOgGV8"
   },
   "source": [
    "2. Initialize the weights `w`, `b` for the logistic regression model in the required shape using random values from a normal distribution based on the dimensions of the data. I'm leaving the code here to fix the `random_seed`."
   ]
  },
  {
   "cell_type": "code",
   "execution_count": 381,
   "metadata": {
    "id": "aXhKw6Tdj1-d"
   },
   "outputs": [
    {
     "data": {
      "text/plain": [
       "(torch.Size([5, 3]), torch.Size([5, 1]))"
      ]
     },
     "execution_count": 381,
     "metadata": {},
     "output_type": "execute_result"
    }
   ],
   "source": [
    "inputs.shape, targets.shape"
   ]
  },
  {
   "cell_type": "code",
   "execution_count": 382,
   "metadata": {},
   "outputs": [
    {
     "data": {
      "text/plain": [
       "torch.Size([5, 3])"
      ]
     },
     "execution_count": 382,
     "metadata": {},
     "output_type": "execute_result"
    }
   ],
   "source": [
    "inputs.shape"
   ]
  },
  {
   "cell_type": "code",
   "execution_count": 383,
   "metadata": {
    "id": "eApcB7eb6h9o"
   },
   "outputs": [
    {
     "name": "stdout",
     "output_type": "stream",
     "text": [
      "W: tensor([[0.6614],\n",
      "        [0.2669],\n",
      "        [0.0617]], requires_grad=True)\n",
      "b: tensor([0.6213], requires_grad=True)\n"
     ]
    }
   ],
   "source": [
    "# x * W + b -> [5, 3] * [3, 1] + [1] -> [5, 1]\n",
    "torch.random.manual_seed(1)\n",
    "w = torch.randn(3, 1, requires_grad=True)\n",
    "b = torch.randn(1, requires_grad=True)\n",
    "print(f'W: {w}')\n",
    "print(f'b: {b}')"
   ]
  },
  {
   "cell_type": "markdown",
   "metadata": {},
   "source": [
    "# Conclusions 2\n",
    "- The dimension of the input matrix **X** = (5,3), and we need to obtain (5, 1) at the output - one column that has 5 rows corresponding to each input element.\n",
    "- Thus, the matrix **w** needs to be (3,1) to allow for multiplication without issues. Meanwhile, **b** will be just 1 element."
   ]
  },
  {
   "cell_type": "markdown",
   "metadata": {
    "id": "nYGxNGTaf5s6"
   },
   "source": [
    "3. Write a function `model` that will compute the hypothesis function in logistic regression and allow making predictions based on the input data string and the coefficients in the variables `w`, `b`.\n",
    "\n",
    "  **Important point**, the function `model` performs calculations on `torch.tensors`, so for mathematical computations we use the `torch` functionality, for example:\n",
    "  - calculating $e^x$: `torch.exp(x)`\n",
    "  - calculating $log(x)$: `torch.log(x)`\n",
    "  - calculating the mean of vector `x`: `torch.mean(x)`\n",
    "\n",
    "  Use the `model` function to compute predictions with the current values of `w`, `b`. Print the results of the calculations on the screen.\n",
    "\n",
    "  Analyze the predictions. Do they raise any suspicions for you? And if they do, what could be the reason for that?"
   ]
  },
  {
   "cell_type": "code",
   "execution_count": null,
   "metadata": {},
   "outputs": [],
   "source": [
    "def model(x, w, b):\n",
    "    # Calculate the sigmoid activation\n",
    "    sigmoid = 1 / (1 + torch.exp(-(x @ w + b)))\n",
    "    return sigmoid"
   ]
  },
  {
   "cell_type": "code",
   "execution_count": 385,
   "metadata": {},
   "outputs": [
    {
     "data": {
      "text/plain": [
       "tensor([[1.],\n",
       "        [1.],\n",
       "        [1.],\n",
       "        [1.],\n",
       "        [1.]], grad_fn=<MulBackward0>)"
      ]
     },
     "execution_count": 385,
     "metadata": {},
     "output_type": "execute_result"
    }
   ],
   "source": [
    "preds = model(inputs, w, b) \n",
    "preds"
   ]
  },
  {
   "cell_type": "code",
   "execution_count": 386,
   "metadata": {},
   "outputs": [
    {
     "data": {
      "text/plain": [
       "(tensor([[1.],\n",
       "         [1.],\n",
       "         [1.],\n",
       "         [1.],\n",
       "         [1.]], grad_fn=<MulBackward0>),\n",
       " tensor([[0.],\n",
       "         [1.],\n",
       "         [1.],\n",
       "         [0.],\n",
       "         [1.]]))"
      ]
     },
     "execution_count": 386,
     "metadata": {},
     "output_type": "execute_result"
    }
   ],
   "source": [
    "preds, targets"
   ]
  },
  {
   "cell_type": "markdown",
   "metadata": {},
   "source": [
    "# Conclusions 3\n",
    "- After calculating the sigmoid, all elements have a probability of 1. This raises a question, as the sigmoid should return a probability between 0 and 1.\n",
    "- It seems that at this stage the curvature of the sigmoid is very suboptimal; it may be too shifted to the side or have a very steep slope (looking like a unit step function with an instantaneous transition from 0 to 1)."
   ]
  },
  {
   "cell_type": "markdown",
   "metadata": {
    "id": "O2AGM0Mb2yHa"
   },
   "source": [
    "4. Write a function `binary_cross_entropy` that takes as input the model predictions `predicted_probs` and the true labels in the data `true_labels` and calculates the loss value using the binary cross-entropy formula for each instance and returns the average loss across the entire dataset.  \n",
    "Use the `binary_cross_entropy` function to calculate the loss for the current model predictions."
   ]
  },
  {
   "cell_type": "code",
   "execution_count": null,
   "metadata": {
    "id": "1bWlovvx6kZS"
   },
   "outputs": [],
   "source": [
    "def binary_cross_entropy(y_pred, y_true):\n",
    "    y_pred = y_pred.clamp(min=1e-7, max=1-1e-7) # avoid log(0)\n",
    "    L = y_true*torch.log(y_pred) + (1 - y_true)*torch.log(1 - y_pred)\n",
    "    return torch.mean(-L)"
   ]
  },
  {
   "cell_type": "code",
   "execution_count": 388,
   "metadata": {},
   "outputs": [
    {
     "data": {
      "text/plain": [
       "tensor(6.3770, grad_fn=<MeanBackward0>)"
      ]
     },
     "execution_count": 388,
     "metadata": {},
     "output_type": "execute_result"
    }
   ],
   "source": [
    "loss = binary_cross_entropy(preds, targets)\n",
    "loss"
   ]
  },
  {
   "cell_type": "markdown",
   "metadata": {
    "id": "ZFKpQxdHi1__"
   },
   "source": [
    "5. Perform backpropagation and output the gradients for the parameters `w`, `b`. Analyze their values. What do you think is the reason for their specific values?"
   ]
  },
  {
   "cell_type": "code",
   "execution_count": 389,
   "metadata": {
    "id": "YAbXUNSJ6mCl"
   },
   "outputs": [
    {
     "data": {
      "text/plain": [
       "(tensor([[0.],\n",
       "         [0.],\n",
       "         [0.]]),\n",
       " tensor([0.]))"
      ]
     },
     "execution_count": 389,
     "metadata": {},
     "output_type": "execute_result"
    }
   ],
   "source": [
    "loss.backward()  \n",
    "w.grad, b.grad  "
   ]
  },
  {
   "cell_type": "markdown",
   "metadata": {},
   "source": [
    "# Conclusions 5\n",
    "- For the loss function, we had to add additional conditions `y_pred.clamp(min=1e-7, max=1-1e-7)` to make the calculations possible, otherwise, it would attempt to find the logarithm of 0.\n",
    "- The fact that we obtained zero gradients (or they are not zero but very small) may somehow be related to the properties of the logarithm, where the argument approaching 0 leads to the logarithm value approaching negative infinity. Since logistic regression is sensitive to the scales of the data, this may affect the difficulty in calculating the gradients."
   ]
  },
  {
   "cell_type": "markdown",
   "metadata": {
    "id": "nDN1t1RujQsK"
   },
   "source": [
    "**What happened?**\n",
    "\n",
    "In this task, when we initialized the values with random values from a normal distribution, those values were not very good starting points and led to the gradients becoming very small or even equal to zero (this leads to the gradients \"vanishing\"), and accordingly, when updating the weights, we would have nothing changing. This is called `gradient vanishing`. This occurs due to **saturation of the sigmoid activation function.**\n",
    "\n",
    "In our task, we use the sigmoid activation function, which has the following form:\n",
    "\n",
    "   $$\n",
    "   \\sigma(z) = \\frac{1}{1 + e^{-z}}\n",
    "   $$\n",
    "\n",
    "When the value of $z$ is very large or very small, the sigmoid function starts to \"saturate.\" This means that for large positive $z$, the sigmoid approaches 1, and for large negative $z$, it approaches 0. In these ranges, the gradients begin to decrease rapidly and approach zero (since the gradient is the derivative, the derivative over an interval of the function where it is parallel to the X-axis is equal to 0), making weight updates impossible.\n",
    "\n",
    "![](https://editor.analyticsvidhya.com/uploads/27889vaegp.png)\n",
    "\n",
    "In logistic regression, $ z = x \\cdot w + b $. If the weights $w, b$ are large, the value of $z$ will also be large, and the sigmoid will enter the saturated region where the gradients are very small.\n",
    "\n",
    "This is exactly what happened in our task, where large random weight values caused the saturation of the sigmoid function. This, in turn, leads to the model updating the weights very slowly or not at all during backpropagation. This is called the **gradient vanishing problem**.\n",
    "\n",
    "**What to do?**\n",
    "Initialize the weights with small values around zero. For example, we can simply divide the existing initialization weights by 1000. Another method of weight initialization can also be used - information about this can be found [here](https://www.geeksforgeeks.org/initialize-weights-in-pytorch/).\n",
    "\n",
    "How to do this - I will show below. **Run the code and recalculate the predictions, loss, and output the gradients.**\n",
    "\n",
    "And I will explain why we can't just do\n",
    "\n",
    "```\n",
    "w = torch.randn(1, 3, requires_grad=True)/1000\n",
    "b = torch.randn(1, requires_grad=True)/1000\n",
    "```\n",
    "\n",
    "We need the weight tensors to be leaf tensors.\n",
    "\n",
    "1. **What is a leaf tensor?**\n",
    "A leaf tensor is a tensor that was created by the user directly and from which the computational graph starts. If such a tensor has `requires_grad=True`, PyTorch will track all operations performed on it to correctly compute gradients during training.\n",
    "\n",
    "2. **Why do we use `w.data` instead of regular operations?**\n",
    "If we simply performed operations like `(w - 0.5) / 100`, we would get a **new tensor** that would no longer be a leaf tensor, as these operations create a **new** tensor rather than modifying the existing one.\n",
    "\n",
    "  However, to keep our weight tensor `w` and bias `b` as leaf tensors and maintain the ability to track gradients during training, we use the `.data` attribute. This attribute allows us to **perform in-place operations (directly on the existing tensor)** without changing the tensor object itself. Thus, the tensor remains a leaf tensor, and PyTorch can correctly compute its gradients.\n",
    "\n",
    "3. **Why is it important to keep the tensor as a leaf?**\n",
    "If the tensor is no longer a leaf (for example, due to operations that create new tensors), you will not be able to obtain gradients using `w.grad` or `b.grad` after calling `loss.backward()`. This can lead to the loss of the ability to update parameters during model training. In our case, we want the tensors `w` and `b` to accumulate gradients, so they must remain leaf tensors.\n",
    "\n",
    "**Conclusion:**\n",
    "We use `.data` to perform value-changing operations on weights and biases **in-place**, keeping them as leaf tensors that can accumulate gradients during training. This allows the backpropagation mechanism to work correctly and update the model weights."
   ]
  },
  {
   "cell_type": "markdown",
   "metadata": {
    "id": "rOPSQyttpVjO"
   },
   "source": [
    "5. Execute the code and recalculate the predictions, loss, and find the gradients, then display all these tensors on the screen."
   ]
  },
  {
   "cell_type": "code",
   "execution_count": 390,
   "metadata": {
    "id": "-EBOJ3tsnRaD"
   },
   "outputs": [],
   "source": [
    "torch.random.manual_seed(1)\n",
    "w = torch.randn(3, 1, requires_grad=True)  # Leaf tensor w = torch.randn(1, 3, requires_grad=True) \n",
    "b = torch.randn(1, requires_grad=True)     # Leaf tensor\n",
    "\n",
    "# in-place operations\n",
    "w.data = w.data / 1000\n",
    "b.data = b.data / 1000"
   ]
  },
  {
   "cell_type": "code",
   "execution_count": 391,
   "metadata": {},
   "outputs": [
    {
     "data": {
      "text/plain": [
       "(tensor([[6.6135e-04],\n",
       "         [2.6692e-04],\n",
       "         [6.1677e-05]], requires_grad=True),\n",
       " tensor([0.0006], requires_grad=True))"
      ]
     },
     "execution_count": 391,
     "metadata": {},
     "output_type": "execute_result"
    }
   ],
   "source": [
    "w, b"
   ]
  },
  {
   "cell_type": "code",
   "execution_count": 392,
   "metadata": {
    "id": "-JwXiSpX6orh"
   },
   "outputs": [
    {
     "name": "stdout",
     "output_type": "stream",
     "text": [
      "tensor([[0.5174],\n",
      "        [0.5220],\n",
      "        [0.5244],\n",
      "        [0.5204],\n",
      "        [0.5190]], grad_fn=<MulBackward0>)\n",
      "tensor(0.6829, grad_fn=<MeanBackward0>)\n"
     ]
    }
   ],
   "source": [
    "preds_2 = model(inputs, w, b)\n",
    "print(preds_2)\n",
    "\n",
    "loss_2 = binary_cross_entropy(preds_2, targets)\n",
    "print(loss_2)"
   ]
  },
  {
   "cell_type": "code",
   "execution_count": 393,
   "metadata": {},
   "outputs": [
    {
     "data": {
      "text/plain": [
       "(tensor([[ -5.4417],\n",
       "         [-18.9853],\n",
       "         [-10.0682]]),\n",
       " tensor([-0.0794]))"
      ]
     },
     "execution_count": 393,
     "metadata": {},
     "output_type": "execute_result"
    }
   ],
   "source": [
    "loss_2.backward() \n",
    "w.grad, b.grad"
   ]
  },
  {
   "cell_type": "markdown",
   "metadata": {},
   "source": [
    "# Conclusions 5.\n",
    "- After scaling the parameters, we were able to obtain predictions in probability values and now the gradients are calculated correctly."
   ]
  },
  {
   "cell_type": "markdown",
   "metadata": {
    "id": "RCdi44IT334o"
   },
   "source": [
    "6. Write a gradient descent algorithm that will train the model using the previously written functions and perform weight updates. The algorithm should include the following steps:\n",
    "\n",
    "    1. Generate predictions\n",
    "    2. Calculate losses\n",
    "    3. Compute gradients of the loss function with respect to weights and biases\n",
    "    4. Adjust weights by subtracting a small amount proportional to the gradient (`learning_rate` multiplied by the gradient)\n",
    "    5. Reset gradients to zero\n",
    "\n",
    "Perform gradient descent for 1000 epochs, compute the final predictions, and analyze whether they are accurate?"
   ]
  },
  {
   "cell_type": "code",
   "execution_count": null,
   "metadata": {
    "id": "mObHPyE06qsO"
   },
   "outputs": [],
   "source": [
    "def gradient(w, b, X, y, learning_rate = 0.001, epoch = 1000):\n",
    "    for i in range (epoch):\n",
    "        preds = model(X, w, b)\n",
    "        loss = binary_cross_entropy(preds, y)\n",
    "        loss.backward()\n",
    "        with torch.no_grad():\n",
    "            w -= w.grad * learning_rate\n",
    "            b -= b.grad * learning_rate\n",
    "\n",
    "            w.grad.zero_()\n",
    "            b.grad.zero_()\n",
    "\n",
    "        if (i % 100 == 0):   \n",
    "            print(f'epoch {i}: loss = {loss}')  \n",
    "\n",
    "    print(f'epoch {i}: loss = {loss}') # last epoch loss\n",
    "    return w, b  "
   ]
  },
  {
   "cell_type": "code",
   "execution_count": 395,
   "metadata": {},
   "outputs": [
    {
     "name": "stdout",
     "output_type": "stream",
     "text": [
      "epoch 0: loss = 0.6829456686973572\n",
      "epoch 100: loss = 0.19763095676898956\n",
      "epoch 200: loss = 0.1621902883052826\n",
      "epoch 300: loss = 0.13796372711658478\n",
      "epoch 400: loss = 0.11963769048452377\n",
      "epoch 500: loss = 0.10523238033056259\n",
      "epoch 600: loss = 0.09364277869462967\n",
      "epoch 700: loss = 0.08415229618549347\n",
      "epoch 800: loss = 0.076265349984169\n",
      "epoch 900: loss = 0.06962650269269943\n",
      "epoch 999: loss = 0.06402741372585297\n"
     ]
    }
   ],
   "source": [
    "w_final, b_final = gradient(w, b, inputs, targets, learning_rate = 0.001, epoch = 1000)  # Final weights and bias after training"
   ]
  },
  {
   "cell_type": "code",
   "execution_count": 396,
   "metadata": {},
   "outputs": [
    {
     "name": "stdout",
     "output_type": "stream",
     "text": [
      "Output: \n",
      "tensor([[1.6794e-01],\n",
      "        [8.7485e-01],\n",
      "        [9.9769e-01],\n",
      "        [2.3414e-07],\n",
      "        [9.9999e-01]], grad_fn=<MulBackward0>)\n",
      "\n",
      "Rounded output: \n",
      "tensor([[0.],\n",
      "        [1.],\n",
      "        [1.],\n",
      "        [0.],\n",
      "        [1.]], grad_fn=<RoundBackward0>)\n",
      "\n",
      "Target: \n",
      "tensor([[0.],\n",
      "        [1.],\n",
      "        [1.],\n",
      "        [0.],\n",
      "        [1.]])\n",
      "\n",
      "accuracy = 1.0\n"
     ]
    }
   ],
   "source": [
    "preds_final = model(inputs, w_final, b_final)\n",
    "print(f'Output: \\n{preds_final}\\n')\n",
    "preds_round = preds_final.round()\n",
    "print(f'Rounded output: \\n{preds_round}\\n')\n",
    "print(f'Target: \\n{targets}\\n')\n",
    "\n",
    "accuracy = (preds_round == targets).float().mean()  \n",
    "print(f'accuracy = {accuracy}')"
   ]
  },
  {
   "cell_type": "markdown",
   "metadata": {},
   "source": [
    "# Conclusions 6\n",
    "- After 1000 epochs, we managed to train an accurate classifier. All values were predicted correctly. The probability values for each record are quite unambiguous (close to 0 or 1), and there are no values around 0.5 when the classifier is \"unsure\" about the predictions.\n",
    "- The loss function reached a value of 0.064, compared to 0.683 at the beginning. From the loss history, it is clear that the classifier made good progress in training with each epoch."
   ]
  },
  {
   "cell_type": "markdown",
   "metadata": {
    "id": "fuRhlyF9qAia"
   },
   "source": [
    "**Section 2. Creating logistic regression using the `torch.nn` functionality.**\n",
    "\n",
    "Let's re-implement the same model using some built-in functions and classes from PyTorch.\n",
    "\n",
    "We will have more data - so, let's define new arrays."
   ]
  },
  {
   "cell_type": "code",
   "execution_count": null,
   "metadata": {
    "id": "IX8Bhm74rV4M"
   },
   "outputs": [],
   "source": [
    "# Input data (temp, rainfall, humidity)\n",
    "inputs = np.array([[73, 67, 43],\n",
    "                   [91, 88, 64],\n",
    "                   [87, 134, 58],\n",
    "                   [102, 43, 37],\n",
    "                   [69, 96, 70],\n",
    "                   [73, 67, 43],\n",
    "                   [91, 88, 64],\n",
    "                   [87, 134, 58],\n",
    "                   [102, 43, 37],\n",
    "                   [69, 96, 70],\n",
    "                   [73, 67, 43],\n",
    "                   [91, 88, 64],\n",
    "                   [87, 134, 58],\n",
    "                   [102, 43, 37],\n",
    "                   [69, 96, 70]], dtype='float32')\n",
    "\n",
    "# Targets (apples > 80)\n",
    "targets = np.array([[0],\n",
    "                    [1],\n",
    "                    [1],\n",
    "                    [0],\n",
    "                    [1],\n",
    "                    [0],\n",
    "                    [1],\n",
    "                    [1],\n",
    "                    [0],\n",
    "                    [1],\n",
    "                    [0],\n",
    "                    [1],\n",
    "                    [1],\n",
    "                    [0],\n",
    "                    [1]], dtype='float32')"
   ]
  },
  {
   "cell_type": "markdown",
   "metadata": {
    "id": "7X2dV30KtAPu"
   },
   "source": [
    "7. Load the input data and labels into PyTorch tensors and create a dataset that combines the input data with the labels using the `TensorDataset` class. Display the first 3 elements in the dataset."
   ]
  },
  {
   "cell_type": "code",
   "execution_count": 398,
   "metadata": {
    "id": "chrvMfBs6vjo"
   },
   "outputs": [
    {
     "name": "stdout",
     "output_type": "stream",
     "text": [
      "torch.Size([15, 3]) torch.Size([15, 1])\n"
     ]
    },
    {
     "data": {
      "text/plain": [
       "(tensor([[ 73.,  67.,  43.],\n",
       "         [ 91.,  88.,  64.],\n",
       "         [ 87., 134.,  58.]]),\n",
       " tensor([[0.],\n",
       "         [1.],\n",
       "         [1.]]))"
      ]
     },
     "execution_count": 398,
     "metadata": {},
     "output_type": "execute_result"
    }
   ],
   "source": [
    "import torch.nn as nn   \n",
    "from torch.utils.data import DataLoader, TensorDataset\n",
    "import torch.nn.functional as F\n",
    "\n",
    "inputs = torch.from_numpy(inputs)\n",
    "targets = torch.from_numpy(targets)\n",
    "print(inputs.shape, targets.shape)\n",
    "\n",
    "train_ds = TensorDataset(inputs, targets)\n",
    "train_ds[0:3]"
   ]
  },
  {
   "cell_type": "markdown",
   "metadata": {
    "id": "4nMFaa8suOd3"
   },
   "source": [
    "8. Define a data loader with the class **DataLoader** for the prepared dataset `train_ds`, set the batch size to 5, and enable shuffling of the data for effective model training. Output the first element in the data loader."
   ]
  },
  {
   "cell_type": "code",
   "execution_count": 399,
   "metadata": {
    "id": "ZCsRo5Mx6wEI"
   },
   "outputs": [
    {
     "data": {
      "text/plain": [
       "[tensor([[ 69.,  96.,  70.],\n",
       "         [ 91.,  88.,  64.],\n",
       "         [ 69.,  96.,  70.],\n",
       "         [ 87., 134.,  58.],\n",
       "         [ 73.,  67.,  43.]]),\n",
       " tensor([[1.],\n",
       "         [1.],\n",
       "         [1.],\n",
       "         [1.],\n",
       "         [0.]])]"
      ]
     },
     "execution_count": 399,
     "metadata": {},
     "output_type": "execute_result"
    }
   ],
   "source": [
    "batch_size = 5\n",
    "torch.random.manual_seed(1)\n",
    "\n",
    "train_dl = DataLoader(train_ds, batch_size, shuffle=True)  # Create a data loader for the training dataset\n",
    "next(iter(train_dl))  # Get the next batch from the data loader"
   ]
  },
  {
   "cell_type": "markdown",
   "metadata": {
    "id": "ymcQOo_hum6I"
   },
   "source": [
    "9. Create a class `LogReg` for logistic regression, inheriting from the `torch.nn.Module` as shown in the lecture (in the part about FeedForward networks).\n",
    "\n",
    "  Our model consists of a linear combination of input values and the application of the sigmoid function. Therefore, the neural network will consist of a linear layer `nn.Linear` and the use of the activation `nn.Sigmoid`. The created class should implement the `__init__` method for initializing the layers and the `forward` method for performing the forward pass of the model through the linear layer and the activation function.\n",
    "\n",
    "  Create an instance of the `LogReg` class in the variable `model`."
   ]
  },
  {
   "cell_type": "code",
   "execution_count": 400,
   "metadata": {
    "id": "EyAwhTBW6xxz"
   },
   "outputs": [],
   "source": [
    "class LogReg (nn.Module):\n",
    "    def __init__(self):\n",
    "        super().__init__()\n",
    "        self.linear = nn.Linear(3, 1)  # Linear layer with 3 input features and 1 output\n",
    "        self.act = nn.Sigmoid()  # Sigmoid activation function\n",
    "\n",
    "    def forward(self, x):\n",
    "        x = self.linear(x)  # Pass input through the linear layer\n",
    "        x = self.act(x)  # Apply the activation function\n",
    "        return x  # Return the output"
   ]
  },
  {
   "cell_type": "code",
   "execution_count": null,
   "metadata": {},
   "outputs": [
    {
     "name": "stdout",
     "output_type": "stream",
     "text": [
      "LogReg(\n",
      "  (linear): Linear(in_features=3, out_features=1, bias=True)\n",
      "  (act): Sigmoid()\n",
      ")\n"
     ]
    }
   ],
   "source": [
    "model = LogReg()\n",
    "print(model)"
   ]
  },
  {
   "cell_type": "markdown",
   "metadata": {
    "id": "RflV7xeVyoJy"
   },
   "source": [
    "10. Set the optimizer `Stochastic Gradient Descent` in the variable `opt` for training the logistic regression model. Also, define the loss function `binary_cross_entropy` from the `torch.nn.functional` module in the variable `loss` to calculate the model's losses. Calculate the losses for the current predictions and labels, and then output them. Draw a conclusion on whether the model has managed to learn."
   ]
  },
  {
   "cell_type": "code",
   "execution_count": null,
   "metadata": {
    "id": "3QCATPU_6yfa"
   },
   "outputs": [
    {
     "data": {
      "text/plain": [
       "tensor(9.2144, grad_fn=<BinaryCrossEntropyBackward0>)"
      ]
     },
     "execution_count": 402,
     "metadata": {},
     "output_type": "execute_result"
    }
   ],
   "source": [
    "opt = torch.optim.SGD(model.parameters(), lr=0.001)\n",
    "loss_fn = nn.functional.binary_cross_entropy\n",
    "\n",
    "loss_init = loss_fn(model(inputs), targets) # first initialization of the model\n",
    "loss_init"
   ]
  },
  {
   "cell_type": "markdown",
   "metadata": {},
   "source": [
    "# Conclusions 10\n",
    "- The obtained loss is 9.2144, but the model training has not yet occurred. We have only initialized the first parameters and ran the model with them. To train the model, we need to calculate the gradients in order to find the optimal model parameters."
   ]
  },
  {
   "cell_type": "markdown",
   "metadata": {
    "id": "ch-WrYnKzMzq"
   },
   "source": [
    "11. Take the function from the lecture for training the model with tracking loss values and train the newly defined model for 1000 epochs. After that, display the graph of loss changes, final predictions, and target values."
   ]
  },
  {
   "cell_type": "code",
   "execution_count": 403,
   "metadata": {
    "id": "cEHQH9qE626k"
   },
   "outputs": [],
   "source": [
    "def fit_return_loss(num_epochs, model, loss_fn, opt, train_dl):\n",
    "    losses = []\n",
    "    for epoch in range(num_epochs):\n",
    "        total_loss = 0\n",
    "\n",
    "        for xb, yb in train_dl:\n",
    "\n",
    "            pred = model(xb)\n",
    "            loss = loss_fn(pred, yb)\n",
    "\n",
    "            loss.backward()\n",
    "            opt.step()\n",
    "            opt.zero_grad()\n",
    "\n",
    "            total_loss += loss.item()\n",
    "\n",
    "        if (epoch % 100 == 0):   \n",
    "            print(f'epoch {epoch}: loss = {loss}')     \n",
    "\n",
    "        avg_loss = total_loss / len(train_dl)\n",
    "        losses.append(avg_loss)\n",
    "\n",
    "    print(f'epoch {epoch}: loss = {loss}') # loss of the last epoch\n",
    "          \n",
    "    return losses"
   ]
  },
  {
   "cell_type": "code",
   "execution_count": 404,
   "metadata": {},
   "outputs": [
    {
     "name": "stdout",
     "output_type": "stream",
     "text": [
      "epoch 0: loss = 1.9916292428970337\n",
      "epoch 100: loss = 0.11025049537420273\n",
      "epoch 200: loss = 0.08742950856685638\n",
      "epoch 300: loss = 0.0842357724905014\n",
      "epoch 400: loss = 0.05680143088102341\n",
      "epoch 500: loss = 0.021527491509914398\n",
      "epoch 600: loss = 0.06468236446380615\n",
      "epoch 700: loss = 0.015324542298913002\n",
      "epoch 800: loss = 0.03839382156729698\n",
      "epoch 900: loss = 6.565875979495828e-18\n",
      "epoch 999: loss = 0.03812045603990555\n"
     ]
    }
   ],
   "source": [
    "loss_all = fit_return_loss(1000, model, loss_fn, opt, train_dl)  # Train the model for 1000 epochs and return the loss"
   ]
  },
  {
   "cell_type": "code",
   "execution_count": null,
   "metadata": {},
   "outputs": [
    {
     "data": {
      "image/png": "[encoded data removed]",
      "text/plain": [
       "<Figure size 1000x500 with 1 Axes>"
      ]
     },
     "metadata": {},
     "output_type": "display_data"
    }
   ],
   "source": [
    "import matplotlib.pyplot as plt\n",
    "plt.figure(figsize=(10, 5))\n",
    "plt.plot(loss_all)\n",
    "plt.title('Loss vs Epochs') \n",
    "plt.xlabel('Epochs')  \n",
    "plt.ylabel('Loss')  \n",
    "\n",
    "plt.show()"
   ]
  },
  {
   "cell_type": "code",
   "execution_count": null,
   "metadata": {},
   "outputs": [
    {
     "data": {
      "image/png": "[encoded data removed]",
      "text/plain": [
       "<Figure size 1000x500 with 1 Axes>"
      ]
     },
     "metadata": {},
     "output_type": "display_data"
    }
   ],
   "source": [
    "import matplotlib.pyplot as plt\n",
    "plt.figure(figsize=(10, 5))\n",
    "plt.plot(loss_all)\n",
    "plt.title('Zoomed up the loss-epoch plot (OY [0, 1])')\n",
    "plt.xlabel('Epochs') \n",
    "plt.ylabel('Loss')  \n",
    "plt.ylim(0, 1) \n",
    "plt.show()  "
   ]
  },
  {
   "cell_type": "code",
   "execution_count": 406,
   "metadata": {},
   "outputs": [
    {
     "name": "stdout",
     "output_type": "stream",
     "text": [
      "accuracy = 1.0\n"
     ]
    },
    {
     "data": {
      "text/plain": [
       "(tensor([[0],\n",
       "         [1],\n",
       "         [1],\n",
       "         [0],\n",
       "         [1],\n",
       "         [0],\n",
       "         [1],\n",
       "         [1],\n",
       "         [0],\n",
       "         [1],\n",
       "         [0],\n",
       "         [1],\n",
       "         [1],\n",
       "         [0],\n",
       "         [1]], dtype=torch.int32),\n",
       " tensor([[0.],\n",
       "         [1.],\n",
       "         [1.],\n",
       "         [0.],\n",
       "         [1.],\n",
       "         [0.],\n",
       "         [1.],\n",
       "         [1.],\n",
       "         [0.],\n",
       "         [1.],\n",
       "         [0.],\n",
       "         [1.],\n",
       "         [1.],\n",
       "         [0.],\n",
       "         [1.]]))"
      ]
     },
     "execution_count": 406,
     "metadata": {},
     "output_type": "execute_result"
    }
   ],
   "source": [
    "preds = model(inputs)\n",
    "accuracy = (preds > 0.5).int() == targets.int()\n",
    "accuracy = accuracy.float().sum() / len(accuracy)\n",
    "print(f'accuracy = {accuracy}')\n",
    "(preds > 0.5).int(), targets  "
   ]
  },
  {
   "cell_type": "markdown",
   "metadata": {},
   "source": [
    "# Conclusions\n",
    "- The predictions for the model were perfect, and it completely accurately predicts all the labels of the records.\n",
    "- The loss graph also shows that the model quickly reduced the loss in the first few epochs. Then, until the 200th epoch, fluctuations were observed (due to the fact that we split the data into batches and the weights were updated each time for different parts of the dataset, which could introduce \"noise\"). After that, the model managed to stabilize with minimal fluctuations in the loss function. After a thousand epochs, a loss of 0.038 was achieved."
   ]
  }
 ],
 "metadata": {
  "colab": {
   "provenance": []
  },
  "kernelspec": {
   "display_name": "BMEN619",
   "language": "python",
   "name": "python3"
  },
  "language_info": {
   "codemirror_mode": {
    "name": "ipython",
    "version": 3
   },
   "file_extension": ".py",
   "mimetype": "text/x-python",
   "name": "python",
   "nbconvert_exporter": "python",
   "pygments_lexer": "ipython3",
   "version": "3.10.13"
  }
 },
 "nbformat": 4,
 "nbformat_minor": 0
}
